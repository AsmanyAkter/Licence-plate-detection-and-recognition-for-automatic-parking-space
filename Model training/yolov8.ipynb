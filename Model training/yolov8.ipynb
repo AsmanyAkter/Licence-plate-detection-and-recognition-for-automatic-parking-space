{
 "cells": [
  {
   "cell_type": "markdown",
   "id": "ace85751-846e-46d6-b031-c8d089eb3b1b",
   "metadata": {},
   "source": [
    "## Training - YOLOV8n"
   ]
  },
  {
   "cell_type": "code",
   "execution_count": 1,
   "id": "487eb585-5408-4b68-b4b5-8cc720960d37",
   "metadata": {},
   "outputs": [
    {
     "name": "stdout",
     "output_type": "stream",
     "text": [
      "YOLOv8n summary: 225 layers, 3,157,200 parameters, 0 gradients, 8.9 GFLOPs\n"
     ]
    },
    {
     "name": "stderr",
     "output_type": "stream",
     "text": [
      "[W NNPACK.cpp:64] Could not initialize NNPACK! Reason: Unsupported hardware.\n"
     ]
    },
    {
     "name": "stdout",
     "output_type": "stream",
     "text": [
      "Ultralytics 8.3.26 🚀 Python-3.10.12 torch-2.1.0+cu118 CUDA:0 (NVIDIA A100-SXM4-40GB MIG 3g.20gb, 19968MiB)\n",
      "\u001b[34m\u001b[1mengine/trainer: \u001b[0mtask=detect, mode=train, model=yolov8n.pt, data=/home/jovyan/AI Project/dataset.yaml, epochs=30, time=None, patience=100, batch=16, imgsz=640, save=True, save_period=-1, cache=False, device=cuda, workers=4, project=yolov8_training, name=exp6, exist_ok=False, pretrained=True, optimizer=auto, verbose=False, seed=0, deterministic=True, single_cls=False, rect=False, cos_lr=False, close_mosaic=10, resume=False, amp=True, fraction=1.0, profile=False, freeze=None, multi_scale=False, overlap_mask=True, mask_ratio=4, dropout=0.0, val=True, split=val, save_json=False, save_hybrid=False, conf=None, iou=0.7, max_det=300, half=False, dnn=False, plots=True, source=None, vid_stride=1, stream_buffer=False, visualize=False, augment=False, agnostic_nms=False, classes=None, retina_masks=False, embed=None, show=False, save_frames=False, save_txt=False, save_conf=False, save_crop=False, show_labels=True, show_conf=True, show_boxes=True, line_width=None, format=torchscript, keras=False, optimize=False, int8=False, dynamic=False, simplify=True, opset=None, workspace=4, nms=False, lr0=0.01, lrf=0.01, momentum=0.937, weight_decay=0.0005, warmup_epochs=3.0, warmup_momentum=0.8, warmup_bias_lr=0.1, box=7.5, cls=0.5, dfl=1.5, pose=12.0, kobj=1.0, label_smoothing=0.0, nbs=64, hsv_h=0.015, hsv_s=0.7, hsv_v=0.4, degrees=0.0, translate=0.1, scale=0.5, shear=0.0, perspective=0.0, flipud=0.0, fliplr=0.5, bgr=0.0, mosaic=1.0, mixup=0.0, copy_paste=0.0, copy_paste_mode=flip, auto_augment=randaugment, erasing=0.4, crop_fraction=1.0, cfg=None, tracker=botsort.yaml, save_dir=yolov8_training/exp6\n",
      "Overriding model.yaml nc=80 with nc=1\n",
      "\n",
      "                   from  n    params  module                                       arguments                     \n",
      "  0                  -1  1       464  ultralytics.nn.modules.conv.Conv             [3, 16, 3, 2]                 \n",
      "  1                  -1  1      4672  ultralytics.nn.modules.conv.Conv             [16, 32, 3, 2]                \n",
      "  2                  -1  1      7360  ultralytics.nn.modules.block.C2f             [32, 32, 1, True]             \n",
      "  3                  -1  1     18560  ultralytics.nn.modules.conv.Conv             [32, 64, 3, 2]                \n",
      "  4                  -1  2     49664  ultralytics.nn.modules.block.C2f             [64, 64, 2, True]             \n",
      "  5                  -1  1     73984  ultralytics.nn.modules.conv.Conv             [64, 128, 3, 2]               \n",
      "  6                  -1  2    197632  ultralytics.nn.modules.block.C2f             [128, 128, 2, True]           \n",
      "  7                  -1  1    295424  ultralytics.nn.modules.conv.Conv             [128, 256, 3, 2]              \n",
      "  8                  -1  1    460288  ultralytics.nn.modules.block.C2f             [256, 256, 1, True]           \n",
      "  9                  -1  1    164608  ultralytics.nn.modules.block.SPPF            [256, 256, 5]                 \n",
      " 10                  -1  1         0  torch.nn.modules.upsampling.Upsample         [None, 2, 'nearest']          \n",
      " 11             [-1, 6]  1         0  ultralytics.nn.modules.conv.Concat           [1]                           \n",
      " 12                  -1  1    148224  ultralytics.nn.modules.block.C2f             [384, 128, 1]                 \n",
      " 13                  -1  1         0  torch.nn.modules.upsampling.Upsample         [None, 2, 'nearest']          \n",
      " 14             [-1, 4]  1         0  ultralytics.nn.modules.conv.Concat           [1]                           \n",
      " 15                  -1  1     37248  ultralytics.nn.modules.block.C2f             [192, 64, 1]                  \n",
      " 16                  -1  1     36992  ultralytics.nn.modules.conv.Conv             [64, 64, 3, 2]                \n",
      " 17            [-1, 12]  1         0  ultralytics.nn.modules.conv.Concat           [1]                           \n",
      " 18                  -1  1    123648  ultralytics.nn.modules.block.C2f             [192, 128, 1]                 \n",
      " 19                  -1  1    147712  ultralytics.nn.modules.conv.Conv             [128, 128, 3, 2]              \n",
      " 20             [-1, 9]  1         0  ultralytics.nn.modules.conv.Concat           [1]                           \n",
      " 21                  -1  1    493056  ultralytics.nn.modules.block.C2f             [384, 256, 1]                 \n",
      " 22        [15, 18, 21]  1    751507  ultralytics.nn.modules.head.Detect           [1, [64, 128, 256]]           \n",
      "Model summary: 225 layers, 3,011,043 parameters, 3,011,027 gradients, 8.2 GFLOPs\n",
      "\n",
      "Transferred 319/355 items from pretrained weights\n",
      "\u001b[34m\u001b[1mTensorBoard: \u001b[0mStart with 'tensorboard --logdir yolov8_training/exp6', view at http://localhost:6006/\n",
      "Freezing layer 'model.22.dfl.conv.weight'\n",
      "\u001b[34m\u001b[1mAMP: \u001b[0mrunning Automatic Mixed Precision (AMP) checks...\n"
     ]
    },
    {
     "name": "stderr",
     "output_type": "stream",
     "text": [
      "/opt/conda/lib/python3.10/site-packages/torch/nn/modules/conv.py:456: UserWarning: Applied workaround for CuDNN issue, install nvrtc.so (Triggered internally at ../aten/src/ATen/native/cudnn/Conv_v8.cpp:80.)\n",
      "  return F.conv2d(input, weight, bias, self.stride,\n"
     ]
    },
    {
     "name": "stdout",
     "output_type": "stream",
     "text": [
      "\u001b[34m\u001b[1mAMP: \u001b[0mchecks passed ✅\n"
     ]
    },
    {
     "name": "stderr",
     "output_type": "stream",
     "text": [
      "\u001b[34m\u001b[1mtrain: \u001b[0mScanning /home/jovyan/AI Project/licence plate dataset/train/labels.cache... 695 images, 0 backgrounds, 0 corrupt: 100%|██████████| 695/695 [00:00<?, ?it/s]\n",
      "\u001b[34m\u001b[1mval: \u001b[0mScanning /home/jovyan/AI Project/licence plate dataset/val/labels.cache... 200 images, 0 backgrounds, 0 corrupt: 100%|██████████| 200/200 [00:00<?, ?it/s]\n"
     ]
    },
    {
     "name": "stdout",
     "output_type": "stream",
     "text": [
      "Plotting labels to yolov8_training/exp6/labels.jpg... \n",
      "\u001b[34m\u001b[1moptimizer:\u001b[0m 'optimizer=auto' found, ignoring 'lr0=0.01' and 'momentum=0.937' and determining best 'optimizer', 'lr0' and 'momentum' automatically... \n",
      "\u001b[34m\u001b[1moptimizer:\u001b[0m AdamW(lr=0.002, momentum=0.9) with parameter groups 57 weight(decay=0.0), 64 weight(decay=0.0005), 63 bias(decay=0.0)\n",
      "\u001b[34m\u001b[1mTensorBoard: \u001b[0mmodel graph visualization added ✅\n",
      "Image sizes 640 train, 640 val\n",
      "Using 4 dataloader workers\n",
      "Logging results to \u001b[1myolov8_training/exp6\u001b[0m\n",
      "Starting training for 30 epochs...\n",
      "\n",
      "      Epoch    GPU_mem   box_loss   cls_loss   dfl_loss  Instances       Size\n"
     ]
    },
    {
     "name": "stderr",
     "output_type": "stream",
     "text": [
      "       1/30      2.25G      1.318      2.796       1.21         17        640: 100%|██████████| 44/44 [00:04<00:00, 10.18it/s]\n",
      "                 Class     Images  Instances      Box(P          R      mAP50  mAP50-95): 100%|██████████| 7/7 [00:00<00:00,  7.97it/s]"
     ]
    },
    {
     "name": "stdout",
     "output_type": "stream",
     "text": [
      "                   all        200        200      0.745     0.0877      0.474      0.308\n"
     ]
    },
    {
     "name": "stderr",
     "output_type": "stream",
     "text": [
      "\n"
     ]
    },
    {
     "name": "stdout",
     "output_type": "stream",
     "text": [
      "\n",
      "      Epoch    GPU_mem   box_loss   cls_loss   dfl_loss  Instances       Size\n"
     ]
    },
    {
     "name": "stderr",
     "output_type": "stream",
     "text": [
      "       2/30      2.31G       1.24      1.732      1.148         10        640: 100%|██████████| 44/44 [00:03<00:00, 12.77it/s]\n",
      "                 Class     Images  Instances      Box(P          R      mAP50  mAP50-95): 100%|██████████| 7/7 [00:00<00:00,  9.24it/s]"
     ]
    },
    {
     "name": "stdout",
     "output_type": "stream",
     "text": [
      "                   all        200        200      0.304       0.21      0.155     0.0804\n"
     ]
    },
    {
     "name": "stderr",
     "output_type": "stream",
     "text": [
      "\n"
     ]
    },
    {
     "name": "stdout",
     "output_type": "stream",
     "text": [
      "\n",
      "      Epoch    GPU_mem   box_loss   cls_loss   dfl_loss  Instances       Size\n"
     ]
    },
    {
     "name": "stderr",
     "output_type": "stream",
     "text": [
      "       3/30      2.23G      1.282      1.495      1.152         12        640: 100%|██████████| 44/44 [00:03<00:00, 13.12it/s]\n",
      "                 Class     Images  Instances      Box(P          R      mAP50  mAP50-95): 100%|██████████| 7/7 [00:00<00:00, 10.86it/s]"
     ]
    },
    {
     "name": "stdout",
     "output_type": "stream",
     "text": [
      "                   all        200        200      0.799      0.595      0.666       0.41\n"
     ]
    },
    {
     "name": "stderr",
     "output_type": "stream",
     "text": [
      "\n"
     ]
    },
    {
     "name": "stdout",
     "output_type": "stream",
     "text": [
      "\n",
      "      Epoch    GPU_mem   box_loss   cls_loss   dfl_loss  Instances       Size\n"
     ]
    },
    {
     "name": "stderr",
     "output_type": "stream",
     "text": [
      "       4/30      2.32G      1.279      1.304      1.166          9        640: 100%|██████████| 44/44 [00:03<00:00, 13.31it/s]\n",
      "                 Class     Images  Instances      Box(P          R      mAP50  mAP50-95): 100%|██████████| 7/7 [00:00<00:00, 10.86it/s]"
     ]
    },
    {
     "name": "stdout",
     "output_type": "stream",
     "text": [
      "                   all        200        200      0.797       0.72      0.762      0.463\n"
     ]
    },
    {
     "name": "stderr",
     "output_type": "stream",
     "text": [
      "\n"
     ]
    },
    {
     "name": "stdout",
     "output_type": "stream",
     "text": [
      "\n",
      "      Epoch    GPU_mem   box_loss   cls_loss   dfl_loss  Instances       Size\n"
     ]
    },
    {
     "name": "stderr",
     "output_type": "stream",
     "text": [
      "       5/30      2.32G      1.248      1.174      1.155         16        640: 100%|██████████| 44/44 [00:03<00:00, 13.13it/s]\n",
      "                 Class     Images  Instances      Box(P          R      mAP50  mAP50-95): 100%|██████████| 7/7 [00:00<00:00,  9.93it/s]"
     ]
    },
    {
     "name": "stdout",
     "output_type": "stream",
     "text": [
      "                   all        200        200      0.885      0.848      0.878       0.51\n"
     ]
    },
    {
     "name": "stderr",
     "output_type": "stream",
     "text": [
      "\n"
     ]
    },
    {
     "name": "stdout",
     "output_type": "stream",
     "text": [
      "\n",
      "      Epoch    GPU_mem   box_loss   cls_loss   dfl_loss  Instances       Size\n"
     ]
    },
    {
     "name": "stderr",
     "output_type": "stream",
     "text": [
      "       6/30      2.32G      1.228      1.078       1.15          6        640: 100%|██████████| 44/44 [00:03<00:00, 13.23it/s]\n",
      "                 Class     Images  Instances      Box(P          R      mAP50  mAP50-95): 100%|██████████| 7/7 [00:00<00:00, 10.63it/s]"
     ]
    },
    {
     "name": "stdout",
     "output_type": "stream",
     "text": [
      "                   all        200        200      0.891        0.8      0.876      0.583\n"
     ]
    },
    {
     "name": "stderr",
     "output_type": "stream",
     "text": [
      "\n"
     ]
    },
    {
     "name": "stdout",
     "output_type": "stream",
     "text": [
      "\n",
      "      Epoch    GPU_mem   box_loss   cls_loss   dfl_loss  Instances       Size\n"
     ]
    },
    {
     "name": "stderr",
     "output_type": "stream",
     "text": [
      "       7/30      2.32G      1.235      1.029      1.151         10        640: 100%|██████████| 44/44 [00:03<00:00, 12.92it/s]\n",
      "                 Class     Images  Instances      Box(P          R      mAP50  mAP50-95): 100%|██████████| 7/7 [00:00<00:00, 11.13it/s]"
     ]
    },
    {
     "name": "stdout",
     "output_type": "stream",
     "text": [
      "                   all        200        200      0.902       0.84      0.913      0.616\n"
     ]
    },
    {
     "name": "stderr",
     "output_type": "stream",
     "text": [
      "\n"
     ]
    },
    {
     "name": "stdout",
     "output_type": "stream",
     "text": [
      "\n",
      "      Epoch    GPU_mem   box_loss   cls_loss   dfl_loss  Instances       Size\n"
     ]
    },
    {
     "name": "stderr",
     "output_type": "stream",
     "text": [
      "       8/30      2.32G      1.154     0.9435       1.12         12        640: 100%|██████████| 44/44 [00:03<00:00, 13.38it/s]\n",
      "                 Class     Images  Instances      Box(P          R      mAP50  mAP50-95): 100%|██████████| 7/7 [00:00<00:00, 11.29it/s]"
     ]
    },
    {
     "name": "stdout",
     "output_type": "stream",
     "text": [
      "                   all        200        200      0.873      0.857       0.88       0.59\n"
     ]
    },
    {
     "name": "stderr",
     "output_type": "stream",
     "text": [
      "\n"
     ]
    },
    {
     "name": "stdout",
     "output_type": "stream",
     "text": [
      "\n",
      "      Epoch    GPU_mem   box_loss   cls_loss   dfl_loss  Instances       Size\n"
     ]
    },
    {
     "name": "stderr",
     "output_type": "stream",
     "text": [
      "       9/30      2.32G      1.118     0.8609      1.093          8        640: 100%|██████████| 44/44 [00:03<00:00, 13.16it/s]\n",
      "                 Class     Images  Instances      Box(P          R      mAP50  mAP50-95): 100%|██████████| 7/7 [00:00<00:00, 11.48it/s]"
     ]
    },
    {
     "name": "stdout",
     "output_type": "stream",
     "text": [
      "                   all        200        200      0.865      0.894      0.876      0.567\n"
     ]
    },
    {
     "name": "stderr",
     "output_type": "stream",
     "text": [
      "\n"
     ]
    },
    {
     "name": "stdout",
     "output_type": "stream",
     "text": [
      "\n",
      "      Epoch    GPU_mem   box_loss   cls_loss   dfl_loss  Instances       Size\n"
     ]
    },
    {
     "name": "stderr",
     "output_type": "stream",
     "text": [
      "      10/30      2.32G      1.125     0.8351      1.093          8        640: 100%|██████████| 44/44 [00:03<00:00, 13.23it/s]\n",
      "                 Class     Images  Instances      Box(P          R      mAP50  mAP50-95): 100%|██████████| 7/7 [00:00<00:00, 11.45it/s]"
     ]
    },
    {
     "name": "stdout",
     "output_type": "stream",
     "text": [
      "                   all        200        200      0.884      0.895      0.891      0.614\n"
     ]
    },
    {
     "name": "stderr",
     "output_type": "stream",
     "text": [
      "\n"
     ]
    },
    {
     "name": "stdout",
     "output_type": "stream",
     "text": [
      "\n",
      "      Epoch    GPU_mem   box_loss   cls_loss   dfl_loss  Instances       Size\n"
     ]
    },
    {
     "name": "stderr",
     "output_type": "stream",
     "text": [
      "      11/30      2.32G      1.106     0.7639      1.088         11        640: 100%|██████████| 44/44 [00:03<00:00, 13.36it/s]\n",
      "                 Class     Images  Instances      Box(P          R      mAP50  mAP50-95): 100%|██████████| 7/7 [00:00<00:00, 11.56it/s]"
     ]
    },
    {
     "name": "stdout",
     "output_type": "stream",
     "text": [
      "                   all        200        200      0.871       0.92      0.911      0.633\n"
     ]
    },
    {
     "name": "stderr",
     "output_type": "stream",
     "text": [
      "\n"
     ]
    },
    {
     "name": "stdout",
     "output_type": "stream",
     "text": [
      "\n",
      "      Epoch    GPU_mem   box_loss   cls_loss   dfl_loss  Instances       Size\n"
     ]
    },
    {
     "name": "stderr",
     "output_type": "stream",
     "text": [
      "      12/30      2.32G      1.083     0.7386      1.095          8        640: 100%|██████████| 44/44 [00:03<00:00, 13.11it/s]\n",
      "                 Class     Images  Instances      Box(P          R      mAP50  mAP50-95): 100%|██████████| 7/7 [00:00<00:00, 11.84it/s]"
     ]
    },
    {
     "name": "stdout",
     "output_type": "stream",
     "text": [
      "                   all        200        200      0.876        0.9      0.897      0.592\n"
     ]
    },
    {
     "name": "stderr",
     "output_type": "stream",
     "text": [
      "\n"
     ]
    },
    {
     "name": "stdout",
     "output_type": "stream",
     "text": [
      "\n",
      "      Epoch    GPU_mem   box_loss   cls_loss   dfl_loss  Instances       Size\n"
     ]
    },
    {
     "name": "stderr",
     "output_type": "stream",
     "text": [
      "      13/30      2.32G      1.061     0.7233      1.066         14        640: 100%|██████████| 44/44 [00:03<00:00, 13.39it/s]\n",
      "                 Class     Images  Instances      Box(P          R      mAP50  mAP50-95): 100%|██████████| 7/7 [00:00<00:00, 11.95it/s]"
     ]
    },
    {
     "name": "stdout",
     "output_type": "stream",
     "text": [
      "                   all        200        200      0.875      0.911      0.914      0.624\n"
     ]
    },
    {
     "name": "stderr",
     "output_type": "stream",
     "text": [
      "\n"
     ]
    },
    {
     "name": "stdout",
     "output_type": "stream",
     "text": [
      "\n",
      "      Epoch    GPU_mem   box_loss   cls_loss   dfl_loss  Instances       Size\n"
     ]
    },
    {
     "name": "stderr",
     "output_type": "stream",
     "text": [
      "      14/30      2.32G      1.085     0.7224      1.089          9        640: 100%|██████████| 44/44 [00:03<00:00, 13.36it/s]\n",
      "                 Class     Images  Instances      Box(P          R      mAP50  mAP50-95): 100%|██████████| 7/7 [00:00<00:00, 11.53it/s]"
     ]
    },
    {
     "name": "stdout",
     "output_type": "stream",
     "text": [
      "                   all        200        200      0.896      0.862      0.903      0.603\n"
     ]
    },
    {
     "name": "stderr",
     "output_type": "stream",
     "text": [
      "\n"
     ]
    },
    {
     "name": "stdout",
     "output_type": "stream",
     "text": [
      "\n",
      "      Epoch    GPU_mem   box_loss   cls_loss   dfl_loss  Instances       Size\n"
     ]
    },
    {
     "name": "stderr",
     "output_type": "stream",
     "text": [
      "      15/30      2.32G      1.029     0.6997       1.04         11        640: 100%|██████████| 44/44 [00:03<00:00, 13.27it/s]\n",
      "                 Class     Images  Instances      Box(P          R      mAP50  mAP50-95): 100%|██████████| 7/7 [00:00<00:00, 11.27it/s]"
     ]
    },
    {
     "name": "stdout",
     "output_type": "stream",
     "text": [
      "                   all        200        200      0.891      0.936      0.925      0.671\n"
     ]
    },
    {
     "name": "stderr",
     "output_type": "stream",
     "text": [
      "\n"
     ]
    },
    {
     "name": "stdout",
     "output_type": "stream",
     "text": [
      "\n",
      "      Epoch    GPU_mem   box_loss   cls_loss   dfl_loss  Instances       Size\n"
     ]
    },
    {
     "name": "stderr",
     "output_type": "stream",
     "text": [
      "      16/30      2.32G       1.02     0.7008       1.04          7        640: 100%|██████████| 44/44 [00:03<00:00, 13.50it/s]\n",
      "                 Class     Images  Instances      Box(P          R      mAP50  mAP50-95): 100%|██████████| 7/7 [00:00<00:00, 11.84it/s]"
     ]
    },
    {
     "name": "stdout",
     "output_type": "stream",
     "text": [
      "                   all        200        200      0.878      0.936      0.929      0.684\n"
     ]
    },
    {
     "name": "stderr",
     "output_type": "stream",
     "text": [
      "\n"
     ]
    },
    {
     "name": "stdout",
     "output_type": "stream",
     "text": [
      "\n",
      "      Epoch    GPU_mem   box_loss   cls_loss   dfl_loss  Instances       Size\n"
     ]
    },
    {
     "name": "stderr",
     "output_type": "stream",
     "text": [
      "      17/30      2.32G       1.01     0.6602      1.052          8        640: 100%|██████████| 44/44 [00:03<00:00, 13.55it/s]\n",
      "                 Class     Images  Instances      Box(P          R      mAP50  mAP50-95): 100%|██████████| 7/7 [00:00<00:00, 11.86it/s]"
     ]
    },
    {
     "name": "stdout",
     "output_type": "stream",
     "text": [
      "                   all        200        200      0.929      0.914      0.926      0.632\n"
     ]
    },
    {
     "name": "stderr",
     "output_type": "stream",
     "text": [
      "\n"
     ]
    },
    {
     "name": "stdout",
     "output_type": "stream",
     "text": [
      "\n",
      "      Epoch    GPU_mem   box_loss   cls_loss   dfl_loss  Instances       Size\n"
     ]
    },
    {
     "name": "stderr",
     "output_type": "stream",
     "text": [
      "      18/30      2.32G      1.023     0.6514      1.055          8        640: 100%|██████████| 44/44 [00:03<00:00, 13.60it/s]\n",
      "                 Class     Images  Instances      Box(P          R      mAP50  mAP50-95): 100%|██████████| 7/7 [00:00<00:00, 11.83it/s]"
     ]
    },
    {
     "name": "stdout",
     "output_type": "stream",
     "text": [
      "                   all        200        200      0.936      0.948      0.944      0.677\n"
     ]
    },
    {
     "name": "stderr",
     "output_type": "stream",
     "text": [
      "\n"
     ]
    },
    {
     "name": "stdout",
     "output_type": "stream",
     "text": [
      "\n",
      "      Epoch    GPU_mem   box_loss   cls_loss   dfl_loss  Instances       Size\n"
     ]
    },
    {
     "name": "stderr",
     "output_type": "stream",
     "text": [
      "      19/30      2.32G     0.9674     0.6384      1.037          7        640: 100%|██████████| 44/44 [00:03<00:00, 13.13it/s]\n",
      "                 Class     Images  Instances      Box(P          R      mAP50  mAP50-95): 100%|██████████| 7/7 [00:00<00:00, 11.65it/s]"
     ]
    },
    {
     "name": "stdout",
     "output_type": "stream",
     "text": [
      "                   all        200        200      0.895       0.93       0.91      0.662\n"
     ]
    },
    {
     "name": "stderr",
     "output_type": "stream",
     "text": [
      "\n"
     ]
    },
    {
     "name": "stdout",
     "output_type": "stream",
     "text": [
      "\n",
      "      Epoch    GPU_mem   box_loss   cls_loss   dfl_loss  Instances       Size\n"
     ]
    },
    {
     "name": "stderr",
     "output_type": "stream",
     "text": [
      "      20/30      2.32G     0.9601     0.6075      1.039         10        640: 100%|██████████| 44/44 [00:03<00:00, 13.25it/s]\n",
      "                 Class     Images  Instances      Box(P          R      mAP50  mAP50-95): 100%|██████████| 7/7 [00:00<00:00, 11.91it/s]"
     ]
    },
    {
     "name": "stdout",
     "output_type": "stream",
     "text": [
      "                   all        200        200      0.919      0.913      0.942      0.689\n"
     ]
    },
    {
     "name": "stderr",
     "output_type": "stream",
     "text": [
      "\n"
     ]
    },
    {
     "name": "stdout",
     "output_type": "stream",
     "text": [
      "Closing dataloader mosaic\n",
      "\n",
      "      Epoch    GPU_mem   box_loss   cls_loss   dfl_loss  Instances       Size\n"
     ]
    },
    {
     "name": "stderr",
     "output_type": "stream",
     "text": [
      "      21/30      2.31G     0.9075     0.5638      1.004          7        640: 100%|██████████| 44/44 [00:03<00:00, 11.99it/s]\n",
      "                 Class     Images  Instances      Box(P          R      mAP50  mAP50-95): 100%|██████████| 7/7 [00:00<00:00, 11.35it/s]"
     ]
    },
    {
     "name": "stdout",
     "output_type": "stream",
     "text": [
      "                   all        200        200      0.918      0.945      0.935      0.689\n"
     ]
    },
    {
     "name": "stderr",
     "output_type": "stream",
     "text": [
      "\n"
     ]
    },
    {
     "name": "stdout",
     "output_type": "stream",
     "text": [
      "\n",
      "      Epoch    GPU_mem   box_loss   cls_loss   dfl_loss  Instances       Size\n"
     ]
    },
    {
     "name": "stderr",
     "output_type": "stream",
     "text": [
      "      22/30      2.32G     0.8934     0.5468      1.016          7        640: 100%|██████████| 44/44 [00:03<00:00, 13.02it/s]\n",
      "                 Class     Images  Instances      Box(P          R      mAP50  mAP50-95): 100%|██████████| 7/7 [00:00<00:00, 11.68it/s]"
     ]
    },
    {
     "name": "stdout",
     "output_type": "stream",
     "text": [
      "                   all        200        200      0.912      0.928      0.937      0.704\n"
     ]
    },
    {
     "name": "stderr",
     "output_type": "stream",
     "text": [
      "\n"
     ]
    },
    {
     "name": "stdout",
     "output_type": "stream",
     "text": [
      "\n",
      "      Epoch    GPU_mem   box_loss   cls_loss   dfl_loss  Instances       Size\n"
     ]
    },
    {
     "name": "stderr",
     "output_type": "stream",
     "text": [
      "      23/30      2.31G     0.8771     0.5299       1.01          7        640: 100%|██████████| 44/44 [00:03<00:00, 13.23it/s]\n",
      "                 Class     Images  Instances      Box(P          R      mAP50  mAP50-95): 100%|██████████| 7/7 [00:00<00:00, 11.99it/s]"
     ]
    },
    {
     "name": "stdout",
     "output_type": "stream",
     "text": [
      "                   all        200        200      0.908      0.934      0.938      0.704\n"
     ]
    },
    {
     "name": "stderr",
     "output_type": "stream",
     "text": [
      "\n"
     ]
    },
    {
     "name": "stdout",
     "output_type": "stream",
     "text": [
      "\n",
      "      Epoch    GPU_mem   box_loss   cls_loss   dfl_loss  Instances       Size\n"
     ]
    },
    {
     "name": "stderr",
     "output_type": "stream",
     "text": [
      "      24/30      2.31G     0.8525     0.5219     0.9955          7        640: 100%|██████████| 44/44 [00:03<00:00, 13.27it/s]\n",
      "                 Class     Images  Instances      Box(P          R      mAP50  mAP50-95): 100%|██████████| 7/7 [00:00<00:00, 11.41it/s]"
     ]
    },
    {
     "name": "stdout",
     "output_type": "stream",
     "text": [
      "                   all        200        200      0.928       0.94      0.935      0.705\n"
     ]
    },
    {
     "name": "stderr",
     "output_type": "stream",
     "text": [
      "\n"
     ]
    },
    {
     "name": "stdout",
     "output_type": "stream",
     "text": [
      "\n",
      "      Epoch    GPU_mem   box_loss   cls_loss   dfl_loss  Instances       Size\n"
     ]
    },
    {
     "name": "stderr",
     "output_type": "stream",
     "text": [
      "      25/30      2.31G      0.822     0.4968     0.9919          7        640: 100%|██████████| 44/44 [00:03<00:00, 13.27it/s]\n",
      "                 Class     Images  Instances      Box(P          R      mAP50  mAP50-95): 100%|██████████| 7/7 [00:00<00:00, 11.49it/s]"
     ]
    },
    {
     "name": "stdout",
     "output_type": "stream",
     "text": [
      "                   all        200        200      0.924       0.94      0.945      0.718\n"
     ]
    },
    {
     "name": "stderr",
     "output_type": "stream",
     "text": [
      "\n"
     ]
    },
    {
     "name": "stdout",
     "output_type": "stream",
     "text": [
      "\n",
      "      Epoch    GPU_mem   box_loss   cls_loss   dfl_loss  Instances       Size\n"
     ]
    },
    {
     "name": "stderr",
     "output_type": "stream",
     "text": [
      "      26/30      2.31G     0.8411      0.498     0.9958          7        640: 100%|██████████| 44/44 [00:03<00:00, 13.35it/s]\n",
      "                 Class     Images  Instances      Box(P          R      mAP50  mAP50-95): 100%|██████████| 7/7 [00:00<00:00, 11.67it/s]"
     ]
    },
    {
     "name": "stdout",
     "output_type": "stream",
     "text": [
      "                   all        200        200      0.924       0.95      0.941      0.719\n"
     ]
    },
    {
     "name": "stderr",
     "output_type": "stream",
     "text": [
      "\n"
     ]
    },
    {
     "name": "stdout",
     "output_type": "stream",
     "text": [
      "\n",
      "      Epoch    GPU_mem   box_loss   cls_loss   dfl_loss  Instances       Size\n"
     ]
    },
    {
     "name": "stderr",
     "output_type": "stream",
     "text": [
      "      27/30      2.32G     0.7998     0.4705     0.9695          7        640: 100%|██████████| 44/44 [00:03<00:00, 13.44it/s]\n",
      "                 Class     Images  Instances      Box(P          R      mAP50  mAP50-95): 100%|██████████| 7/7 [00:00<00:00, 11.23it/s]"
     ]
    },
    {
     "name": "stdout",
     "output_type": "stream",
     "text": [
      "                   all        200        200      0.939       0.94      0.943      0.731\n"
     ]
    },
    {
     "name": "stderr",
     "output_type": "stream",
     "text": [
      "\n"
     ]
    },
    {
     "name": "stdout",
     "output_type": "stream",
     "text": [
      "\n",
      "      Epoch    GPU_mem   box_loss   cls_loss   dfl_loss  Instances       Size\n"
     ]
    },
    {
     "name": "stderr",
     "output_type": "stream",
     "text": [
      "      28/30      2.31G     0.7774      0.462     0.9641          7        640: 100%|██████████| 44/44 [00:03<00:00, 13.14it/s]\n",
      "                 Class     Images  Instances      Box(P          R      mAP50  mAP50-95): 100%|██████████| 7/7 [00:00<00:00, 11.77it/s]"
     ]
    },
    {
     "name": "stdout",
     "output_type": "stream",
     "text": [
      "                   all        200        200      0.943      0.916      0.943      0.741\n"
     ]
    },
    {
     "name": "stderr",
     "output_type": "stream",
     "text": [
      "\n"
     ]
    },
    {
     "name": "stdout",
     "output_type": "stream",
     "text": [
      "\n",
      "      Epoch    GPU_mem   box_loss   cls_loss   dfl_loss  Instances       Size\n"
     ]
    },
    {
     "name": "stderr",
     "output_type": "stream",
     "text": [
      "      29/30      2.32G     0.7494     0.4381     0.9651          7        640: 100%|██████████| 44/44 [00:03<00:00, 13.41it/s]\n",
      "                 Class     Images  Instances      Box(P          R      mAP50  mAP50-95): 100%|██████████| 7/7 [00:00<00:00, 11.78it/s]"
     ]
    },
    {
     "name": "stdout",
     "output_type": "stream",
     "text": [
      "                   all        200        200      0.939      0.928      0.945      0.741\n"
     ]
    },
    {
     "name": "stderr",
     "output_type": "stream",
     "text": [
      "\n"
     ]
    },
    {
     "name": "stdout",
     "output_type": "stream",
     "text": [
      "\n",
      "      Epoch    GPU_mem   box_loss   cls_loss   dfl_loss  Instances       Size\n"
     ]
    },
    {
     "name": "stderr",
     "output_type": "stream",
     "text": [
      "      30/30      2.31G     0.7337     0.4414     0.9568          7        640: 100%|██████████| 44/44 [00:03<00:00, 13.22it/s]\n",
      "                 Class     Images  Instances      Box(P          R      mAP50  mAP50-95): 100%|██████████| 7/7 [00:00<00:00, 11.48it/s]"
     ]
    },
    {
     "name": "stdout",
     "output_type": "stream",
     "text": [
      "                   all        200        200      0.949       0.94      0.949      0.742\n"
     ]
    },
    {
     "name": "stderr",
     "output_type": "stream",
     "text": [
      "\n"
     ]
    },
    {
     "name": "stdout",
     "output_type": "stream",
     "text": [
      "\n",
      "30 epochs completed in 0.038 hours.\n",
      "Optimizer stripped from yolov8_training/exp6/weights/last.pt, 6.2MB\n",
      "Optimizer stripped from yolov8_training/exp6/weights/best.pt, 6.2MB\n",
      "\n",
      "Validating yolov8_training/exp6/weights/best.pt...\n",
      "Ultralytics 8.3.26 🚀 Python-3.10.12 torch-2.1.0+cu118 CUDA:0 (NVIDIA A100-SXM4-40GB MIG 3g.20gb, 19968MiB)\n",
      "Model summary (fused): 168 layers, 3,005,843 parameters, 0 gradients, 8.1 GFLOPs\n"
     ]
    },
    {
     "name": "stderr",
     "output_type": "stream",
     "text": [
      "                 Class     Images  Instances      Box(P          R      mAP50  mAP50-95): 100%|██████████| 7/7 [00:00<00:00,  7.89it/s]\n"
     ]
    },
    {
     "name": "stdout",
     "output_type": "stream",
     "text": [
      "                   all        200        200      0.949       0.94      0.949      0.742\n",
      "Speed: 0.1ms preprocess, 1.3ms inference, 0.0ms loss, 0.8ms postprocess per image\n",
      "Results saved to \u001b[1myolov8_training/exp6\u001b[0m\n",
      "ultralytics.utils.metrics.DetMetrics object with attributes:\n",
      "\n",
      "ap_class_index: array([0])\n",
      "box: ultralytics.utils.metrics.Metric object\n",
      "confusion_matrix: <ultralytics.utils.metrics.ConfusionMatrix object at 0x7f5391379ba0>\n",
      "curves: ['Precision-Recall(B)', 'F1-Confidence(B)', 'Precision-Confidence(B)', 'Recall-Confidence(B)']\n",
      "curves_results: [[array([          0,    0.001001,    0.002002,    0.003003,    0.004004,    0.005005,    0.006006,    0.007007,    0.008008,    0.009009,     0.01001,    0.011011,    0.012012,    0.013013,    0.014014,    0.015015,    0.016016,    0.017017,    0.018018,    0.019019,     0.02002,    0.021021,    0.022022,    0.023023,\n",
      "          0.024024,    0.025025,    0.026026,    0.027027,    0.028028,    0.029029,     0.03003,    0.031031,    0.032032,    0.033033,    0.034034,    0.035035,    0.036036,    0.037037,    0.038038,    0.039039,     0.04004,    0.041041,    0.042042,    0.043043,    0.044044,    0.045045,    0.046046,    0.047047,\n",
      "          0.048048,    0.049049,     0.05005,    0.051051,    0.052052,    0.053053,    0.054054,    0.055055,    0.056056,    0.057057,    0.058058,    0.059059,     0.06006,    0.061061,    0.062062,    0.063063,    0.064064,    0.065065,    0.066066,    0.067067,    0.068068,    0.069069,     0.07007,    0.071071,\n",
      "          0.072072,    0.073073,    0.074074,    0.075075,    0.076076,    0.077077,    0.078078,    0.079079,     0.08008,    0.081081,    0.082082,    0.083083,    0.084084,    0.085085,    0.086086,    0.087087,    0.088088,    0.089089,     0.09009,    0.091091,    0.092092,    0.093093,    0.094094,    0.095095,\n",
      "          0.096096,    0.097097,    0.098098,    0.099099,      0.1001,      0.1011,      0.1021,      0.1031,      0.1041,     0.10511,     0.10611,     0.10711,     0.10811,     0.10911,     0.11011,     0.11111,     0.11211,     0.11311,     0.11411,     0.11512,     0.11612,     0.11712,     0.11812,     0.11912,\n",
      "           0.12012,     0.12112,     0.12212,     0.12312,     0.12412,     0.12513,     0.12613,     0.12713,     0.12813,     0.12913,     0.13013,     0.13113,     0.13213,     0.13313,     0.13413,     0.13514,     0.13614,     0.13714,     0.13814,     0.13914,     0.14014,     0.14114,     0.14214,     0.14314,\n",
      "           0.14414,     0.14515,     0.14615,     0.14715,     0.14815,     0.14915,     0.15015,     0.15115,     0.15215,     0.15315,     0.15415,     0.15516,     0.15616,     0.15716,     0.15816,     0.15916,     0.16016,     0.16116,     0.16216,     0.16316,     0.16416,     0.16517,     0.16617,     0.16717,\n",
      "           0.16817,     0.16917,     0.17017,     0.17117,     0.17217,     0.17317,     0.17417,     0.17518,     0.17618,     0.17718,     0.17818,     0.17918,     0.18018,     0.18118,     0.18218,     0.18318,     0.18418,     0.18519,     0.18619,     0.18719,     0.18819,     0.18919,     0.19019,     0.19119,\n",
      "           0.19219,     0.19319,     0.19419,      0.1952,      0.1962,      0.1972,      0.1982,      0.1992,      0.2002,      0.2012,      0.2022,      0.2032,      0.2042,     0.20521,     0.20621,     0.20721,     0.20821,     0.20921,     0.21021,     0.21121,     0.21221,     0.21321,     0.21421,     0.21522,\n",
      "           0.21622,     0.21722,     0.21822,     0.21922,     0.22022,     0.22122,     0.22222,     0.22322,     0.22422,     0.22523,     0.22623,     0.22723,     0.22823,     0.22923,     0.23023,     0.23123,     0.23223,     0.23323,     0.23423,     0.23524,     0.23624,     0.23724,     0.23824,     0.23924,\n",
      "           0.24024,     0.24124,     0.24224,     0.24324,     0.24424,     0.24525,     0.24625,     0.24725,     0.24825,     0.24925,     0.25025,     0.25125,     0.25225,     0.25325,     0.25425,     0.25526,     0.25626,     0.25726,     0.25826,     0.25926,     0.26026,     0.26126,     0.26226,     0.26326,\n",
      "           0.26426,     0.26527,     0.26627,     0.26727,     0.26827,     0.26927,     0.27027,     0.27127,     0.27227,     0.27327,     0.27427,     0.27528,     0.27628,     0.27728,     0.27828,     0.27928,     0.28028,     0.28128,     0.28228,     0.28328,     0.28428,     0.28529,     0.28629,     0.28729,\n",
      "           0.28829,     0.28929,     0.29029,     0.29129,     0.29229,     0.29329,     0.29429,      0.2953,      0.2963,      0.2973,      0.2983,      0.2993,      0.3003,      0.3013,      0.3023,      0.3033,      0.3043,     0.30531,     0.30631,     0.30731,     0.30831,     0.30931,     0.31031,     0.31131,\n",
      "           0.31231,     0.31331,     0.31431,     0.31532,     0.31632,     0.31732,     0.31832,     0.31932,     0.32032,     0.32132,     0.32232,     0.32332,     0.32432,     0.32533,     0.32633,     0.32733,     0.32833,     0.32933,     0.33033,     0.33133,     0.33233,     0.33333,     0.33433,     0.33534,\n",
      "           0.33634,     0.33734,     0.33834,     0.33934,     0.34034,     0.34134,     0.34234,     0.34334,     0.34434,     0.34535,     0.34635,     0.34735,     0.34835,     0.34935,     0.35035,     0.35135,     0.35235,     0.35335,     0.35435,     0.35536,     0.35636,     0.35736,     0.35836,     0.35936,\n",
      "           0.36036,     0.36136,     0.36236,     0.36336,     0.36436,     0.36537,     0.36637,     0.36737,     0.36837,     0.36937,     0.37037,     0.37137,     0.37237,     0.37337,     0.37437,     0.37538,     0.37638,     0.37738,     0.37838,     0.37938,     0.38038,     0.38138,     0.38238,     0.38338,\n",
      "           0.38438,     0.38539,     0.38639,     0.38739,     0.38839,     0.38939,     0.39039,     0.39139,     0.39239,     0.39339,     0.39439,      0.3954,      0.3964,      0.3974,      0.3984,      0.3994,      0.4004,      0.4014,      0.4024,      0.4034,      0.4044,     0.40541,     0.40641,     0.40741,\n",
      "           0.40841,     0.40941,     0.41041,     0.41141,     0.41241,     0.41341,     0.41441,     0.41542,     0.41642,     0.41742,     0.41842,     0.41942,     0.42042,     0.42142,     0.42242,     0.42342,     0.42442,     0.42543,     0.42643,     0.42743,     0.42843,     0.42943,     0.43043,     0.43143,\n",
      "           0.43243,     0.43343,     0.43443,     0.43544,     0.43644,     0.43744,     0.43844,     0.43944,     0.44044,     0.44144,     0.44244,     0.44344,     0.44444,     0.44545,     0.44645,     0.44745,     0.44845,     0.44945,     0.45045,     0.45145,     0.45245,     0.45345,     0.45445,     0.45546,\n",
      "           0.45646,     0.45746,     0.45846,     0.45946,     0.46046,     0.46146,     0.46246,     0.46346,     0.46446,     0.46547,     0.46647,     0.46747,     0.46847,     0.46947,     0.47047,     0.47147,     0.47247,     0.47347,     0.47447,     0.47548,     0.47648,     0.47748,     0.47848,     0.47948,\n",
      "           0.48048,     0.48148,     0.48248,     0.48348,     0.48448,     0.48549,     0.48649,     0.48749,     0.48849,     0.48949,     0.49049,     0.49149,     0.49249,     0.49349,     0.49449,      0.4955,      0.4965,      0.4975,      0.4985,      0.4995,      0.5005,      0.5015,      0.5025,      0.5035,\n",
      "            0.5045,     0.50551,     0.50651,     0.50751,     0.50851,     0.50951,     0.51051,     0.51151,     0.51251,     0.51351,     0.51451,     0.51552,     0.51652,     0.51752,     0.51852,     0.51952,     0.52052,     0.52152,     0.52252,     0.52352,     0.52452,     0.52553,     0.52653,     0.52753,\n",
      "           0.52853,     0.52953,     0.53053,     0.53153,     0.53253,     0.53353,     0.53453,     0.53554,     0.53654,     0.53754,     0.53854,     0.53954,     0.54054,     0.54154,     0.54254,     0.54354,     0.54454,     0.54555,     0.54655,     0.54755,     0.54855,     0.54955,     0.55055,     0.55155,\n",
      "           0.55255,     0.55355,     0.55455,     0.55556,     0.55656,     0.55756,     0.55856,     0.55956,     0.56056,     0.56156,     0.56256,     0.56356,     0.56456,     0.56557,     0.56657,     0.56757,     0.56857,     0.56957,     0.57057,     0.57157,     0.57257,     0.57357,     0.57457,     0.57558,\n",
      "           0.57658,     0.57758,     0.57858,     0.57958,     0.58058,     0.58158,     0.58258,     0.58358,     0.58458,     0.58559,     0.58659,     0.58759,     0.58859,     0.58959,     0.59059,     0.59159,     0.59259,     0.59359,     0.59459,      0.5956,      0.5966,      0.5976,      0.5986,      0.5996,\n",
      "            0.6006,      0.6016,      0.6026,      0.6036,      0.6046,     0.60561,     0.60661,     0.60761,     0.60861,     0.60961,     0.61061,     0.61161,     0.61261,     0.61361,     0.61461,     0.61562,     0.61662,     0.61762,     0.61862,     0.61962,     0.62062,     0.62162,     0.62262,     0.62362,\n",
      "           0.62462,     0.62563,     0.62663,     0.62763,     0.62863,     0.62963,     0.63063,     0.63163,     0.63263,     0.63363,     0.63463,     0.63564,     0.63664,     0.63764,     0.63864,     0.63964,     0.64064,     0.64164,     0.64264,     0.64364,     0.64464,     0.64565,     0.64665,     0.64765,\n",
      "           0.64865,     0.64965,     0.65065,     0.65165,     0.65265,     0.65365,     0.65465,     0.65566,     0.65666,     0.65766,     0.65866,     0.65966,     0.66066,     0.66166,     0.66266,     0.66366,     0.66466,     0.66567,     0.66667,     0.66767,     0.66867,     0.66967,     0.67067,     0.67167,\n",
      "           0.67267,     0.67367,     0.67467,     0.67568,     0.67668,     0.67768,     0.67868,     0.67968,     0.68068,     0.68168,     0.68268,     0.68368,     0.68468,     0.68569,     0.68669,     0.68769,     0.68869,     0.68969,     0.69069,     0.69169,     0.69269,     0.69369,     0.69469,      0.6957,\n",
      "            0.6967,      0.6977,      0.6987,      0.6997,      0.7007,      0.7017,      0.7027,      0.7037,      0.7047,     0.70571,     0.70671,     0.70771,     0.70871,     0.70971,     0.71071,     0.71171,     0.71271,     0.71371,     0.71471,     0.71572,     0.71672,     0.71772,     0.71872,     0.71972,\n",
      "           0.72072,     0.72172,     0.72272,     0.72372,     0.72472,     0.72573,     0.72673,     0.72773,     0.72873,     0.72973,     0.73073,     0.73173,     0.73273,     0.73373,     0.73473,     0.73574,     0.73674,     0.73774,     0.73874,     0.73974,     0.74074,     0.74174,     0.74274,     0.74374,\n",
      "           0.74474,     0.74575,     0.74675,     0.74775,     0.74875,     0.74975,     0.75075,     0.75175,     0.75275,     0.75375,     0.75475,     0.75576,     0.75676,     0.75776,     0.75876,     0.75976,     0.76076,     0.76176,     0.76276,     0.76376,     0.76476,     0.76577,     0.76677,     0.76777,\n",
      "           0.76877,     0.76977,     0.77077,     0.77177,     0.77277,     0.77377,     0.77477,     0.77578,     0.77678,     0.77778,     0.77878,     0.77978,     0.78078,     0.78178,     0.78278,     0.78378,     0.78478,     0.78579,     0.78679,     0.78779,     0.78879,     0.78979,     0.79079,     0.79179,\n",
      "           0.79279,     0.79379,     0.79479,      0.7958,      0.7968,      0.7978,      0.7988,      0.7998,      0.8008,      0.8018,      0.8028,      0.8038,      0.8048,     0.80581,     0.80681,     0.80781,     0.80881,     0.80981,     0.81081,     0.81181,     0.81281,     0.81381,     0.81481,     0.81582,\n",
      "           0.81682,     0.81782,     0.81882,     0.81982,     0.82082,     0.82182,     0.82282,     0.82382,     0.82482,     0.82583,     0.82683,     0.82783,     0.82883,     0.82983,     0.83083,     0.83183,     0.83283,     0.83383,     0.83483,     0.83584,     0.83684,     0.83784,     0.83884,     0.83984,\n",
      "           0.84084,     0.84184,     0.84284,     0.84384,     0.84484,     0.84585,     0.84685,     0.84785,     0.84885,     0.84985,     0.85085,     0.85185,     0.85285,     0.85385,     0.85485,     0.85586,     0.85686,     0.85786,     0.85886,     0.85986,     0.86086,     0.86186,     0.86286,     0.86386,\n",
      "           0.86486,     0.86587,     0.86687,     0.86787,     0.86887,     0.86987,     0.87087,     0.87187,     0.87287,     0.87387,     0.87487,     0.87588,     0.87688,     0.87788,     0.87888,     0.87988,     0.88088,     0.88188,     0.88288,     0.88388,     0.88488,     0.88589,     0.88689,     0.88789,\n",
      "           0.88889,     0.88989,     0.89089,     0.89189,     0.89289,     0.89389,     0.89489,      0.8959,      0.8969,      0.8979,      0.8989,      0.8999,      0.9009,      0.9019,      0.9029,      0.9039,      0.9049,     0.90591,     0.90691,     0.90791,     0.90891,     0.90991,     0.91091,     0.91191,\n",
      "           0.91291,     0.91391,     0.91491,     0.91592,     0.91692,     0.91792,     0.91892,     0.91992,     0.92092,     0.92192,     0.92292,     0.92392,     0.92492,     0.92593,     0.92693,     0.92793,     0.92893,     0.92993,     0.93093,     0.93193,     0.93293,     0.93393,     0.93493,     0.93594,\n",
      "           0.93694,     0.93794,     0.93894,     0.93994,     0.94094,     0.94194,     0.94294,     0.94394,     0.94494,     0.94595,     0.94695,     0.94795,     0.94895,     0.94995,     0.95095,     0.95195,     0.95295,     0.95395,     0.95495,     0.95596,     0.95696,     0.95796,     0.95896,     0.95996,\n",
      "           0.96096,     0.96196,     0.96296,     0.96396,     0.96496,     0.96597,     0.96697,     0.96797,     0.96897,     0.96997,     0.97097,     0.97197,     0.97297,     0.97397,     0.97497,     0.97598,     0.97698,     0.97798,     0.97898,     0.97998,     0.98098,     0.98198,     0.98298,     0.98398,\n",
      "           0.98498,     0.98599,     0.98699,     0.98799,     0.98899,     0.98999,     0.99099,     0.99199,     0.99299,     0.99399,     0.99499,       0.996,       0.997,       0.998,       0.999,           1]), array([[          1,           1,           1,           1,           1,           1,           1,           1,           1,           1,           1,           1,           1,           1,           1,           1,           1,           1,           1,           1,           1,           1,           1,\n",
      "                  1,           1,           1,           1,           1,           1,           1,           1,           1,           1,           1,           1,           1,           1,           1,           1,           1,           1,           1,           1,           1,           1,           1,\n",
      "                  1,           1,           1,           1,           1,           1,           1,           1,           1,           1,           1,           1,           1,           1,           1,           1,           1,           1,           1,           1,           1,           1,           1,\n",
      "                  1,           1,           1,           1,           1,           1,           1,           1,           1,           1,           1,           1,           1,           1,           1,           1,           1,           1,           1,           1,           1,           1,           1,\n",
      "                  1,           1,           1,           1,           1,           1,           1,           1,           1,           1,           1,           1,           1,           1,           1,           1,           1,           1,           1,           1,           1,           1,           1,\n",
      "                  1,           1,           1,           1,           1,           1,           1,           1,           1,           1,           1,           1,           1,           1,           1,           1,           1,           1,           1,           1,           1,           1,           1,\n",
      "                  1,           1,           1,           1,           1,           1,           1,           1,           1,           1,           1,           1,           1,           1,           1,           1,           1,           1,           1,           1,           1,           1,           1,\n",
      "                  1,           1,           1,           1,           1,           1,           1,           1,           1,           1,           1,           1,           1,           1,           1,           1,           1,           1,           1,           1,           1,           1,           1,\n",
      "                  1,           1,           1,           1,           1,           1,           1,           1,           1,           1,           1,           1,           1,           1,           1,           1,           1,           1,           1,           1,           1,           1,           1,\n",
      "                  1,           1,           1,           1,           1,           1,           1,           1,           1,           1,           1,           1,           1,           1,           1,           1,           1,           1,           1,           1,           1,           1,           1,\n",
      "                  1,           1,           1,           1,           1,           1,           1,           1,           1,           1,           1,           1,           1,           1,           1,           1,           1,           1,           1,           1,           1,           1,           1,\n",
      "                  1,           1,           1,           1,           1,           1,           1,           1,           1,           1,           1,           1,           1,           1,           1,           1,           1,           1,           1,           1,           1,           1,           1,\n",
      "                  1,           1,           1,           1,           1,           1,           1,           1,           1,     0.98485,     0.98485,     0.98485,     0.98485,     0.98485,     0.98485,     0.98485,     0.98485,     0.98485,     0.98485,     0.98485,     0.98485,     0.98485,     0.98485,\n",
      "            0.98485,     0.98485,     0.98485,     0.98485,     0.98485,     0.98485,     0.98485,     0.98485,     0.98485,     0.98485,     0.98485,     0.98485,     0.98485,     0.98485,     0.98485,     0.98485,     0.98485,     0.98485,     0.98485,     0.98485,     0.98485,     0.98485,     0.98485,\n",
      "            0.98485,     0.98485,     0.98485,     0.98039,     0.98039,     0.98039,     0.98039,     0.98039,     0.98039,     0.98039,     0.98039,     0.98039,     0.98039,     0.98039,     0.98039,     0.98039,     0.98039,     0.98039,     0.98039,     0.98039,     0.98039,     0.98039,     0.98039,\n",
      "            0.98039,     0.98039,     0.98039,     0.98039,     0.98039,     0.98039,     0.98039,     0.98039,     0.98039,     0.98039,     0.98039,     0.98039,     0.98039,     0.98039,     0.98039,     0.98039,     0.98039,     0.98039,     0.98039,     0.98039,     0.98039,     0.98039,     0.98039,\n",
      "            0.98039,     0.98039,     0.98039,     0.98039,     0.98039,     0.98039,     0.98039,     0.98039,     0.98039,     0.98039,     0.98039,     0.98039,     0.98039,     0.98039,     0.98039,     0.98039,     0.98039,     0.98039,     0.98039,     0.98039,     0.98039,     0.98039,     0.98039,\n",
      "            0.98039,     0.98039,     0.98039,     0.98039,     0.98039,     0.98039,     0.98039,     0.98039,     0.98039,     0.98039,     0.98039,     0.98039,     0.98039,     0.98039,     0.98039,     0.98039,     0.98039,     0.98039,     0.98039,     0.98039,     0.98039,     0.98039,     0.98039,\n",
      "            0.98039,     0.98039,     0.98039,     0.98039,     0.98039,     0.98039,     0.98039,     0.98039,     0.98039,     0.98039,     0.98039,     0.98039,     0.98039,     0.98039,     0.98039,     0.98039,     0.98039,     0.98039,     0.98039,     0.98039,     0.98039,     0.98039,     0.98039,\n",
      "            0.98039,     0.98039,     0.98039,     0.98039,     0.98039,     0.98039,     0.98039,     0.98039,     0.98039,     0.98039,     0.98039,     0.98039,     0.98039,     0.98039,     0.98039,     0.98039,     0.98039,     0.98039,     0.98039,     0.98039,     0.98039,     0.98039,     0.98039,\n",
      "            0.98039,     0.98039,     0.98039,     0.98039,     0.98039,     0.98039,     0.98039,     0.98039,     0.98039,     0.98039,     0.98039,     0.98039,     0.98039,     0.98039,     0.98039,     0.98039,     0.98039,     0.98039,     0.98039,     0.98039,     0.98039,     0.98039,     0.98039,\n",
      "            0.98039,     0.98039,     0.98039,     0.98039,     0.98039,     0.98039,     0.98039,     0.98039,     0.98039,     0.98039,     0.98039,     0.98039,     0.98039,     0.98039,     0.98039,     0.98039,     0.98039,     0.98039,     0.98039,     0.98039,     0.98039,     0.98039,     0.98039,\n",
      "            0.98039,     0.98039,     0.98039,     0.98039,     0.98039,     0.98039,     0.98039,     0.98039,     0.98039,     0.98039,     0.98039,     0.98039,     0.98039,     0.98039,     0.98039,     0.98039,     0.98039,     0.98039,     0.98039,     0.98039,     0.98039,     0.98039,     0.98039,\n",
      "            0.98039,     0.98039,     0.98039,     0.98039,     0.98039,     0.98039,     0.98039,     0.98039,     0.98039,     0.98039,     0.98039,     0.98039,     0.98039,     0.98039,     0.98039,     0.98039,     0.98039,     0.98039,     0.98039,     0.98039,     0.98039,     0.98039,     0.98039,\n",
      "            0.98039,     0.98039,     0.98039,     0.98039,     0.98039,     0.98039,     0.98039,     0.98039,     0.98039,     0.98039,     0.98039,     0.98039,     0.98039,     0.98039,     0.98039,     0.98039,     0.98039,     0.98039,     0.98039,     0.98039,     0.98039,     0.98039,     0.98039,\n",
      "            0.98039,     0.98039,     0.98039,     0.98039,     0.98039,     0.98039,     0.98039,     0.98039,     0.98039,     0.98039,     0.98039,     0.98039,     0.98039,     0.98039,     0.98039,     0.98039,     0.98039,     0.98039,     0.98039,     0.98039,     0.98039,     0.98039,     0.98039,\n",
      "            0.98039,     0.98039,     0.98039,     0.98039,     0.98039,     0.98039,     0.98039,     0.98039,     0.98039,     0.98039,     0.98039,     0.98039,     0.98039,     0.98039,     0.98039,     0.98039,     0.98039,     0.98039,     0.98039,     0.98039,     0.98039,     0.98039,     0.98039,\n",
      "            0.98039,     0.98039,     0.98039,     0.98039,     0.98039,     0.98039,     0.98039,     0.98039,     0.98039,     0.98039,     0.98039,     0.98039,     0.98039,     0.98039,     0.98039,     0.98039,     0.98039,     0.98039,     0.98039,     0.98039,     0.98039,     0.98039,     0.98039,\n",
      "            0.98039,     0.98039,     0.98039,     0.98039,     0.98039,     0.98039,     0.98039,     0.98039,     0.98039,     0.98039,     0.98039,     0.98039,     0.98039,     0.98039,     0.98039,     0.98039,     0.98039,     0.98039,     0.98039,     0.98039,     0.98039,     0.98039,     0.98039,\n",
      "            0.98039,     0.98039,     0.98039,     0.98039,     0.98039,     0.98039,     0.98039,     0.98039,     0.98039,     0.98039,     0.98039,     0.98039,     0.98039,     0.98039,     0.98039,     0.98039,     0.98039,     0.98039,     0.98039,     0.98039,     0.98039,     0.98039,     0.98039,\n",
      "            0.98039,     0.98039,     0.98039,     0.98039,     0.98039,     0.98039,     0.98039,     0.98039,     0.98039,     0.98039,     0.98039,     0.98039,     0.98039,     0.98039,     0.98039,     0.98039,     0.98039,     0.98039,     0.98039,     0.98039,     0.98039,     0.98039,     0.98039,\n",
      "            0.98039,     0.98039,     0.98039,     0.98039,     0.98039,     0.98039,     0.98039,     0.98039,     0.98039,     0.98039,     0.98039,     0.98039,     0.98039,     0.98039,     0.98039,     0.98039,     0.98039,     0.98039,     0.98039,     0.98039,     0.98039,     0.98039,     0.98039,\n",
      "            0.98039,     0.98039,     0.98039,     0.98039,     0.98039,     0.98039,     0.98039,     0.98039,     0.98039,     0.98039,     0.98039,     0.98039,     0.98039,     0.98039,     0.97436,     0.97436,     0.97436,     0.97436,     0.97436,     0.97436,     0.97436,     0.97436,     0.97436,\n",
      "            0.97436,     0.96835,     0.96835,     0.96835,     0.96835,     0.96835,     0.96296,     0.96296,     0.96296,     0.96296,     0.96296,     0.96296,     0.96296,     0.96296,     0.96296,     0.96296,     0.96296,     0.96296,     0.96296,     0.96296,     0.96296,     0.96277,     0.96277,\n",
      "            0.96277,     0.96277,     0.96277,     0.96277,     0.96277,     0.96277,     0.96277,     0.96277,     0.96277,     0.96277,     0.96277,     0.96277,     0.96277,     0.96277,     0.96277,     0.96277,     0.96277,     0.96277,     0.96277,     0.96277,     0.96277,     0.96277,     0.96277,\n",
      "            0.96277,     0.96277,     0.96277,     0.96277,     0.96277,     0.96277,     0.96277,     0.96277,     0.96277,     0.96277,     0.96277,     0.96277,     0.96277,     0.96277,     0.96277,     0.96277,     0.96277,     0.96277,     0.96277,     0.96277,     0.96277,     0.96277,     0.96277,\n",
      "            0.96277,     0.96277,     0.96277,     0.96277,     0.96277,     0.96277,     0.96277,     0.96277,     0.96277,     0.96277,     0.96277,     0.96277,     0.96277,     0.96277,     0.96277,     0.96277,     0.96277,     0.96277,     0.96277,     0.96277,     0.96277,     0.96277,     0.96277,\n",
      "            0.96277,     0.96277,     0.96277,     0.96277,     0.96277,     0.96277,     0.96277,     0.96277,     0.96277,     0.96277,     0.96277,     0.96277,     0.96277,     0.96277,     0.96277,     0.96277,     0.96277,     0.96277,     0.96277,     0.96277,     0.96277,     0.96277,     0.96277,\n",
      "            0.96277,     0.96277,     0.96277,     0.96277,     0.96277,     0.96277,     0.96277,     0.96277,     0.96277,     0.96277,     0.96277,     0.96277,     0.96277,     0.96277,     0.96277,     0.96277,     0.96277,     0.96277,     0.96277,     0.96277,     0.96277,     0.96277,     0.96277,\n",
      "            0.96277,     0.96277,     0.96277,     0.96277,     0.96277,     0.96277,     0.96277,     0.96277,     0.95789,     0.95789,     0.95789,     0.95789,     0.95789,     0.95337,     0.95337,     0.95337,     0.95337,     0.95337,     0.95337,     0.95337,     0.95337,     0.95337,     0.95337,\n",
      "            0.94949,     0.94949,     0.94949,     0.94949,     0.94949,     0.94949,     0.94949,     0.94949,     0.94949,     0.94949,     0.94949,     0.94949,     0.94949,     0.94949,     0.94949,     0.94949,     0.94949,     0.94949,     0.94949,     0.94949,     0.93564,     0.93564,     0.93564,\n",
      "            0.93564,     0.93564,     0.91787,     0.91787,     0.91787,     0.91787,     0.91787,     0.90094,     0.90094,     0.90094,     0.90094,     0.90094,     0.88479,     0.88479,     0.88479,     0.88479,     0.88479,     0.62662,     0.62662,     0.62662,     0.62662,     0.62662,      0.5791,\n",
      "             0.5791,      0.5791,      0.5791,      0.5791,     0.27206,     0.26268,      0.2533,     0.24392,     0.23453,     0.22515,     0.21577,     0.20639,     0.19701,     0.18763,     0.17825,     0.16886,     0.15948,      0.1501,     0.14072,     0.13134,     0.12196,     0.11258,     0.10319,\n",
      "           0.093814,    0.084432,    0.075051,     0.06567,    0.056288,    0.046907,    0.037525,    0.028144,    0.018763,   0.0093814,           0]]), 'Recall', 'Precision'], [array([          0,    0.001001,    0.002002,    0.003003,    0.004004,    0.005005,    0.006006,    0.007007,    0.008008,    0.009009,     0.01001,    0.011011,    0.012012,    0.013013,    0.014014,    0.015015,    0.016016,    0.017017,    0.018018,    0.019019,     0.02002,    0.021021,    0.022022,    0.023023,\n",
      "          0.024024,    0.025025,    0.026026,    0.027027,    0.028028,    0.029029,     0.03003,    0.031031,    0.032032,    0.033033,    0.034034,    0.035035,    0.036036,    0.037037,    0.038038,    0.039039,     0.04004,    0.041041,    0.042042,    0.043043,    0.044044,    0.045045,    0.046046,    0.047047,\n",
      "          0.048048,    0.049049,     0.05005,    0.051051,    0.052052,    0.053053,    0.054054,    0.055055,    0.056056,    0.057057,    0.058058,    0.059059,     0.06006,    0.061061,    0.062062,    0.063063,    0.064064,    0.065065,    0.066066,    0.067067,    0.068068,    0.069069,     0.07007,    0.071071,\n",
      "          0.072072,    0.073073,    0.074074,    0.075075,    0.076076,    0.077077,    0.078078,    0.079079,     0.08008,    0.081081,    0.082082,    0.083083,    0.084084,    0.085085,    0.086086,    0.087087,    0.088088,    0.089089,     0.09009,    0.091091,    0.092092,    0.093093,    0.094094,    0.095095,\n",
      "          0.096096,    0.097097,    0.098098,    0.099099,      0.1001,      0.1011,      0.1021,      0.1031,      0.1041,     0.10511,     0.10611,     0.10711,     0.10811,     0.10911,     0.11011,     0.11111,     0.11211,     0.11311,     0.11411,     0.11512,     0.11612,     0.11712,     0.11812,     0.11912,\n",
      "           0.12012,     0.12112,     0.12212,     0.12312,     0.12412,     0.12513,     0.12613,     0.12713,     0.12813,     0.12913,     0.13013,     0.13113,     0.13213,     0.13313,     0.13413,     0.13514,     0.13614,     0.13714,     0.13814,     0.13914,     0.14014,     0.14114,     0.14214,     0.14314,\n",
      "           0.14414,     0.14515,     0.14615,     0.14715,     0.14815,     0.14915,     0.15015,     0.15115,     0.15215,     0.15315,     0.15415,     0.15516,     0.15616,     0.15716,     0.15816,     0.15916,     0.16016,     0.16116,     0.16216,     0.16316,     0.16416,     0.16517,     0.16617,     0.16717,\n",
      "           0.16817,     0.16917,     0.17017,     0.17117,     0.17217,     0.17317,     0.17417,     0.17518,     0.17618,     0.17718,     0.17818,     0.17918,     0.18018,     0.18118,     0.18218,     0.18318,     0.18418,     0.18519,     0.18619,     0.18719,     0.18819,     0.18919,     0.19019,     0.19119,\n",
      "           0.19219,     0.19319,     0.19419,      0.1952,      0.1962,      0.1972,      0.1982,      0.1992,      0.2002,      0.2012,      0.2022,      0.2032,      0.2042,     0.20521,     0.20621,     0.20721,     0.20821,     0.20921,     0.21021,     0.21121,     0.21221,     0.21321,     0.21421,     0.21522,\n",
      "           0.21622,     0.21722,     0.21822,     0.21922,     0.22022,     0.22122,     0.22222,     0.22322,     0.22422,     0.22523,     0.22623,     0.22723,     0.22823,     0.22923,     0.23023,     0.23123,     0.23223,     0.23323,     0.23423,     0.23524,     0.23624,     0.23724,     0.23824,     0.23924,\n",
      "           0.24024,     0.24124,     0.24224,     0.24324,     0.24424,     0.24525,     0.24625,     0.24725,     0.24825,     0.24925,     0.25025,     0.25125,     0.25225,     0.25325,     0.25425,     0.25526,     0.25626,     0.25726,     0.25826,     0.25926,     0.26026,     0.26126,     0.26226,     0.26326,\n",
      "           0.26426,     0.26527,     0.26627,     0.26727,     0.26827,     0.26927,     0.27027,     0.27127,     0.27227,     0.27327,     0.27427,     0.27528,     0.27628,     0.27728,     0.27828,     0.27928,     0.28028,     0.28128,     0.28228,     0.28328,     0.28428,     0.28529,     0.28629,     0.28729,\n",
      "           0.28829,     0.28929,     0.29029,     0.29129,     0.29229,     0.29329,     0.29429,      0.2953,      0.2963,      0.2973,      0.2983,      0.2993,      0.3003,      0.3013,      0.3023,      0.3033,      0.3043,     0.30531,     0.30631,     0.30731,     0.30831,     0.30931,     0.31031,     0.31131,\n",
      "           0.31231,     0.31331,     0.31431,     0.31532,     0.31632,     0.31732,     0.31832,     0.31932,     0.32032,     0.32132,     0.32232,     0.32332,     0.32432,     0.32533,     0.32633,     0.32733,     0.32833,     0.32933,     0.33033,     0.33133,     0.33233,     0.33333,     0.33433,     0.33534,\n",
      "           0.33634,     0.33734,     0.33834,     0.33934,     0.34034,     0.34134,     0.34234,     0.34334,     0.34434,     0.34535,     0.34635,     0.34735,     0.34835,     0.34935,     0.35035,     0.35135,     0.35235,     0.35335,     0.35435,     0.35536,     0.35636,     0.35736,     0.35836,     0.35936,\n",
      "           0.36036,     0.36136,     0.36236,     0.36336,     0.36436,     0.36537,     0.36637,     0.36737,     0.36837,     0.36937,     0.37037,     0.37137,     0.37237,     0.37337,     0.37437,     0.37538,     0.37638,     0.37738,     0.37838,     0.37938,     0.38038,     0.38138,     0.38238,     0.38338,\n",
      "           0.38438,     0.38539,     0.38639,     0.38739,     0.38839,     0.38939,     0.39039,     0.39139,     0.39239,     0.39339,     0.39439,      0.3954,      0.3964,      0.3974,      0.3984,      0.3994,      0.4004,      0.4014,      0.4024,      0.4034,      0.4044,     0.40541,     0.40641,     0.40741,\n",
      "           0.40841,     0.40941,     0.41041,     0.41141,     0.41241,     0.41341,     0.41441,     0.41542,     0.41642,     0.41742,     0.41842,     0.41942,     0.42042,     0.42142,     0.42242,     0.42342,     0.42442,     0.42543,     0.42643,     0.42743,     0.42843,     0.42943,     0.43043,     0.43143,\n",
      "           0.43243,     0.43343,     0.43443,     0.43544,     0.43644,     0.43744,     0.43844,     0.43944,     0.44044,     0.44144,     0.44244,     0.44344,     0.44444,     0.44545,     0.44645,     0.44745,     0.44845,     0.44945,     0.45045,     0.45145,     0.45245,     0.45345,     0.45445,     0.45546,\n",
      "           0.45646,     0.45746,     0.45846,     0.45946,     0.46046,     0.46146,     0.46246,     0.46346,     0.46446,     0.46547,     0.46647,     0.46747,     0.46847,     0.46947,     0.47047,     0.47147,     0.47247,     0.47347,     0.47447,     0.47548,     0.47648,     0.47748,     0.47848,     0.47948,\n",
      "           0.48048,     0.48148,     0.48248,     0.48348,     0.48448,     0.48549,     0.48649,     0.48749,     0.48849,     0.48949,     0.49049,     0.49149,     0.49249,     0.49349,     0.49449,      0.4955,      0.4965,      0.4975,      0.4985,      0.4995,      0.5005,      0.5015,      0.5025,      0.5035,\n",
      "            0.5045,     0.50551,     0.50651,     0.50751,     0.50851,     0.50951,     0.51051,     0.51151,     0.51251,     0.51351,     0.51451,     0.51552,     0.51652,     0.51752,     0.51852,     0.51952,     0.52052,     0.52152,     0.52252,     0.52352,     0.52452,     0.52553,     0.52653,     0.52753,\n",
      "           0.52853,     0.52953,     0.53053,     0.53153,     0.53253,     0.53353,     0.53453,     0.53554,     0.53654,     0.53754,     0.53854,     0.53954,     0.54054,     0.54154,     0.54254,     0.54354,     0.54454,     0.54555,     0.54655,     0.54755,     0.54855,     0.54955,     0.55055,     0.55155,\n",
      "           0.55255,     0.55355,     0.55455,     0.55556,     0.55656,     0.55756,     0.55856,     0.55956,     0.56056,     0.56156,     0.56256,     0.56356,     0.56456,     0.56557,     0.56657,     0.56757,     0.56857,     0.56957,     0.57057,     0.57157,     0.57257,     0.57357,     0.57457,     0.57558,\n",
      "           0.57658,     0.57758,     0.57858,     0.57958,     0.58058,     0.58158,     0.58258,     0.58358,     0.58458,     0.58559,     0.58659,     0.58759,     0.58859,     0.58959,     0.59059,     0.59159,     0.59259,     0.59359,     0.59459,      0.5956,      0.5966,      0.5976,      0.5986,      0.5996,\n",
      "            0.6006,      0.6016,      0.6026,      0.6036,      0.6046,     0.60561,     0.60661,     0.60761,     0.60861,     0.60961,     0.61061,     0.61161,     0.61261,     0.61361,     0.61461,     0.61562,     0.61662,     0.61762,     0.61862,     0.61962,     0.62062,     0.62162,     0.62262,     0.62362,\n",
      "           0.62462,     0.62563,     0.62663,     0.62763,     0.62863,     0.62963,     0.63063,     0.63163,     0.63263,     0.63363,     0.63463,     0.63564,     0.63664,     0.63764,     0.63864,     0.63964,     0.64064,     0.64164,     0.64264,     0.64364,     0.64464,     0.64565,     0.64665,     0.64765,\n",
      "           0.64865,     0.64965,     0.65065,     0.65165,     0.65265,     0.65365,     0.65465,     0.65566,     0.65666,     0.65766,     0.65866,     0.65966,     0.66066,     0.66166,     0.66266,     0.66366,     0.66466,     0.66567,     0.66667,     0.66767,     0.66867,     0.66967,     0.67067,     0.67167,\n",
      "           0.67267,     0.67367,     0.67467,     0.67568,     0.67668,     0.67768,     0.67868,     0.67968,     0.68068,     0.68168,     0.68268,     0.68368,     0.68468,     0.68569,     0.68669,     0.68769,     0.68869,     0.68969,     0.69069,     0.69169,     0.69269,     0.69369,     0.69469,      0.6957,\n",
      "            0.6967,      0.6977,      0.6987,      0.6997,      0.7007,      0.7017,      0.7027,      0.7037,      0.7047,     0.70571,     0.70671,     0.70771,     0.70871,     0.70971,     0.71071,     0.71171,     0.71271,     0.71371,     0.71471,     0.71572,     0.71672,     0.71772,     0.71872,     0.71972,\n",
      "           0.72072,     0.72172,     0.72272,     0.72372,     0.72472,     0.72573,     0.72673,     0.72773,     0.72873,     0.72973,     0.73073,     0.73173,     0.73273,     0.73373,     0.73473,     0.73574,     0.73674,     0.73774,     0.73874,     0.73974,     0.74074,     0.74174,     0.74274,     0.74374,\n",
      "           0.74474,     0.74575,     0.74675,     0.74775,     0.74875,     0.74975,     0.75075,     0.75175,     0.75275,     0.75375,     0.75475,     0.75576,     0.75676,     0.75776,     0.75876,     0.75976,     0.76076,     0.76176,     0.76276,     0.76376,     0.76476,     0.76577,     0.76677,     0.76777,\n",
      "           0.76877,     0.76977,     0.77077,     0.77177,     0.77277,     0.77377,     0.77477,     0.77578,     0.77678,     0.77778,     0.77878,     0.77978,     0.78078,     0.78178,     0.78278,     0.78378,     0.78478,     0.78579,     0.78679,     0.78779,     0.78879,     0.78979,     0.79079,     0.79179,\n",
      "           0.79279,     0.79379,     0.79479,      0.7958,      0.7968,      0.7978,      0.7988,      0.7998,      0.8008,      0.8018,      0.8028,      0.8038,      0.8048,     0.80581,     0.80681,     0.80781,     0.80881,     0.80981,     0.81081,     0.81181,     0.81281,     0.81381,     0.81481,     0.81582,\n",
      "           0.81682,     0.81782,     0.81882,     0.81982,     0.82082,     0.82182,     0.82282,     0.82382,     0.82482,     0.82583,     0.82683,     0.82783,     0.82883,     0.82983,     0.83083,     0.83183,     0.83283,     0.83383,     0.83483,     0.83584,     0.83684,     0.83784,     0.83884,     0.83984,\n",
      "           0.84084,     0.84184,     0.84284,     0.84384,     0.84484,     0.84585,     0.84685,     0.84785,     0.84885,     0.84985,     0.85085,     0.85185,     0.85285,     0.85385,     0.85485,     0.85586,     0.85686,     0.85786,     0.85886,     0.85986,     0.86086,     0.86186,     0.86286,     0.86386,\n",
      "           0.86486,     0.86587,     0.86687,     0.86787,     0.86887,     0.86987,     0.87087,     0.87187,     0.87287,     0.87387,     0.87487,     0.87588,     0.87688,     0.87788,     0.87888,     0.87988,     0.88088,     0.88188,     0.88288,     0.88388,     0.88488,     0.88589,     0.88689,     0.88789,\n",
      "           0.88889,     0.88989,     0.89089,     0.89189,     0.89289,     0.89389,     0.89489,      0.8959,      0.8969,      0.8979,      0.8989,      0.8999,      0.9009,      0.9019,      0.9029,      0.9039,      0.9049,     0.90591,     0.90691,     0.90791,     0.90891,     0.90991,     0.91091,     0.91191,\n",
      "           0.91291,     0.91391,     0.91491,     0.91592,     0.91692,     0.91792,     0.91892,     0.91992,     0.92092,     0.92192,     0.92292,     0.92392,     0.92492,     0.92593,     0.92693,     0.92793,     0.92893,     0.92993,     0.93093,     0.93193,     0.93293,     0.93393,     0.93493,     0.93594,\n",
      "           0.93694,     0.93794,     0.93894,     0.93994,     0.94094,     0.94194,     0.94294,     0.94394,     0.94494,     0.94595,     0.94695,     0.94795,     0.94895,     0.94995,     0.95095,     0.95195,     0.95295,     0.95395,     0.95495,     0.95596,     0.95696,     0.95796,     0.95896,     0.95996,\n",
      "           0.96096,     0.96196,     0.96296,     0.96396,     0.96496,     0.96597,     0.96697,     0.96797,     0.96897,     0.96997,     0.97097,     0.97197,     0.97297,     0.97397,     0.97497,     0.97598,     0.97698,     0.97798,     0.97898,     0.97998,     0.98098,     0.98198,     0.98298,     0.98398,\n",
      "           0.98498,     0.98599,     0.98699,     0.98799,     0.98899,     0.98999,     0.99099,     0.99199,     0.99299,     0.99399,     0.99499,       0.996,       0.997,       0.998,       0.999,           1]), array([[    0.43596,     0.43596,     0.59278,     0.69002,     0.72955,     0.76255,      0.7837,     0.79806,     0.81015,     0.82011,     0.83478,     0.83754,     0.83959,     0.85003,     0.85212,      0.8561,     0.85777,     0.85882,     0.86142,     0.86228,     0.86717,     0.87099,     0.87195,\n",
      "             0.8734,     0.87698,     0.87869,     0.87955,     0.88039,     0.88172,     0.88298,     0.88358,     0.88419,     0.88479,     0.88562,     0.88646,     0.88916,     0.89089,     0.89114,     0.89133,     0.89153,     0.89172,     0.89192,     0.89211,     0.89231,      0.8925,      0.8927,\n",
      "            0.89289,     0.89351,     0.89499,     0.89532,     0.89555,     0.89577,       0.896,     0.89623,     0.89646,     0.89669,     0.89692,     0.89715,      0.8974,     0.89766,     0.89792,     0.89818,     0.89844,      0.8987,     0.89896,     0.89922,     0.90177,     0.90351,     0.90389,\n",
      "            0.90426,     0.90463,       0.905,     0.90537,     0.90572,       0.906,     0.90629,     0.90657,     0.90686,     0.90714,     0.90743,     0.90772,     0.90831,     0.90905,     0.90978,     0.91057,     0.91138,     0.91212,     0.91218,     0.91223,     0.91229,     0.91235,      0.9124,\n",
      "            0.91246,     0.91252,     0.91257,     0.91263,     0.91269,     0.91275,      0.9128,     0.91286,     0.91292,     0.91297,     0.91303,     0.91309,     0.91314,      0.9132,     0.91326,     0.91331,     0.91337,     0.91343,     0.91349,     0.91354,      0.9136,     0.91366,     0.91371,\n",
      "            0.91377,     0.91383,     0.91388,     0.91394,       0.914,     0.91405,     0.91411,     0.91417,     0.91422,     0.91428,     0.91456,     0.91485,     0.91515,     0.91545,     0.91574,     0.91604,     0.91633,      0.9167,     0.91714,     0.91758,     0.91802,     0.91846,     0.91909,\n",
      "            0.91987,     0.92066,     0.92066,     0.92037,     0.92009,     0.91981,     0.91952,     0.91924,     0.91895,     0.91867,     0.91839,     0.91833,     0.91843,     0.91853,     0.91862,     0.91872,     0.91882,     0.91892,     0.91902,     0.91912,     0.91922,     0.91931,     0.91941,\n",
      "            0.91951,     0.91961,     0.91971,     0.91981,     0.91991,        0.92,      0.9201,      0.9202,      0.9203,      0.9204,     0.92049,     0.92052,     0.92055,     0.92059,     0.92062,     0.92065,     0.92068,     0.92072,     0.92075,     0.92078,     0.92082,     0.92085,     0.92088,\n",
      "            0.92092,     0.92095,     0.92098,     0.92101,     0.92105,     0.92108,     0.92111,     0.92115,     0.92118,     0.92121,     0.92124,     0.92128,     0.92131,     0.92134,     0.92138,     0.92141,     0.92144,     0.92148,     0.92151,     0.92154,     0.92157,     0.92161,     0.92164,\n",
      "            0.92167,     0.92171,     0.92174,     0.92177,      0.9218,     0.92184,     0.92187,      0.9219,     0.92194,     0.92197,       0.922,     0.92203,     0.92207,      0.9221,     0.92213,     0.92217,      0.9222,     0.92223,     0.92226,      0.9223,     0.92233,     0.92236,      0.9224,\n",
      "            0.92243,     0.92246,     0.92249,     0.92253,     0.92256,     0.92259,     0.92263,     0.92266,     0.92269,     0.92585,     0.92718,     0.92711,     0.92704,     0.92697,      0.9269,     0.92683,     0.92677,      0.9267,     0.92663,     0.92656,     0.92649,     0.92642,     0.92636,\n",
      "            0.92629,     0.92622,     0.92615,     0.92608,     0.92601,     0.92595,     0.92588,     0.92581,     0.92574,     0.92567,      0.9256,     0.92554,     0.92547,      0.9254,     0.92533,     0.92526,     0.92519,     0.92513,     0.92506,     0.92499,     0.92492,     0.92485,     0.92478,\n",
      "            0.92471,     0.92465,     0.92458,     0.92465,     0.92473,     0.92481,     0.92489,     0.92497,     0.92505,     0.92513,     0.92521,     0.92529,     0.92537,     0.92545,     0.92553,     0.92561,     0.92569,     0.92577,     0.92585,     0.92593,     0.92601,     0.92609,     0.92617,\n",
      "            0.92625,     0.92633,      0.9264,     0.92648,     0.92656,     0.92664,     0.92672,      0.9268,     0.92731,     0.92802,     0.92874,     0.92916,     0.92928,      0.9294,     0.92952,     0.92964,     0.92976,     0.92988,     0.93001,     0.93013,     0.93025,     0.93037,     0.93049,\n",
      "            0.93061,     0.93073,     0.93085,     0.93098,      0.9311,     0.93122,     0.93134,     0.93144,     0.93153,     0.93162,     0.93171,      0.9318,     0.93189,     0.93198,     0.93207,     0.93216,     0.93225,     0.93234,     0.93243,     0.93252,     0.93261,      0.9327,     0.93279,\n",
      "            0.93288,     0.93297,     0.93306,     0.93315,     0.93324,     0.93333,     0.93342,     0.93351,      0.9336,     0.93362,     0.93351,      0.9334,     0.93329,     0.93317,     0.93306,     0.93295,     0.93284,     0.93273,     0.93261,      0.9325,     0.93239,     0.93228,     0.93216,\n",
      "            0.93205,     0.93194,     0.93183,     0.93172,      0.9316,     0.93149,     0.93138,     0.93127,     0.93115,     0.93104,     0.93116,     0.93129,     0.93142,     0.93155,     0.93168,     0.93181,     0.93194,     0.93207,     0.93221,     0.93234,     0.93247,      0.9326,     0.93273,\n",
      "            0.93286,     0.93299,     0.93312,     0.93325,     0.93339,     0.93354,      0.9337,     0.93385,       0.934,     0.93416,     0.93431,     0.93446,     0.93461,     0.93477,     0.93492,     0.93507,     0.93522,     0.93538,     0.93553,     0.93595,     0.93714,       0.938,     0.93809,\n",
      "            0.93819,     0.93829,     0.93839,     0.93849,     0.93859,     0.93869,     0.93879,     0.93888,     0.93898,     0.93908,     0.93918,     0.93928,     0.93938,     0.93948,     0.93957,     0.93967,     0.93977,     0.93987,     0.93997,     0.94007,     0.94017,     0.94026,     0.94026,\n",
      "            0.94019,     0.94013,     0.94007,        0.94,     0.93994,     0.93988,     0.93981,     0.93975,     0.93969,     0.93963,     0.93956,      0.9395,     0.93944,     0.93937,     0.93931,     0.93925,     0.93918,     0.93912,     0.93906,     0.93899,     0.93893,     0.93887,      0.9388,\n",
      "            0.93874,     0.93867,     0.93861,     0.93855,     0.93848,     0.93842,     0.93836,     0.93829,     0.93823,     0.93817,      0.9381,     0.93804,     0.93798,     0.93791,     0.93785,     0.93779,     0.93772,     0.93766,     0.93803,     0.93843,     0.93883,     0.93923,     0.93963,\n",
      "             0.9401,     0.94131,     0.94236,     0.94241,     0.94246,      0.9425,     0.94255,      0.9426,     0.94264,     0.94269,     0.94274,     0.94278,     0.94283,     0.94288,     0.94292,     0.94297,     0.94302,     0.94306,     0.94311,     0.94316,      0.9432,     0.94325,      0.9433,\n",
      "            0.94334,     0.94339,     0.94344,     0.94348,     0.94353,     0.94358,     0.94362,     0.94367,     0.94372,     0.94376,     0.94381,     0.94386,      0.9439,     0.94395,       0.944,     0.94404,     0.94409,     0.94414,     0.94418,     0.94423,     0.94428,     0.94432,     0.94437,\n",
      "            0.94442,     0.94446,     0.94451,     0.94456,      0.9446,     0.94465,      0.9447,     0.94471,     0.94467,     0.94464,      0.9446,     0.94456,     0.94453,     0.94449,     0.94445,     0.94441,     0.94438,     0.94434,      0.9443,     0.94427,     0.94423,     0.94419,     0.94416,\n",
      "            0.94412,     0.94408,     0.94405,     0.94401,     0.94397,     0.94394,      0.9439,     0.94386,     0.94383,     0.94379,     0.94375,     0.94372,     0.94368,     0.94364,     0.94361,     0.94357,     0.94353,      0.9435,     0.94346,     0.94342,     0.94338,     0.94335,     0.94331,\n",
      "            0.94327,     0.94324,      0.9432,     0.94316,     0.94313,     0.94309,     0.94305,     0.94302,     0.94298,     0.94294,     0.94291,     0.94287,     0.94283,      0.9428,     0.94276,     0.94272,     0.94268,     0.94265,     0.94261,     0.94257,     0.94254,      0.9425,     0.94246,\n",
      "            0.94243,     0.94239,     0.94235,     0.94232,     0.94228,     0.94224,     0.94221,     0.94217,     0.94213,     0.94209,     0.94195,      0.9414,     0.94086,     0.94031,     0.93976,     0.93936,     0.93924,     0.93913,     0.93902,     0.93891,      0.9388,     0.93868,     0.93857,\n",
      "            0.93846,     0.93835,     0.93823,     0.93812,     0.93801,      0.9379,     0.93779,     0.93767,     0.93756,     0.93745,     0.93734,     0.93722,     0.93711,       0.937,     0.93689,     0.93677,     0.93654,     0.93614,     0.93575,     0.93535,     0.93496,     0.93456,     0.93417,\n",
      "            0.93418,     0.93447,     0.93476,     0.93504,     0.93533,     0.93562,      0.9359,     0.93619,     0.93626,     0.93587,     0.93547,     0.93507,     0.93468,     0.93428,     0.93388,     0.93329,     0.93249,     0.93169,     0.93096,     0.93121,     0.93145,      0.9317,     0.93194,\n",
      "            0.93219,     0.93243,     0.93268,     0.93292,     0.93316,     0.93276,     0.93088,     0.93105,      0.9316,     0.93215,     0.93269,     0.93262,     0.93182,     0.93101,     0.93017,     0.92876,     0.92695,     0.92446,      0.9241,     0.92374,     0.92338,     0.92303,     0.92267,\n",
      "            0.92231,     0.92195,     0.92152,     0.92108,     0.92063,     0.92019,     0.91975,      0.9193,     0.91894,     0.91868,     0.91841,     0.91815,     0.91789,     0.91762,     0.91736,      0.9171,     0.91683,     0.91657,      0.9163,     0.91595,     0.91556,     0.91517,     0.91478,\n",
      "             0.9144,     0.91401,     0.91362,     0.91259,     0.91064,     0.90451,     0.90424,     0.90397,      0.9037,     0.90343,     0.90315,     0.90288,     0.90261,     0.90234,     0.90207,     0.90179,     0.90145,     0.90112,     0.90079,     0.90046,     0.90012,     0.89979,     0.89946,\n",
      "            0.89913,     0.89887,     0.89872,     0.89857,     0.89842,     0.89827,     0.89812,     0.89797,     0.89782,     0.89767,     0.89752,     0.89737,     0.89722,     0.89707,     0.89692,     0.89677,     0.89662,     0.89646,     0.89631,     0.89616,     0.89601,     0.89321,     0.88952,\n",
      "             0.8883,     0.88398,     0.88042,     0.87918,     0.87799,     0.87737,     0.87674,     0.87612,     0.87549,     0.87433,     0.87143,     0.86933,     0.86639,     0.86001,     0.86163,     0.85509,     0.85378,     0.85247,     0.85293,     0.85354,     0.85415,     0.85471,     0.85252,\n",
      "            0.84978,     0.84812,     0.84976,     0.84893,     0.84809,     0.84725,     0.84282,     0.84056,     0.83744,     0.83592,     0.83494,     0.83396,     0.83284,     0.83146,     0.83008,     0.82784,     0.82606,      0.8249,     0.82373,     0.82195,     0.81929,     0.81427,     0.81225,\n",
      "            0.81123,     0.81021,     0.80911,     0.80768,     0.80624,     0.80188,     0.80007,     0.79806,     0.79562,     0.78353,     0.78104,     0.78003,      0.7792,     0.77836,     0.77752,     0.77338,     0.77147,     0.76543,     0.75817,     0.75557,     0.75337,      0.7514,     0.74265,\n",
      "            0.74065,     0.73817,      0.7349,     0.73374,     0.73258,     0.73142,     0.72431,     0.71966,     0.70527,     0.70102,     0.69478,     0.67756,     0.67094,     0.66287,     0.65594,     0.64868,     0.64714,     0.64559,     0.64378,     0.64066,     0.61908,     0.61289,     0.60584,\n",
      "            0.60443,     0.60301,     0.59872,     0.58061,     0.57044,     0.55795,     0.55225,     0.54995,     0.54781,     0.54403,     0.52505,     0.51392,     0.49217,     0.48832,     0.48705,     0.47916,     0.46334,     0.45253,     0.44271,     0.44124,     0.43812,     0.43247,     0.42615,\n",
      "            0.42249,     0.41929,     0.41705,     0.41491,     0.41276,     0.40004,     0.37828,     0.37367,     0.35293,     0.31796,     0.30333,     0.28845,     0.25957,     0.24257,      0.2187,     0.18596,     0.18032,     0.17464,     0.15819,     0.15187,     0.13738,     0.13144,     0.10944,\n",
      "            0.10225,    0.097628,    0.092225,    0.085987,    0.079708,    0.066955,    0.057332,    0.039085,    0.037989,    0.036893,    0.035795,    0.034696,    0.033595,    0.032494,    0.031391,    0.030287,    0.029201,    0.028153,    0.027104,    0.026053,    0.025001,    0.023949,    0.022895,\n",
      "            0.02184,    0.020784,    0.019672,    0.017843,    0.016011,    0.014175,    0.012336,    0.010493,           0,           0,           0,           0,           0,           0,           0,           0,           0,           0,           0,           0,           0,           0,           0,\n",
      "                  0,           0,           0,           0,           0,           0,           0,           0,           0,           0,           0,           0,           0,           0,           0,           0,           0,           0,           0,           0,           0,           0,           0,\n",
      "                  0,           0,           0,           0,           0,           0,           0,           0,           0,           0,           0,           0,           0,           0,           0,           0,           0,           0,           0,           0,           0,           0,           0,\n",
      "                  0,           0,           0,           0,           0,           0,           0,           0,           0,           0,           0]]), 'Confidence', 'F1'], [array([          0,    0.001001,    0.002002,    0.003003,    0.004004,    0.005005,    0.006006,    0.007007,    0.008008,    0.009009,     0.01001,    0.011011,    0.012012,    0.013013,    0.014014,    0.015015,    0.016016,    0.017017,    0.018018,    0.019019,     0.02002,    0.021021,    0.022022,    0.023023,\n",
      "          0.024024,    0.025025,    0.026026,    0.027027,    0.028028,    0.029029,     0.03003,    0.031031,    0.032032,    0.033033,    0.034034,    0.035035,    0.036036,    0.037037,    0.038038,    0.039039,     0.04004,    0.041041,    0.042042,    0.043043,    0.044044,    0.045045,    0.046046,    0.047047,\n",
      "          0.048048,    0.049049,     0.05005,    0.051051,    0.052052,    0.053053,    0.054054,    0.055055,    0.056056,    0.057057,    0.058058,    0.059059,     0.06006,    0.061061,    0.062062,    0.063063,    0.064064,    0.065065,    0.066066,    0.067067,    0.068068,    0.069069,     0.07007,    0.071071,\n",
      "          0.072072,    0.073073,    0.074074,    0.075075,    0.076076,    0.077077,    0.078078,    0.079079,     0.08008,    0.081081,    0.082082,    0.083083,    0.084084,    0.085085,    0.086086,    0.087087,    0.088088,    0.089089,     0.09009,    0.091091,    0.092092,    0.093093,    0.094094,    0.095095,\n",
      "          0.096096,    0.097097,    0.098098,    0.099099,      0.1001,      0.1011,      0.1021,      0.1031,      0.1041,     0.10511,     0.10611,     0.10711,     0.10811,     0.10911,     0.11011,     0.11111,     0.11211,     0.11311,     0.11411,     0.11512,     0.11612,     0.11712,     0.11812,     0.11912,\n",
      "           0.12012,     0.12112,     0.12212,     0.12312,     0.12412,     0.12513,     0.12613,     0.12713,     0.12813,     0.12913,     0.13013,     0.13113,     0.13213,     0.13313,     0.13413,     0.13514,     0.13614,     0.13714,     0.13814,     0.13914,     0.14014,     0.14114,     0.14214,     0.14314,\n",
      "           0.14414,     0.14515,     0.14615,     0.14715,     0.14815,     0.14915,     0.15015,     0.15115,     0.15215,     0.15315,     0.15415,     0.15516,     0.15616,     0.15716,     0.15816,     0.15916,     0.16016,     0.16116,     0.16216,     0.16316,     0.16416,     0.16517,     0.16617,     0.16717,\n",
      "           0.16817,     0.16917,     0.17017,     0.17117,     0.17217,     0.17317,     0.17417,     0.17518,     0.17618,     0.17718,     0.17818,     0.17918,     0.18018,     0.18118,     0.18218,     0.18318,     0.18418,     0.18519,     0.18619,     0.18719,     0.18819,     0.18919,     0.19019,     0.19119,\n",
      "           0.19219,     0.19319,     0.19419,      0.1952,      0.1962,      0.1972,      0.1982,      0.1992,      0.2002,      0.2012,      0.2022,      0.2032,      0.2042,     0.20521,     0.20621,     0.20721,     0.20821,     0.20921,     0.21021,     0.21121,     0.21221,     0.21321,     0.21421,     0.21522,\n",
      "           0.21622,     0.21722,     0.21822,     0.21922,     0.22022,     0.22122,     0.22222,     0.22322,     0.22422,     0.22523,     0.22623,     0.22723,     0.22823,     0.22923,     0.23023,     0.23123,     0.23223,     0.23323,     0.23423,     0.23524,     0.23624,     0.23724,     0.23824,     0.23924,\n",
      "           0.24024,     0.24124,     0.24224,     0.24324,     0.24424,     0.24525,     0.24625,     0.24725,     0.24825,     0.24925,     0.25025,     0.25125,     0.25225,     0.25325,     0.25425,     0.25526,     0.25626,     0.25726,     0.25826,     0.25926,     0.26026,     0.26126,     0.26226,     0.26326,\n",
      "           0.26426,     0.26527,     0.26627,     0.26727,     0.26827,     0.26927,     0.27027,     0.27127,     0.27227,     0.27327,     0.27427,     0.27528,     0.27628,     0.27728,     0.27828,     0.27928,     0.28028,     0.28128,     0.28228,     0.28328,     0.28428,     0.28529,     0.28629,     0.28729,\n",
      "           0.28829,     0.28929,     0.29029,     0.29129,     0.29229,     0.29329,     0.29429,      0.2953,      0.2963,      0.2973,      0.2983,      0.2993,      0.3003,      0.3013,      0.3023,      0.3033,      0.3043,     0.30531,     0.30631,     0.30731,     0.30831,     0.30931,     0.31031,     0.31131,\n",
      "           0.31231,     0.31331,     0.31431,     0.31532,     0.31632,     0.31732,     0.31832,     0.31932,     0.32032,     0.32132,     0.32232,     0.32332,     0.32432,     0.32533,     0.32633,     0.32733,     0.32833,     0.32933,     0.33033,     0.33133,     0.33233,     0.33333,     0.33433,     0.33534,\n",
      "           0.33634,     0.33734,     0.33834,     0.33934,     0.34034,     0.34134,     0.34234,     0.34334,     0.34434,     0.34535,     0.34635,     0.34735,     0.34835,     0.34935,     0.35035,     0.35135,     0.35235,     0.35335,     0.35435,     0.35536,     0.35636,     0.35736,     0.35836,     0.35936,\n",
      "           0.36036,     0.36136,     0.36236,     0.36336,     0.36436,     0.36537,     0.36637,     0.36737,     0.36837,     0.36937,     0.37037,     0.37137,     0.37237,     0.37337,     0.37437,     0.37538,     0.37638,     0.37738,     0.37838,     0.37938,     0.38038,     0.38138,     0.38238,     0.38338,\n",
      "           0.38438,     0.38539,     0.38639,     0.38739,     0.38839,     0.38939,     0.39039,     0.39139,     0.39239,     0.39339,     0.39439,      0.3954,      0.3964,      0.3974,      0.3984,      0.3994,      0.4004,      0.4014,      0.4024,      0.4034,      0.4044,     0.40541,     0.40641,     0.40741,\n",
      "           0.40841,     0.40941,     0.41041,     0.41141,     0.41241,     0.41341,     0.41441,     0.41542,     0.41642,     0.41742,     0.41842,     0.41942,     0.42042,     0.42142,     0.42242,     0.42342,     0.42442,     0.42543,     0.42643,     0.42743,     0.42843,     0.42943,     0.43043,     0.43143,\n",
      "           0.43243,     0.43343,     0.43443,     0.43544,     0.43644,     0.43744,     0.43844,     0.43944,     0.44044,     0.44144,     0.44244,     0.44344,     0.44444,     0.44545,     0.44645,     0.44745,     0.44845,     0.44945,     0.45045,     0.45145,     0.45245,     0.45345,     0.45445,     0.45546,\n",
      "           0.45646,     0.45746,     0.45846,     0.45946,     0.46046,     0.46146,     0.46246,     0.46346,     0.46446,     0.46547,     0.46647,     0.46747,     0.46847,     0.46947,     0.47047,     0.47147,     0.47247,     0.47347,     0.47447,     0.47548,     0.47648,     0.47748,     0.47848,     0.47948,\n",
      "           0.48048,     0.48148,     0.48248,     0.48348,     0.48448,     0.48549,     0.48649,     0.48749,     0.48849,     0.48949,     0.49049,     0.49149,     0.49249,     0.49349,     0.49449,      0.4955,      0.4965,      0.4975,      0.4985,      0.4995,      0.5005,      0.5015,      0.5025,      0.5035,\n",
      "            0.5045,     0.50551,     0.50651,     0.50751,     0.50851,     0.50951,     0.51051,     0.51151,     0.51251,     0.51351,     0.51451,     0.51552,     0.51652,     0.51752,     0.51852,     0.51952,     0.52052,     0.52152,     0.52252,     0.52352,     0.52452,     0.52553,     0.52653,     0.52753,\n",
      "           0.52853,     0.52953,     0.53053,     0.53153,     0.53253,     0.53353,     0.53453,     0.53554,     0.53654,     0.53754,     0.53854,     0.53954,     0.54054,     0.54154,     0.54254,     0.54354,     0.54454,     0.54555,     0.54655,     0.54755,     0.54855,     0.54955,     0.55055,     0.55155,\n",
      "           0.55255,     0.55355,     0.55455,     0.55556,     0.55656,     0.55756,     0.55856,     0.55956,     0.56056,     0.56156,     0.56256,     0.56356,     0.56456,     0.56557,     0.56657,     0.56757,     0.56857,     0.56957,     0.57057,     0.57157,     0.57257,     0.57357,     0.57457,     0.57558,\n",
      "           0.57658,     0.57758,     0.57858,     0.57958,     0.58058,     0.58158,     0.58258,     0.58358,     0.58458,     0.58559,     0.58659,     0.58759,     0.58859,     0.58959,     0.59059,     0.59159,     0.59259,     0.59359,     0.59459,      0.5956,      0.5966,      0.5976,      0.5986,      0.5996,\n",
      "            0.6006,      0.6016,      0.6026,      0.6036,      0.6046,     0.60561,     0.60661,     0.60761,     0.60861,     0.60961,     0.61061,     0.61161,     0.61261,     0.61361,     0.61461,     0.61562,     0.61662,     0.61762,     0.61862,     0.61962,     0.62062,     0.62162,     0.62262,     0.62362,\n",
      "           0.62462,     0.62563,     0.62663,     0.62763,     0.62863,     0.62963,     0.63063,     0.63163,     0.63263,     0.63363,     0.63463,     0.63564,     0.63664,     0.63764,     0.63864,     0.63964,     0.64064,     0.64164,     0.64264,     0.64364,     0.64464,     0.64565,     0.64665,     0.64765,\n",
      "           0.64865,     0.64965,     0.65065,     0.65165,     0.65265,     0.65365,     0.65465,     0.65566,     0.65666,     0.65766,     0.65866,     0.65966,     0.66066,     0.66166,     0.66266,     0.66366,     0.66466,     0.66567,     0.66667,     0.66767,     0.66867,     0.66967,     0.67067,     0.67167,\n",
      "           0.67267,     0.67367,     0.67467,     0.67568,     0.67668,     0.67768,     0.67868,     0.67968,     0.68068,     0.68168,     0.68268,     0.68368,     0.68468,     0.68569,     0.68669,     0.68769,     0.68869,     0.68969,     0.69069,     0.69169,     0.69269,     0.69369,     0.69469,      0.6957,\n",
      "            0.6967,      0.6977,      0.6987,      0.6997,      0.7007,      0.7017,      0.7027,      0.7037,      0.7047,     0.70571,     0.70671,     0.70771,     0.70871,     0.70971,     0.71071,     0.71171,     0.71271,     0.71371,     0.71471,     0.71572,     0.71672,     0.71772,     0.71872,     0.71972,\n",
      "           0.72072,     0.72172,     0.72272,     0.72372,     0.72472,     0.72573,     0.72673,     0.72773,     0.72873,     0.72973,     0.73073,     0.73173,     0.73273,     0.73373,     0.73473,     0.73574,     0.73674,     0.73774,     0.73874,     0.73974,     0.74074,     0.74174,     0.74274,     0.74374,\n",
      "           0.74474,     0.74575,     0.74675,     0.74775,     0.74875,     0.74975,     0.75075,     0.75175,     0.75275,     0.75375,     0.75475,     0.75576,     0.75676,     0.75776,     0.75876,     0.75976,     0.76076,     0.76176,     0.76276,     0.76376,     0.76476,     0.76577,     0.76677,     0.76777,\n",
      "           0.76877,     0.76977,     0.77077,     0.77177,     0.77277,     0.77377,     0.77477,     0.77578,     0.77678,     0.77778,     0.77878,     0.77978,     0.78078,     0.78178,     0.78278,     0.78378,     0.78478,     0.78579,     0.78679,     0.78779,     0.78879,     0.78979,     0.79079,     0.79179,\n",
      "           0.79279,     0.79379,     0.79479,      0.7958,      0.7968,      0.7978,      0.7988,      0.7998,      0.8008,      0.8018,      0.8028,      0.8038,      0.8048,     0.80581,     0.80681,     0.80781,     0.80881,     0.80981,     0.81081,     0.81181,     0.81281,     0.81381,     0.81481,     0.81582,\n",
      "           0.81682,     0.81782,     0.81882,     0.81982,     0.82082,     0.82182,     0.82282,     0.82382,     0.82482,     0.82583,     0.82683,     0.82783,     0.82883,     0.82983,     0.83083,     0.83183,     0.83283,     0.83383,     0.83483,     0.83584,     0.83684,     0.83784,     0.83884,     0.83984,\n",
      "           0.84084,     0.84184,     0.84284,     0.84384,     0.84484,     0.84585,     0.84685,     0.84785,     0.84885,     0.84985,     0.85085,     0.85185,     0.85285,     0.85385,     0.85485,     0.85586,     0.85686,     0.85786,     0.85886,     0.85986,     0.86086,     0.86186,     0.86286,     0.86386,\n",
      "           0.86486,     0.86587,     0.86687,     0.86787,     0.86887,     0.86987,     0.87087,     0.87187,     0.87287,     0.87387,     0.87487,     0.87588,     0.87688,     0.87788,     0.87888,     0.87988,     0.88088,     0.88188,     0.88288,     0.88388,     0.88488,     0.88589,     0.88689,     0.88789,\n",
      "           0.88889,     0.88989,     0.89089,     0.89189,     0.89289,     0.89389,     0.89489,      0.8959,      0.8969,      0.8979,      0.8989,      0.8999,      0.9009,      0.9019,      0.9029,      0.9039,      0.9049,     0.90591,     0.90691,     0.90791,     0.90891,     0.90991,     0.91091,     0.91191,\n",
      "           0.91291,     0.91391,     0.91491,     0.91592,     0.91692,     0.91792,     0.91892,     0.91992,     0.92092,     0.92192,     0.92292,     0.92392,     0.92492,     0.92593,     0.92693,     0.92793,     0.92893,     0.92993,     0.93093,     0.93193,     0.93293,     0.93393,     0.93493,     0.93594,\n",
      "           0.93694,     0.93794,     0.93894,     0.93994,     0.94094,     0.94194,     0.94294,     0.94394,     0.94494,     0.94595,     0.94695,     0.94795,     0.94895,     0.94995,     0.95095,     0.95195,     0.95295,     0.95395,     0.95495,     0.95596,     0.95696,     0.95796,     0.95896,     0.95996,\n",
      "           0.96096,     0.96196,     0.96296,     0.96396,     0.96496,     0.96597,     0.96697,     0.96797,     0.96897,     0.96997,     0.97097,     0.97197,     0.97297,     0.97397,     0.97497,     0.97598,     0.97698,     0.97798,     0.97898,     0.97998,     0.98098,     0.98198,     0.98298,     0.98398,\n",
      "           0.98498,     0.98599,     0.98699,     0.98799,     0.98899,     0.98999,     0.99099,     0.99199,     0.99299,     0.99399,     0.99499,       0.996,       0.997,       0.998,       0.999,           1]), array([[    0.28116,     0.28116,      0.4268,     0.53547,     0.58646,     0.63246,     0.66211,     0.68287,     0.70076,     0.71581,     0.73847,     0.74278,     0.74602,     0.76266,     0.76604,      0.7725,     0.77521,     0.77694,      0.7812,     0.78262,     0.79071,     0.79709,     0.79869,\n",
      "            0.80113,     0.80718,     0.81008,     0.81154,     0.81297,     0.81524,     0.81741,     0.81844,     0.81947,      0.8205,     0.82194,     0.82338,     0.82805,     0.83106,      0.8315,     0.83184,     0.83218,     0.83252,     0.83285,     0.83319,     0.83353,     0.83387,     0.83421,\n",
      "            0.83455,     0.83563,     0.83822,      0.8388,      0.8392,      0.8396,        0.84,     0.84041,     0.84081,     0.84121,     0.84161,     0.84202,     0.84246,     0.84292,     0.84338,     0.84384,      0.8443,     0.84476,     0.84522,     0.84568,      0.8502,      0.8533,     0.85398,\n",
      "            0.85464,      0.8553,     0.85596,     0.85661,     0.85724,     0.85776,     0.85827,     0.85878,     0.85929,     0.85981,     0.86032,     0.86083,     0.86191,     0.86324,     0.86456,     0.86599,     0.86745,     0.86879,     0.86889,     0.86899,      0.8691,      0.8692,      0.8693,\n",
      "            0.86941,     0.86951,     0.86961,     0.86972,     0.86982,     0.86993,     0.87003,     0.87013,     0.87024,     0.87034,     0.87044,     0.87055,     0.87065,     0.87075,     0.87086,     0.87096,     0.87106,     0.87117,     0.87127,     0.87137,     0.87148,     0.87158,     0.87168,\n",
      "            0.87179,     0.87189,     0.87199,      0.8721,      0.8722,      0.8723,     0.87241,     0.87251,     0.87262,     0.87272,     0.87322,     0.87376,      0.8743,     0.87484,     0.87538,     0.87592,     0.87646,     0.87715,     0.87795,     0.87876,     0.87956,     0.88036,     0.88152,\n",
      "            0.88296,     0.88441,     0.88475,     0.88469,     0.88463,     0.88457,     0.88452,     0.88446,      0.8844,     0.88434,     0.88428,     0.88437,     0.88455,     0.88473,     0.88492,      0.8851,     0.88528,     0.88547,     0.88565,     0.88583,     0.88602,      0.8862,     0.88638,\n",
      "            0.88657,     0.88675,     0.88693,     0.88712,      0.8873,     0.88748,     0.88767,     0.88785,     0.88803,     0.88822,     0.88838,     0.88844,      0.8885,     0.88857,     0.88863,     0.88869,     0.88875,     0.88881,     0.88887,     0.88893,       0.889,     0.88906,     0.88912,\n",
      "            0.88918,     0.88924,      0.8893,     0.88936,     0.88943,     0.88949,     0.88955,     0.88961,     0.88967,     0.88973,     0.88979,     0.88986,     0.88992,     0.88998,     0.89004,      0.8901,     0.89016,     0.89022,     0.89029,     0.89035,     0.89041,     0.89047,     0.89053,\n",
      "            0.89059,     0.89065,     0.89072,     0.89078,     0.89084,      0.8909,     0.89096,     0.89102,     0.89108,     0.89115,     0.89121,     0.89127,     0.89133,     0.89139,     0.89145,     0.89152,     0.89158,     0.89164,      0.8917,     0.89176,     0.89182,     0.89188,     0.89195,\n",
      "            0.89201,     0.89207,     0.89213,     0.89219,     0.89225,     0.89231,     0.89238,     0.89244,      0.8925,     0.89842,     0.90094,     0.90093,     0.90092,      0.9009,     0.90089,     0.90088,     0.90087,     0.90086,     0.90084,     0.90083,     0.90082,     0.90081,     0.90079,\n",
      "            0.90078,     0.90077,     0.90076,     0.90075,     0.90073,     0.90072,     0.90071,      0.9007,     0.90068,     0.90067,     0.90066,     0.90065,     0.90063,     0.90062,     0.90061,      0.9006,     0.90059,     0.90057,     0.90056,     0.90055,     0.90054,     0.90052,     0.90051,\n",
      "             0.9005,     0.90049,     0.90047,     0.90062,     0.90077,     0.90092,     0.90107,     0.90123,     0.90138,     0.90153,     0.90168,     0.90183,     0.90198,     0.90213,     0.90229,     0.90244,     0.90259,     0.90274,     0.90289,     0.90304,      0.9032,     0.90335,      0.9035,\n",
      "            0.90365,      0.9038,     0.90395,     0.90411,     0.90426,     0.90441,     0.90456,     0.90471,     0.90567,     0.90704,      0.9084,     0.90921,     0.90944,     0.90967,      0.9099,     0.91014,     0.91037,      0.9106,     0.91084,     0.91107,      0.9113,     0.91153,     0.91177,\n",
      "              0.912,     0.91223,     0.91246,      0.9127,     0.91293,     0.91316,      0.9134,     0.91359,     0.91376,     0.91393,     0.91411,     0.91428,     0.91446,     0.91463,      0.9148,     0.91498,     0.91515,     0.91533,      0.9155,     0.91567,     0.91585,     0.91602,      0.9162,\n",
      "            0.91637,     0.91654,     0.91672,     0.91689,     0.91707,     0.91724,     0.91741,     0.91759,     0.91776,     0.91787,     0.91785,     0.91783,     0.91782,      0.9178,     0.91778,     0.91777,     0.91775,     0.91773,     0.91772,      0.9177,     0.91768,     0.91766,     0.91765,\n",
      "            0.91763,     0.91761,      0.9176,     0.91758,     0.91756,     0.91754,     0.91753,     0.91751,     0.91749,     0.91748,     0.91771,     0.91797,     0.91822,     0.91848,     0.91873,     0.91899,     0.91924,      0.9195,     0.91975,     0.92001,     0.92026,     0.92052,     0.92077,\n",
      "            0.92103,     0.92128,     0.92154,     0.92179,     0.92206,     0.92236,     0.92266,     0.92296,     0.92326,     0.92356,     0.92386,     0.92416,     0.92445,     0.92475,     0.92505,     0.92535,     0.92565,     0.92595,     0.92625,     0.92706,      0.9294,     0.93109,     0.93129,\n",
      "            0.93148,     0.93168,     0.93187,     0.93207,     0.93226,     0.93246,     0.93265,     0.93285,     0.93304,     0.93324,     0.93343,     0.93363,     0.93382,     0.93402,     0.93421,     0.93441,      0.9346,      0.9348,     0.93499,     0.93518,     0.93538,     0.93557,     0.93564,\n",
      "            0.93563,     0.93562,     0.93562,     0.93561,      0.9356,     0.93559,     0.93558,     0.93558,     0.93557,     0.93556,     0.93555,     0.93555,     0.93554,     0.93553,     0.93552,     0.93552,     0.93551,      0.9355,     0.93549,     0.93549,     0.93548,     0.93547,     0.93546,\n",
      "            0.93545,     0.93545,     0.93544,     0.93543,     0.93542,     0.93542,     0.93541,      0.9354,     0.93539,     0.93539,     0.93538,     0.93537,     0.93536,     0.93535,     0.93535,     0.93534,     0.93533,     0.93532,     0.93607,     0.93687,     0.93767,     0.93847,     0.93927,\n",
      "            0.94021,     0.94263,     0.94474,     0.94483,     0.94492,     0.94502,     0.94511,     0.94521,      0.9453,     0.94539,     0.94549,     0.94558,     0.94568,     0.94577,     0.94586,     0.94596,     0.94605,     0.94615,     0.94624,     0.94634,     0.94643,     0.94652,     0.94662,\n",
      "            0.94671,     0.94681,      0.9469,     0.94699,     0.94709,     0.94718,     0.94728,     0.94737,     0.94746,     0.94756,     0.94765,     0.94775,     0.94784,     0.94793,     0.94803,     0.94812,     0.94822,     0.94831,      0.9484,      0.9485,     0.94859,     0.94869,     0.94878,\n",
      "            0.94887,     0.94897,     0.94906,     0.94916,     0.94925,     0.94934,     0.94944,     0.94949,     0.94949,     0.94949,     0.94948,     0.94948,     0.94948,     0.94947,     0.94947,     0.94947,     0.94946,     0.94946,     0.94945,     0.94945,     0.94945,     0.94944,     0.94944,\n",
      "            0.94944,     0.94943,     0.94943,     0.94943,     0.94942,     0.94942,     0.94942,     0.94941,     0.94941,      0.9494,      0.9494,      0.9494,     0.94939,     0.94939,     0.94939,     0.94938,     0.94938,     0.94938,     0.94937,     0.94937,     0.94937,     0.94936,     0.94936,\n",
      "            0.94936,     0.94935,     0.94935,     0.94934,     0.94934,     0.94934,     0.94933,     0.94933,     0.94933,     0.94932,     0.94932,     0.94932,     0.94931,     0.94931,     0.94931,      0.9493,      0.9493,     0.94929,     0.94929,     0.94929,     0.94928,     0.94928,     0.94928,\n",
      "            0.94927,     0.94927,     0.94927,     0.94926,     0.94926,     0.94926,     0.94925,     0.94925,     0.94924,     0.94924,     0.94923,     0.94917,     0.94912,     0.94907,     0.94902,     0.94898,     0.94897,     0.94895,     0.94894,     0.94893,     0.94892,     0.94891,      0.9489,\n",
      "            0.94889,     0.94888,     0.94887,     0.94886,     0.94884,     0.94883,     0.94882,     0.94881,      0.9488,     0.94879,     0.94878,     0.94877,     0.94876,     0.94875,     0.94874,     0.94872,      0.9487,     0.94866,     0.94862,     0.94859,     0.94855,     0.94851,     0.94847,\n",
      "            0.94881,      0.9494,        0.95,     0.95059,     0.95118,     0.95177,     0.95237,     0.95296,     0.95336,     0.95332,     0.95329,     0.95325,     0.95321,     0.95318,     0.95314,     0.95309,     0.95302,     0.95295,     0.95291,     0.95343,     0.95394,     0.95446,     0.95497,\n",
      "            0.95548,       0.956,     0.95651,     0.95703,     0.95754,     0.95785,      0.9577,     0.95865,     0.95981,     0.96097,     0.96213,     0.96274,     0.96268,     0.96262,     0.96256,     0.96246,     0.96233,     0.96215,     0.96212,     0.96209,     0.96207,     0.96204,     0.96201,\n",
      "            0.96199,     0.96196,     0.96193,      0.9619,     0.96186,     0.96183,      0.9618,     0.96177,     0.96174,     0.96172,      0.9617,     0.96168,     0.96166,     0.96164,     0.96162,      0.9616,     0.96158,     0.96156,     0.96154,     0.96152,     0.96149,     0.96146,     0.96143,\n",
      "             0.9614,     0.96137,     0.96134,     0.96127,     0.96112,     0.96065,     0.96063,     0.96061,     0.96059,     0.96057,     0.96055,     0.96053,     0.96051,     0.96049,     0.96047,     0.96045,     0.96042,      0.9604,     0.96037,     0.96034,     0.96032,     0.96029,     0.96027,\n",
      "            0.96024,     0.96022,     0.96021,      0.9602,     0.96019,     0.96018,     0.96016,     0.96015,     0.96014,     0.96013,     0.96012,     0.96011,     0.96009,     0.96008,     0.96007,     0.96006,     0.96005,     0.96004,     0.96002,     0.96001,        0.96,     0.95978,     0.95949,\n",
      "             0.9594,     0.95906,     0.95877,     0.95867,     0.95858,     0.95852,     0.95847,     0.95842,     0.95837,     0.95828,     0.95804,     0.95787,     0.95763,     0.95831,     0.96235,     0.96247,     0.96237,     0.96227,      0.9637,     0.96526,     0.96682,     0.96835,     0.96821,\n",
      "            0.97415,     0.97406,     0.98039,     0.98036,     0.98032,     0.98029,     0.98011,     0.98002,      0.9799,     0.97983,      0.9798,     0.97976,     0.97971,     0.97965,      0.9796,      0.9795,     0.97943,     0.97938,     0.97933,     0.97926,     0.97915,     0.97893,     0.97885,\n",
      "             0.9788,     0.97876,     0.97871,     0.97865,     0.97859,      0.9784,     0.97832,     0.97823,     0.97812,     0.97757,     0.97746,     0.97741,     0.97737,     0.97733,     0.97729,      0.9771,     0.97701,     0.97672,     0.97637,     0.97624,     0.97613,     0.97603,     0.97559,\n",
      "            0.97549,     0.97536,     0.97519,     0.97513,     0.97507,     0.97501,     0.97463,     0.97438,     0.97359,     0.97335,     0.97299,     0.97196,     0.97156,     0.97105,     0.97195,     0.97979,     0.97972,     0.97965,     0.97957,     0.97942,     0.97839,     0.97808,     0.97772,\n",
      "            0.97765,     0.97758,     0.97735,     0.97637,     0.97579,     0.97505,      0.9747,     0.97456,     0.97442,     0.97419,     0.97294,     0.97217,     0.97056,     0.97026,     0.98478,     0.98445,     0.98377,     0.98327,     0.99127,           1,           1,           1,           1,\n",
      "                  1,           1,           1,           1,           1,           1,           1,           1,           1,           1,           1,           1,           1,           1,           1,           1,           1,           1,           1,           1,           1,           1,           1,\n",
      "                  1,           1,           1,           1,           1,           1,           1,           1,           1,           1,           1,           1,           1,           1,           1,           1,           1,           1,           1,           1,           1,           1,           1,\n",
      "                  1,           1,           1,           1,           1,           1,           1,           1,           1,           1,           1,           1,           1,           1,           1,           1,           1,           1,           1,           1,           1,           1,           1,\n",
      "                  1,           1,           1,           1,           1,           1,           1,           1,           1,           1,           1,           1,           1,           1,           1,           1,           1,           1,           1,           1,           1,           1,           1,\n",
      "                  1,           1,           1,           1,           1,           1,           1,           1,           1,           1,           1,           1,           1,           1,           1,           1,           1,           1,           1,           1,           1,           1,           1,\n",
      "                  1,           1,           1,           1,           1,           1,           1,           1,           1,           1,           1]]), 'Confidence', 'Precision'], [array([          0,    0.001001,    0.002002,    0.003003,    0.004004,    0.005005,    0.006006,    0.007007,    0.008008,    0.009009,     0.01001,    0.011011,    0.012012,    0.013013,    0.014014,    0.015015,    0.016016,    0.017017,    0.018018,    0.019019,     0.02002,    0.021021,    0.022022,    0.023023,\n",
      "          0.024024,    0.025025,    0.026026,    0.027027,    0.028028,    0.029029,     0.03003,    0.031031,    0.032032,    0.033033,    0.034034,    0.035035,    0.036036,    0.037037,    0.038038,    0.039039,     0.04004,    0.041041,    0.042042,    0.043043,    0.044044,    0.045045,    0.046046,    0.047047,\n",
      "          0.048048,    0.049049,     0.05005,    0.051051,    0.052052,    0.053053,    0.054054,    0.055055,    0.056056,    0.057057,    0.058058,    0.059059,     0.06006,    0.061061,    0.062062,    0.063063,    0.064064,    0.065065,    0.066066,    0.067067,    0.068068,    0.069069,     0.07007,    0.071071,\n",
      "          0.072072,    0.073073,    0.074074,    0.075075,    0.076076,    0.077077,    0.078078,    0.079079,     0.08008,    0.081081,    0.082082,    0.083083,    0.084084,    0.085085,    0.086086,    0.087087,    0.088088,    0.089089,     0.09009,    0.091091,    0.092092,    0.093093,    0.094094,    0.095095,\n",
      "          0.096096,    0.097097,    0.098098,    0.099099,      0.1001,      0.1011,      0.1021,      0.1031,      0.1041,     0.10511,     0.10611,     0.10711,     0.10811,     0.10911,     0.11011,     0.11111,     0.11211,     0.11311,     0.11411,     0.11512,     0.11612,     0.11712,     0.11812,     0.11912,\n",
      "           0.12012,     0.12112,     0.12212,     0.12312,     0.12412,     0.12513,     0.12613,     0.12713,     0.12813,     0.12913,     0.13013,     0.13113,     0.13213,     0.13313,     0.13413,     0.13514,     0.13614,     0.13714,     0.13814,     0.13914,     0.14014,     0.14114,     0.14214,     0.14314,\n",
      "           0.14414,     0.14515,     0.14615,     0.14715,     0.14815,     0.14915,     0.15015,     0.15115,     0.15215,     0.15315,     0.15415,     0.15516,     0.15616,     0.15716,     0.15816,     0.15916,     0.16016,     0.16116,     0.16216,     0.16316,     0.16416,     0.16517,     0.16617,     0.16717,\n",
      "           0.16817,     0.16917,     0.17017,     0.17117,     0.17217,     0.17317,     0.17417,     0.17518,     0.17618,     0.17718,     0.17818,     0.17918,     0.18018,     0.18118,     0.18218,     0.18318,     0.18418,     0.18519,     0.18619,     0.18719,     0.18819,     0.18919,     0.19019,     0.19119,\n",
      "           0.19219,     0.19319,     0.19419,      0.1952,      0.1962,      0.1972,      0.1982,      0.1992,      0.2002,      0.2012,      0.2022,      0.2032,      0.2042,     0.20521,     0.20621,     0.20721,     0.20821,     0.20921,     0.21021,     0.21121,     0.21221,     0.21321,     0.21421,     0.21522,\n",
      "           0.21622,     0.21722,     0.21822,     0.21922,     0.22022,     0.22122,     0.22222,     0.22322,     0.22422,     0.22523,     0.22623,     0.22723,     0.22823,     0.22923,     0.23023,     0.23123,     0.23223,     0.23323,     0.23423,     0.23524,     0.23624,     0.23724,     0.23824,     0.23924,\n",
      "           0.24024,     0.24124,     0.24224,     0.24324,     0.24424,     0.24525,     0.24625,     0.24725,     0.24825,     0.24925,     0.25025,     0.25125,     0.25225,     0.25325,     0.25425,     0.25526,     0.25626,     0.25726,     0.25826,     0.25926,     0.26026,     0.26126,     0.26226,     0.26326,\n",
      "           0.26426,     0.26527,     0.26627,     0.26727,     0.26827,     0.26927,     0.27027,     0.27127,     0.27227,     0.27327,     0.27427,     0.27528,     0.27628,     0.27728,     0.27828,     0.27928,     0.28028,     0.28128,     0.28228,     0.28328,     0.28428,     0.28529,     0.28629,     0.28729,\n",
      "           0.28829,     0.28929,     0.29029,     0.29129,     0.29229,     0.29329,     0.29429,      0.2953,      0.2963,      0.2973,      0.2983,      0.2993,      0.3003,      0.3013,      0.3023,      0.3033,      0.3043,     0.30531,     0.30631,     0.30731,     0.30831,     0.30931,     0.31031,     0.31131,\n",
      "           0.31231,     0.31331,     0.31431,     0.31532,     0.31632,     0.31732,     0.31832,     0.31932,     0.32032,     0.32132,     0.32232,     0.32332,     0.32432,     0.32533,     0.32633,     0.32733,     0.32833,     0.32933,     0.33033,     0.33133,     0.33233,     0.33333,     0.33433,     0.33534,\n",
      "           0.33634,     0.33734,     0.33834,     0.33934,     0.34034,     0.34134,     0.34234,     0.34334,     0.34434,     0.34535,     0.34635,     0.34735,     0.34835,     0.34935,     0.35035,     0.35135,     0.35235,     0.35335,     0.35435,     0.35536,     0.35636,     0.35736,     0.35836,     0.35936,\n",
      "           0.36036,     0.36136,     0.36236,     0.36336,     0.36436,     0.36537,     0.36637,     0.36737,     0.36837,     0.36937,     0.37037,     0.37137,     0.37237,     0.37337,     0.37437,     0.37538,     0.37638,     0.37738,     0.37838,     0.37938,     0.38038,     0.38138,     0.38238,     0.38338,\n",
      "           0.38438,     0.38539,     0.38639,     0.38739,     0.38839,     0.38939,     0.39039,     0.39139,     0.39239,     0.39339,     0.39439,      0.3954,      0.3964,      0.3974,      0.3984,      0.3994,      0.4004,      0.4014,      0.4024,      0.4034,      0.4044,     0.40541,     0.40641,     0.40741,\n",
      "           0.40841,     0.40941,     0.41041,     0.41141,     0.41241,     0.41341,     0.41441,     0.41542,     0.41642,     0.41742,     0.41842,     0.41942,     0.42042,     0.42142,     0.42242,     0.42342,     0.42442,     0.42543,     0.42643,     0.42743,     0.42843,     0.42943,     0.43043,     0.43143,\n",
      "           0.43243,     0.43343,     0.43443,     0.43544,     0.43644,     0.43744,     0.43844,     0.43944,     0.44044,     0.44144,     0.44244,     0.44344,     0.44444,     0.44545,     0.44645,     0.44745,     0.44845,     0.44945,     0.45045,     0.45145,     0.45245,     0.45345,     0.45445,     0.45546,\n",
      "           0.45646,     0.45746,     0.45846,     0.45946,     0.46046,     0.46146,     0.46246,     0.46346,     0.46446,     0.46547,     0.46647,     0.46747,     0.46847,     0.46947,     0.47047,     0.47147,     0.47247,     0.47347,     0.47447,     0.47548,     0.47648,     0.47748,     0.47848,     0.47948,\n",
      "           0.48048,     0.48148,     0.48248,     0.48348,     0.48448,     0.48549,     0.48649,     0.48749,     0.48849,     0.48949,     0.49049,     0.49149,     0.49249,     0.49349,     0.49449,      0.4955,      0.4965,      0.4975,      0.4985,      0.4995,      0.5005,      0.5015,      0.5025,      0.5035,\n",
      "            0.5045,     0.50551,     0.50651,     0.50751,     0.50851,     0.50951,     0.51051,     0.51151,     0.51251,     0.51351,     0.51451,     0.51552,     0.51652,     0.51752,     0.51852,     0.51952,     0.52052,     0.52152,     0.52252,     0.52352,     0.52452,     0.52553,     0.52653,     0.52753,\n",
      "           0.52853,     0.52953,     0.53053,     0.53153,     0.53253,     0.53353,     0.53453,     0.53554,     0.53654,     0.53754,     0.53854,     0.53954,     0.54054,     0.54154,     0.54254,     0.54354,     0.54454,     0.54555,     0.54655,     0.54755,     0.54855,     0.54955,     0.55055,     0.55155,\n",
      "           0.55255,     0.55355,     0.55455,     0.55556,     0.55656,     0.55756,     0.55856,     0.55956,     0.56056,     0.56156,     0.56256,     0.56356,     0.56456,     0.56557,     0.56657,     0.56757,     0.56857,     0.56957,     0.57057,     0.57157,     0.57257,     0.57357,     0.57457,     0.57558,\n",
      "           0.57658,     0.57758,     0.57858,     0.57958,     0.58058,     0.58158,     0.58258,     0.58358,     0.58458,     0.58559,     0.58659,     0.58759,     0.58859,     0.58959,     0.59059,     0.59159,     0.59259,     0.59359,     0.59459,      0.5956,      0.5966,      0.5976,      0.5986,      0.5996,\n",
      "            0.6006,      0.6016,      0.6026,      0.6036,      0.6046,     0.60561,     0.60661,     0.60761,     0.60861,     0.60961,     0.61061,     0.61161,     0.61261,     0.61361,     0.61461,     0.61562,     0.61662,     0.61762,     0.61862,     0.61962,     0.62062,     0.62162,     0.62262,     0.62362,\n",
      "           0.62462,     0.62563,     0.62663,     0.62763,     0.62863,     0.62963,     0.63063,     0.63163,     0.63263,     0.63363,     0.63463,     0.63564,     0.63664,     0.63764,     0.63864,     0.63964,     0.64064,     0.64164,     0.64264,     0.64364,     0.64464,     0.64565,     0.64665,     0.64765,\n",
      "           0.64865,     0.64965,     0.65065,     0.65165,     0.65265,     0.65365,     0.65465,     0.65566,     0.65666,     0.65766,     0.65866,     0.65966,     0.66066,     0.66166,     0.66266,     0.66366,     0.66466,     0.66567,     0.66667,     0.66767,     0.66867,     0.66967,     0.67067,     0.67167,\n",
      "           0.67267,     0.67367,     0.67467,     0.67568,     0.67668,     0.67768,     0.67868,     0.67968,     0.68068,     0.68168,     0.68268,     0.68368,     0.68468,     0.68569,     0.68669,     0.68769,     0.68869,     0.68969,     0.69069,     0.69169,     0.69269,     0.69369,     0.69469,      0.6957,\n",
      "            0.6967,      0.6977,      0.6987,      0.6997,      0.7007,      0.7017,      0.7027,      0.7037,      0.7047,     0.70571,     0.70671,     0.70771,     0.70871,     0.70971,     0.71071,     0.71171,     0.71271,     0.71371,     0.71471,     0.71572,     0.71672,     0.71772,     0.71872,     0.71972,\n",
      "           0.72072,     0.72172,     0.72272,     0.72372,     0.72472,     0.72573,     0.72673,     0.72773,     0.72873,     0.72973,     0.73073,     0.73173,     0.73273,     0.73373,     0.73473,     0.73574,     0.73674,     0.73774,     0.73874,     0.73974,     0.74074,     0.74174,     0.74274,     0.74374,\n",
      "           0.74474,     0.74575,     0.74675,     0.74775,     0.74875,     0.74975,     0.75075,     0.75175,     0.75275,     0.75375,     0.75475,     0.75576,     0.75676,     0.75776,     0.75876,     0.75976,     0.76076,     0.76176,     0.76276,     0.76376,     0.76476,     0.76577,     0.76677,     0.76777,\n",
      "           0.76877,     0.76977,     0.77077,     0.77177,     0.77277,     0.77377,     0.77477,     0.77578,     0.77678,     0.77778,     0.77878,     0.77978,     0.78078,     0.78178,     0.78278,     0.78378,     0.78478,     0.78579,     0.78679,     0.78779,     0.78879,     0.78979,     0.79079,     0.79179,\n",
      "           0.79279,     0.79379,     0.79479,      0.7958,      0.7968,      0.7978,      0.7988,      0.7998,      0.8008,      0.8018,      0.8028,      0.8038,      0.8048,     0.80581,     0.80681,     0.80781,     0.80881,     0.80981,     0.81081,     0.81181,     0.81281,     0.81381,     0.81481,     0.81582,\n",
      "           0.81682,     0.81782,     0.81882,     0.81982,     0.82082,     0.82182,     0.82282,     0.82382,     0.82482,     0.82583,     0.82683,     0.82783,     0.82883,     0.82983,     0.83083,     0.83183,     0.83283,     0.83383,     0.83483,     0.83584,     0.83684,     0.83784,     0.83884,     0.83984,\n",
      "           0.84084,     0.84184,     0.84284,     0.84384,     0.84484,     0.84585,     0.84685,     0.84785,     0.84885,     0.84985,     0.85085,     0.85185,     0.85285,     0.85385,     0.85485,     0.85586,     0.85686,     0.85786,     0.85886,     0.85986,     0.86086,     0.86186,     0.86286,     0.86386,\n",
      "           0.86486,     0.86587,     0.86687,     0.86787,     0.86887,     0.86987,     0.87087,     0.87187,     0.87287,     0.87387,     0.87487,     0.87588,     0.87688,     0.87788,     0.87888,     0.87988,     0.88088,     0.88188,     0.88288,     0.88388,     0.88488,     0.88589,     0.88689,     0.88789,\n",
      "           0.88889,     0.88989,     0.89089,     0.89189,     0.89289,     0.89389,     0.89489,      0.8959,      0.8969,      0.8979,      0.8989,      0.8999,      0.9009,      0.9019,      0.9029,      0.9039,      0.9049,     0.90591,     0.90691,     0.90791,     0.90891,     0.90991,     0.91091,     0.91191,\n",
      "           0.91291,     0.91391,     0.91491,     0.91592,     0.91692,     0.91792,     0.91892,     0.91992,     0.92092,     0.92192,     0.92292,     0.92392,     0.92492,     0.92593,     0.92693,     0.92793,     0.92893,     0.92993,     0.93093,     0.93193,     0.93293,     0.93393,     0.93493,     0.93594,\n",
      "           0.93694,     0.93794,     0.93894,     0.93994,     0.94094,     0.94194,     0.94294,     0.94394,     0.94494,     0.94595,     0.94695,     0.94795,     0.94895,     0.94995,     0.95095,     0.95195,     0.95295,     0.95395,     0.95495,     0.95596,     0.95696,     0.95796,     0.95896,     0.95996,\n",
      "           0.96096,     0.96196,     0.96296,     0.96396,     0.96496,     0.96597,     0.96697,     0.96797,     0.96897,     0.96997,     0.97097,     0.97197,     0.97297,     0.97397,     0.97497,     0.97598,     0.97698,     0.97798,     0.97898,     0.97998,     0.98098,     0.98198,     0.98298,     0.98398,\n",
      "           0.98498,     0.98599,     0.98699,     0.98799,     0.98899,     0.98999,     0.99099,     0.99199,     0.99299,     0.99399,     0.99499,       0.996,       0.997,       0.998,       0.999,           1]), array([[       0.97,        0.97,        0.97,        0.97,       0.965,        0.96,        0.96,        0.96,        0.96,        0.96,        0.96,        0.96,        0.96,        0.96,        0.96,        0.96,        0.96,        0.96,        0.96,        0.96,        0.96,        0.96,        0.96,\n",
      "               0.96,        0.96,        0.96,        0.96,        0.96,        0.96,        0.96,        0.96,        0.96,        0.96,        0.96,        0.96,        0.96,        0.96,        0.96,        0.96,        0.96,        0.96,        0.96,        0.96,        0.96,        0.96,        0.96,\n",
      "               0.96,        0.96,        0.96,        0.96,        0.96,        0.96,        0.96,        0.96,        0.96,        0.96,        0.96,        0.96,        0.96,        0.96,        0.96,        0.96,        0.96,        0.96,        0.96,        0.96,        0.96,        0.96,        0.96,\n",
      "               0.96,        0.96,        0.96,        0.96,        0.96,        0.96,        0.96,        0.96,        0.96,        0.96,        0.96,        0.96,        0.96,        0.96,        0.96,        0.96,        0.96,        0.96,        0.96,        0.96,        0.96,        0.96,        0.96,\n",
      "               0.96,        0.96,        0.96,        0.96,        0.96,        0.96,        0.96,        0.96,        0.96,        0.96,        0.96,        0.96,        0.96,        0.96,        0.96,        0.96,        0.96,        0.96,        0.96,        0.96,        0.96,        0.96,        0.96,\n",
      "               0.96,        0.96,        0.96,        0.96,        0.96,        0.96,        0.96,        0.96,        0.96,        0.96,        0.96,        0.96,        0.96,        0.96,        0.96,        0.96,        0.96,        0.96,        0.96,        0.96,        0.96,        0.96,        0.96,\n",
      "               0.96,        0.96,      0.9596,     0.95905,      0.9585,     0.95796,     0.95741,     0.95686,     0.95632,     0.95577,     0.95522,       0.955,       0.955,       0.955,       0.955,       0.955,       0.955,       0.955,       0.955,       0.955,       0.955,       0.955,       0.955,\n",
      "              0.955,       0.955,       0.955,       0.955,       0.955,       0.955,       0.955,       0.955,       0.955,       0.955,       0.955,       0.955,       0.955,       0.955,       0.955,       0.955,       0.955,       0.955,       0.955,       0.955,       0.955,       0.955,       0.955,\n",
      "              0.955,       0.955,       0.955,       0.955,       0.955,       0.955,       0.955,       0.955,       0.955,       0.955,       0.955,       0.955,       0.955,       0.955,       0.955,       0.955,       0.955,       0.955,       0.955,       0.955,       0.955,       0.955,       0.955,\n",
      "              0.955,       0.955,       0.955,       0.955,       0.955,       0.955,       0.955,       0.955,       0.955,       0.955,       0.955,       0.955,       0.955,       0.955,       0.955,       0.955,       0.955,       0.955,       0.955,       0.955,       0.955,       0.955,       0.955,\n",
      "              0.955,       0.955,       0.955,       0.955,       0.955,       0.955,       0.955,       0.955,       0.955,       0.955,     0.95498,     0.95485,     0.95472,     0.95459,     0.95446,     0.95433,      0.9542,     0.95407,     0.95394,      0.9538,     0.95367,     0.95354,     0.95341,\n",
      "            0.95328,     0.95315,     0.95302,     0.95289,     0.95276,     0.95263,     0.95249,     0.95236,     0.95223,      0.9521,     0.95197,     0.95184,     0.95171,     0.95158,     0.95145,     0.95132,     0.95118,     0.95105,     0.95092,     0.95079,     0.95066,     0.95053,      0.9504,\n",
      "            0.95027,     0.95014,     0.95001,        0.95,        0.95,        0.95,        0.95,        0.95,        0.95,        0.95,        0.95,        0.95,        0.95,        0.95,        0.95,        0.95,        0.95,        0.95,        0.95,        0.95,        0.95,        0.95,        0.95,\n",
      "               0.95,        0.95,        0.95,        0.95,        0.95,        0.95,        0.95,        0.95,        0.95,        0.95,        0.95,        0.95,        0.95,        0.95,        0.95,        0.95,        0.95,        0.95,        0.95,        0.95,        0.95,        0.95,        0.95,\n",
      "               0.95,        0.95,        0.95,        0.95,        0.95,        0.95,        0.95,        0.95,        0.95,        0.95,        0.95,        0.95,        0.95,        0.95,        0.95,        0.95,        0.95,        0.95,        0.95,        0.95,        0.95,        0.95,        0.95,\n",
      "               0.95,        0.95,        0.95,        0.95,        0.95,        0.95,        0.95,        0.95,        0.95,     0.94993,     0.94971,      0.9495,     0.94928,     0.94907,     0.94886,     0.94864,     0.94843,     0.94822,       0.948,     0.94779,     0.94758,     0.94736,     0.94715,\n",
      "            0.94694,     0.94672,     0.94651,     0.94629,     0.94608,     0.94587,     0.94565,     0.94544,     0.94523,     0.94501,       0.945,       0.945,       0.945,       0.945,       0.945,       0.945,       0.945,       0.945,       0.945,       0.945,       0.945,       0.945,       0.945,\n",
      "              0.945,       0.945,       0.945,       0.945,       0.945,       0.945,       0.945,       0.945,       0.945,       0.945,       0.945,       0.945,       0.945,       0.945,       0.945,       0.945,       0.945,       0.945,       0.945,       0.945,       0.945,       0.945,       0.945,\n",
      "              0.945,       0.945,       0.945,       0.945,       0.945,       0.945,       0.945,       0.945,       0.945,       0.945,       0.945,       0.945,       0.945,       0.945,       0.945,       0.945,       0.945,       0.945,       0.945,       0.945,       0.945,       0.945,     0.94492,\n",
      "             0.9448,     0.94468,     0.94456,     0.94444,     0.94432,      0.9442,     0.94408,     0.94396,     0.94384,     0.94372,      0.9436,     0.94348,     0.94336,     0.94324,     0.94312,       0.943,     0.94288,     0.94276,     0.94264,     0.94252,     0.94241,     0.94229,     0.94217,\n",
      "            0.94205,     0.94193,     0.94181,     0.94169,     0.94157,     0.94145,     0.94133,     0.94121,     0.94109,     0.94097,     0.94085,     0.94073,     0.94061,     0.94049,     0.94037,     0.94025,     0.94013,     0.94001,        0.94,        0.94,        0.94,        0.94,        0.94,\n",
      "               0.94,        0.94,        0.94,        0.94,        0.94,        0.94,        0.94,        0.94,        0.94,        0.94,        0.94,        0.94,        0.94,        0.94,        0.94,        0.94,        0.94,        0.94,        0.94,        0.94,        0.94,        0.94,        0.94,\n",
      "               0.94,        0.94,        0.94,        0.94,        0.94,        0.94,        0.94,        0.94,        0.94,        0.94,        0.94,        0.94,        0.94,        0.94,        0.94,        0.94,        0.94,        0.94,        0.94,        0.94,        0.94,        0.94,        0.94,\n",
      "               0.94,        0.94,        0.94,        0.94,        0.94,        0.94,        0.94,     0.93997,      0.9399,     0.93983,     0.93976,      0.9397,     0.93963,     0.93956,     0.93949,     0.93942,     0.93935,     0.93928,     0.93921,     0.93914,     0.93907,       0.939,     0.93893,\n",
      "            0.93886,     0.93879,     0.93873,     0.93866,     0.93859,     0.93852,     0.93845,     0.93838,     0.93831,     0.93824,     0.93817,      0.9381,     0.93803,     0.93796,     0.93789,     0.93783,     0.93776,     0.93769,     0.93762,     0.93755,     0.93748,     0.93741,     0.93734,\n",
      "            0.93727,      0.9372,     0.93713,     0.93706,     0.93699,     0.93692,     0.93686,     0.93679,     0.93672,     0.93665,     0.93658,     0.93651,     0.93644,     0.93637,      0.9363,     0.93623,     0.93616,     0.93609,     0.93602,     0.93596,     0.93589,     0.93582,     0.93575,\n",
      "            0.93568,     0.93561,     0.93554,     0.93547,      0.9354,     0.93533,     0.93526,     0.93519,     0.93512,     0.93505,     0.93478,     0.93376,     0.93273,     0.93171,     0.93068,     0.92993,     0.92972,     0.92951,      0.9293,     0.92909,     0.92888,     0.92868,     0.92847,\n",
      "            0.92826,     0.92805,     0.92784,     0.92763,     0.92742,     0.92721,       0.927,     0.92679,     0.92658,     0.92637,     0.92617,     0.92596,     0.92575,     0.92554,     0.92533,     0.92512,     0.92469,     0.92395,     0.92322,     0.92249,     0.92176,     0.92102,     0.92029,\n",
      "               0.92,        0.92,        0.92,        0.92,        0.92,        0.92,        0.92,        0.92,     0.91977,     0.91904,     0.91831,     0.91758,     0.91685,     0.91611,     0.91538,      0.9143,     0.91283,     0.91137,        0.91,        0.91,        0.91,        0.91,        0.91,\n",
      "               0.91,        0.91,        0.91,        0.91,        0.91,     0.90894,     0.90553,       0.905,       0.905,       0.905,       0.905,     0.90433,     0.90287,      0.9014,     0.89989,     0.89733,     0.89408,     0.88961,     0.88897,     0.88833,     0.88769,     0.88705,     0.88641,\n",
      "            0.88577,     0.88513,     0.88437,     0.88358,     0.88279,     0.88201,     0.88122,     0.88043,     0.87979,     0.87932,     0.87886,     0.87839,     0.87792,     0.87746,     0.87699,     0.87653,     0.87606,     0.87559,     0.87513,      0.8745,     0.87382,     0.87314,     0.87245,\n",
      "            0.87177,     0.87109,      0.8704,     0.86861,     0.86519,     0.85456,     0.85409,     0.85363,     0.85316,      0.8527,     0.85223,     0.85176,      0.8513,     0.85083,     0.85037,     0.84988,     0.84931,     0.84874,     0.84817,      0.8476,     0.84703,     0.84646,     0.84589,\n",
      "            0.84532,     0.84489,     0.84463,     0.84438,     0.84412,     0.84386,     0.84361,     0.84335,      0.8431,     0.84284,     0.84258,     0.84233,     0.84207,     0.84181,     0.84156,      0.8413,     0.84105,     0.84079,     0.84053,     0.84028,     0.84002,     0.83528,     0.82906,\n",
      "            0.82701,     0.81981,     0.81391,     0.81186,     0.80991,     0.80888,     0.80786,     0.80683,     0.80581,      0.8039,     0.79919,     0.79577,     0.79103,        0.78,        0.78,     0.76926,     0.76721,     0.76516,       0.765,       0.765,       0.765,     0.76493,     0.76152,\n",
      "            0.75358,     0.75101,     0.74985,     0.74857,     0.74729,     0.74601,     0.73927,     0.73585,     0.73115,     0.72886,      0.7274,     0.72594,     0.72426,     0.72221,     0.72016,     0.71685,     0.71422,     0.71251,      0.7108,     0.70818,      0.7043,     0.69702,     0.69411,\n",
      "            0.69265,     0.69119,     0.68961,     0.68756,     0.68551,     0.67932,     0.67676,     0.67393,     0.67052,     0.65377,     0.65035,     0.64898,     0.64784,      0.6467,     0.64556,     0.63995,     0.63739,     0.62929,     0.61968,     0.61626,     0.61339,     0.61082,     0.59951,\n",
      "            0.59695,     0.59377,     0.58961,     0.58815,     0.58668,     0.58522,     0.57629,     0.57052,      0.5529,     0.54777,     0.54029,     0.52004,     0.51239,     0.50318,       0.495,     0.48484,     0.48313,     0.48142,     0.47943,     0.47601,     0.45279,     0.44627,      0.4389,\n",
      "            0.43743,     0.43597,     0.43154,     0.41314,     0.40302,     0.39079,     0.38527,     0.38306,     0.38101,     0.37739,     0.35953,     0.34928,     0.32968,     0.32626,     0.32353,     0.31664,     0.30303,     0.29389,       0.285,     0.28307,     0.28051,     0.27589,     0.27077,\n",
      "            0.26782,     0.26526,     0.26346,     0.26176,     0.26005,     0.25003,     0.23326,     0.22976,     0.21428,     0.18903,     0.17878,     0.16853,     0.14914,     0.13803,     0.12278,     0.10251,    0.099092,    0.095676,    0.085888,    0.082176,    0.073759,    0.070342,    0.057888,\n",
      "           0.053881,    0.051319,    0.048342,    0.044925,    0.041508,    0.034637,    0.029512,    0.019932,    0.019362,    0.018793,    0.018224,    0.017654,    0.017085,    0.016515,    0.015946,    0.015376,    0.014817,    0.014277,    0.013738,    0.013198,    0.012659,    0.012119,     0.01158,\n",
      "           0.011041,    0.010501,   0.0099336,   0.0090017,   0.0080699,    0.007138,   0.0062062,   0.0052744,           0,           0,           0,           0,           0,           0,           0,           0,           0,           0,           0,           0,           0,           0,           0,\n",
      "                  0,           0,           0,           0,           0,           0,           0,           0,           0,           0,           0,           0,           0,           0,           0,           0,           0,           0,           0,           0,           0,           0,           0,\n",
      "                  0,           0,           0,           0,           0,           0,           0,           0,           0,           0,           0,           0,           0,           0,           0,           0,           0,           0,           0,           0,           0,           0,           0,\n",
      "                  0,           0,           0,           0,           0,           0,           0,           0,           0,           0,           0]]), 'Confidence', 'Recall']]\n",
      "fitness: 0.7627336603271974\n",
      "keys: ['metrics/precision(B)', 'metrics/recall(B)', 'metrics/mAP50(B)', 'metrics/mAP50-95(B)']\n",
      "maps: array([    0.74202])\n",
      "names: {0: 'license_plate'}\n",
      "plot: True\n",
      "results_dict: {'metrics/precision(B)': 0.9494722102228086, 'metrics/recall(B)': 0.9395565159754349, 'metrics/mAP50(B)': 0.9491538529456293, 'metrics/mAP50-95(B)': 0.7420203055918161, 'fitness': 0.7627336603271974}\n",
      "save_dir: PosixPath('yolov8_training/exp6')\n",
      "speed: {'preprocess': 0.14179348945617676, 'inference': 1.253899335861206, 'loss': 0.0003314018249511719, 'postprocess': 0.826495885848999}\n",
      "task: 'detect'\n"
     ]
    }
   ],
   "source": [
    "import os\n",
    "from ultralytics import YOLO\n",
    "\n",
    "# Set the path to your dataset YAML file\n",
    "data_yaml_path = \"/home/jovyan/AI Project/dataset.yaml\"  # Make sure this path is correct\n",
    "\n",
    "# Initialize the YOLOv8 model (change to preferred variant, e.g., yolov8s.pt)\n",
    "model = YOLO(\"yolov8n.pt\")  # or \"yolov8s.pt\", \"yolov8m.pt\", etc.\n",
    "\n",
    "# Display model information\n",
    "model.info()\n",
    "\n",
    "# Train the model\n",
    "results = model.train(\n",
    "    data=data_yaml_path,\n",
    "    epochs=30,             # Set the number of training epochs\n",
    "    imgsz=640,             # Image size for training\n",
    "    device='cuda',         # Set to 'cuda' to use the default GPU\n",
    "    project='yolov8_training',  # Name of the project directory to save results\n",
    "    name='exp',            # Name of the experiment\n",
    "    batch=16,              # Set the batch size (adjust based on your GPU memory)\n",
    "    workers=4,             # Number of worker threads for data loading\n",
    "    verbose=False  \n",
    ")\n",
    "\n",
    "# Optionally, print training results\n",
    "print(results)\n"
   ]
  },
  {
   "cell_type": "code",
   "execution_count": null,
   "id": "0a0e5cf1-37db-4273-9b7d-30a19a8575aa",
   "metadata": {},
   "outputs": [],
   "source": []
  },
  {
   "cell_type": "code",
   "execution_count": null,
   "id": "6679968f-bd68-47bd-ab83-8e549134f932",
   "metadata": {},
   "outputs": [],
   "source": []
  },
  {
   "cell_type": "code",
   "execution_count": null,
   "id": "21eb4235-21eb-4268-94dc-e7d329671332",
   "metadata": {},
   "outputs": [],
   "source": []
  },
  {
   "cell_type": "code",
   "execution_count": null,
   "id": "a467cf31-88b1-49c4-8739-788c28bc57a5",
   "metadata": {},
   "outputs": [],
   "source": []
  },
  {
   "cell_type": "markdown",
   "id": "18462936-0eab-4b31-869c-a1462656f0a8",
   "metadata": {},
   "source": [
    "## Training - YOLOV8s"
   ]
  },
  {
   "cell_type": "code",
   "execution_count": 2,
   "id": "609fe8a5-2e56-4da2-ab6c-710307dbc0ee",
   "metadata": {},
   "outputs": [
    {
     "name": "stdout",
     "output_type": "stream",
     "text": [
      "Downloading https://github.com/ultralytics/assets/releases/download/v8.3.0/yolov8s.pt to 'yolov8s.pt'...\n"
     ]
    },
    {
     "name": "stderr",
     "output_type": "stream",
     "text": [
      "100%|██████████| 21.5M/21.5M [00:00<00:00, 66.1MB/s]\n"
     ]
    },
    {
     "name": "stdout",
     "output_type": "stream",
     "text": [
      "YOLOv8s summary: 225 layers, 11,166,560 parameters, 0 gradients, 28.8 GFLOPs\n",
      "Ultralytics 8.3.25 🚀 Python-3.10.12 torch-2.1.0+cu118 CUDA:0 (NVIDIA A100-SXM4-40GB MIG 3g.20gb, 19968MiB)\n",
      "\u001b[34m\u001b[1mengine/trainer: \u001b[0mtask=detect, mode=train, model=yolov8s.pt, data=/home/jovyan/AI Project/dataset.yaml, epochs=30, time=None, patience=100, batch=16, imgsz=640, save=True, save_period=-1, cache=False, device=cuda, workers=4, project=yolov8_training, name=exp2, exist_ok=False, pretrained=True, optimizer=auto, verbose=False, seed=0, deterministic=True, single_cls=False, rect=False, cos_lr=False, close_mosaic=10, resume=False, amp=True, fraction=1.0, profile=False, freeze=None, multi_scale=False, overlap_mask=True, mask_ratio=4, dropout=0.0, val=True, split=val, save_json=False, save_hybrid=False, conf=None, iou=0.7, max_det=300, half=False, dnn=False, plots=True, source=None, vid_stride=1, stream_buffer=False, visualize=False, augment=False, agnostic_nms=False, classes=None, retina_masks=False, embed=None, show=False, save_frames=False, save_txt=False, save_conf=False, save_crop=False, show_labels=True, show_conf=True, show_boxes=True, line_width=None, format=torchscript, keras=False, optimize=False, int8=False, dynamic=False, simplify=True, opset=None, workspace=4, nms=False, lr0=0.01, lrf=0.01, momentum=0.937, weight_decay=0.0005, warmup_epochs=3.0, warmup_momentum=0.8, warmup_bias_lr=0.1, box=7.5, cls=0.5, dfl=1.5, pose=12.0, kobj=1.0, label_smoothing=0.0, nbs=64, hsv_h=0.015, hsv_s=0.7, hsv_v=0.4, degrees=0.0, translate=0.1, scale=0.5, shear=0.0, perspective=0.0, flipud=0.0, fliplr=0.5, bgr=0.0, mosaic=1.0, mixup=0.0, copy_paste=0.0, copy_paste_mode=flip, auto_augment=randaugment, erasing=0.4, crop_fraction=1.0, cfg=None, tracker=botsort.yaml, save_dir=yolov8_training/exp2\n",
      "Overriding model.yaml nc=80 with nc=1\n",
      "\n",
      "                   from  n    params  module                                       arguments                     \n",
      "  0                  -1  1       928  ultralytics.nn.modules.conv.Conv             [3, 32, 3, 2]                 \n",
      "  1                  -1  1     18560  ultralytics.nn.modules.conv.Conv             [32, 64, 3, 2]                \n",
      "  2                  -1  1     29056  ultralytics.nn.modules.block.C2f             [64, 64, 1, True]             \n",
      "  3                  -1  1     73984  ultralytics.nn.modules.conv.Conv             [64, 128, 3, 2]               \n",
      "  4                  -1  2    197632  ultralytics.nn.modules.block.C2f             [128, 128, 2, True]           \n",
      "  5                  -1  1    295424  ultralytics.nn.modules.conv.Conv             [128, 256, 3, 2]              \n",
      "  6                  -1  2    788480  ultralytics.nn.modules.block.C2f             [256, 256, 2, True]           \n",
      "  7                  -1  1   1180672  ultralytics.nn.modules.conv.Conv             [256, 512, 3, 2]              \n",
      "  8                  -1  1   1838080  ultralytics.nn.modules.block.C2f             [512, 512, 1, True]           \n",
      "  9                  -1  1    656896  ultralytics.nn.modules.block.SPPF            [512, 512, 5]                 \n",
      " 10                  -1  1         0  torch.nn.modules.upsampling.Upsample         [None, 2, 'nearest']          \n",
      " 11             [-1, 6]  1         0  ultralytics.nn.modules.conv.Concat           [1]                           \n",
      " 12                  -1  1    591360  ultralytics.nn.modules.block.C2f             [768, 256, 1]                 \n",
      " 13                  -1  1         0  torch.nn.modules.upsampling.Upsample         [None, 2, 'nearest']          \n",
      " 14             [-1, 4]  1         0  ultralytics.nn.modules.conv.Concat           [1]                           \n",
      " 15                  -1  1    148224  ultralytics.nn.modules.block.C2f             [384, 128, 1]                 \n",
      " 16                  -1  1    147712  ultralytics.nn.modules.conv.Conv             [128, 128, 3, 2]              \n",
      " 17            [-1, 12]  1         0  ultralytics.nn.modules.conv.Concat           [1]                           \n",
      " 18                  -1  1    493056  ultralytics.nn.modules.block.C2f             [384, 256, 1]                 \n",
      " 19                  -1  1    590336  ultralytics.nn.modules.conv.Conv             [256, 256, 3, 2]              \n",
      " 20             [-1, 9]  1         0  ultralytics.nn.modules.conv.Concat           [1]                           \n",
      " 21                  -1  1   1969152  ultralytics.nn.modules.block.C2f             [768, 512, 1]                 \n",
      " 22        [15, 18, 21]  1   2116435  ultralytics.nn.modules.head.Detect           [1, [128, 256, 512]]          \n",
      "Model summary: 225 layers, 11,135,987 parameters, 11,135,971 gradients, 28.6 GFLOPs\n",
      "\n",
      "Transferred 349/355 items from pretrained weights\n",
      "\u001b[34m\u001b[1mTensorBoard: \u001b[0mStart with 'tensorboard --logdir yolov8_training/exp2', view at http://localhost:6006/\n",
      "Freezing layer 'model.22.dfl.conv.weight'\n",
      "\u001b[34m\u001b[1mAMP: \u001b[0mrunning Automatic Mixed Precision (AMP) checks...\n",
      "\u001b[34m\u001b[1mAMP: \u001b[0mchecks passed ✅\n"
     ]
    },
    {
     "name": "stderr",
     "output_type": "stream",
     "text": [
      "\u001b[34m\u001b[1mtrain: \u001b[0mScanning /home/jovyan/AI Project/licence plate dataset/train/labels.cache... 695 images, 0 backgrounds, 0 corrupt: 100%|██████████| 695/695 [00:00<?, ?it/s]\n",
      "\u001b[34m\u001b[1mval: \u001b[0mScanning /home/jovyan/AI Project/licence plate dataset/val/labels.cache... 200 images, 0 backgrounds, 0 corrupt: 100%|██████████| 200/200 [00:00<?, ?it/s]\n"
     ]
    },
    {
     "name": "stdout",
     "output_type": "stream",
     "text": [
      "Plotting labels to yolov8_training/exp2/labels.jpg... \n",
      "\u001b[34m\u001b[1moptimizer:\u001b[0m 'optimizer=auto' found, ignoring 'lr0=0.01' and 'momentum=0.937' and determining best 'optimizer', 'lr0' and 'momentum' automatically... \n",
      "\u001b[34m\u001b[1moptimizer:\u001b[0m AdamW(lr=0.002, momentum=0.9) with parameter groups 57 weight(decay=0.0), 64 weight(decay=0.0005), 63 bias(decay=0.0)\n",
      "\u001b[34m\u001b[1mTensorBoard: \u001b[0mmodel graph visualization added ✅\n",
      "Image sizes 640 train, 640 val\n",
      "Using 4 dataloader workers\n",
      "Logging results to \u001b[1myolov8_training/exp2\u001b[0m\n",
      "Starting training for 30 epochs...\n",
      "\n",
      "      Epoch    GPU_mem   box_loss   cls_loss   dfl_loss  Instances       Size\n"
     ]
    },
    {
     "name": "stderr",
     "output_type": "stream",
     "text": [
      "       1/30      4.29G      1.375      3.552      1.185         17        640: 100%|██████████| 44/44 [00:05<00:00,  8.07it/s]\n",
      "                 Class     Images  Instances      Box(P          R      mAP50  mAP50-95): 100%|██████████| 7/7 [00:00<00:00,  7.40it/s]"
     ]
    },
    {
     "name": "stdout",
     "output_type": "stream",
     "text": [
      "                   all        200        200      0.149       0.41      0.103     0.0692\n"
     ]
    },
    {
     "name": "stderr",
     "output_type": "stream",
     "text": [
      "\n"
     ]
    },
    {
     "name": "stdout",
     "output_type": "stream",
     "text": [
      "\n",
      "      Epoch    GPU_mem   box_loss   cls_loss   dfl_loss  Instances       Size\n"
     ]
    },
    {
     "name": "stderr",
     "output_type": "stream",
     "text": [
      "       2/30      4.25G      1.326      1.096      1.158         10        640: 100%|██████████| 44/44 [00:04<00:00,  8.87it/s]\n",
      "                 Class     Images  Instances      Box(P          R      mAP50  mAP50-95): 100%|██████████| 7/7 [00:00<00:00,  8.75it/s]"
     ]
    },
    {
     "name": "stdout",
     "output_type": "stream",
     "text": [
      "                   all        200        200    0.00447       0.27    0.00222    0.00084\n"
     ]
    },
    {
     "name": "stderr",
     "output_type": "stream",
     "text": [
      "\n"
     ]
    },
    {
     "name": "stdout",
     "output_type": "stream",
     "text": [
      "\n",
      "      Epoch    GPU_mem   box_loss   cls_loss   dfl_loss  Instances       Size\n"
     ]
    },
    {
     "name": "stderr",
     "output_type": "stream",
     "text": [
      "       3/30      4.29G      1.304      1.086      1.169         12        640: 100%|██████████| 44/44 [00:04<00:00,  9.03it/s]\n",
      "                 Class     Images  Instances      Box(P          R      mAP50  mAP50-95): 100%|██████████| 7/7 [00:00<00:00,  9.05it/s]"
     ]
    },
    {
     "name": "stdout",
     "output_type": "stream",
     "text": [
      "                   all        200        200      0.756      0.535       0.58      0.321\n"
     ]
    },
    {
     "name": "stderr",
     "output_type": "stream",
     "text": [
      "\n"
     ]
    },
    {
     "name": "stdout",
     "output_type": "stream",
     "text": [
      "\n",
      "      Epoch    GPU_mem   box_loss   cls_loss   dfl_loss  Instances       Size\n"
     ]
    },
    {
     "name": "stderr",
     "output_type": "stream",
     "text": [
      "       4/30      4.24G      1.292     0.9648       1.18          9        640: 100%|██████████| 44/44 [00:04<00:00,  9.16it/s]\n",
      "                 Class     Images  Instances      Box(P          R      mAP50  mAP50-95): 100%|██████████| 7/7 [00:00<00:00,  9.20it/s]"
     ]
    },
    {
     "name": "stdout",
     "output_type": "stream",
     "text": [
      "                   all        200        200      0.717       0.42      0.509      0.267\n"
     ]
    },
    {
     "name": "stderr",
     "output_type": "stream",
     "text": [
      "\n"
     ]
    },
    {
     "name": "stdout",
     "output_type": "stream",
     "text": [
      "\n",
      "      Epoch    GPU_mem   box_loss   cls_loss   dfl_loss  Instances       Size\n"
     ]
    },
    {
     "name": "stderr",
     "output_type": "stream",
     "text": [
      "       5/30      4.25G      1.279     0.9288      1.157         16        640: 100%|██████████| 44/44 [00:04<00:00,  9.00it/s]\n",
      "                 Class     Images  Instances      Box(P          R      mAP50  mAP50-95): 100%|██████████| 7/7 [00:00<00:00,  9.02it/s]"
     ]
    },
    {
     "name": "stdout",
     "output_type": "stream",
     "text": [
      "                   all        200        200      0.882      0.765      0.827      0.541\n"
     ]
    },
    {
     "name": "stderr",
     "output_type": "stream",
     "text": [
      "\n"
     ]
    },
    {
     "name": "stdout",
     "output_type": "stream",
     "text": [
      "\n",
      "      Epoch    GPU_mem   box_loss   cls_loss   dfl_loss  Instances       Size\n"
     ]
    },
    {
     "name": "stderr",
     "output_type": "stream",
     "text": [
      "       6/30      4.24G      1.231     0.8861      1.149          6        640: 100%|██████████| 44/44 [00:04<00:00,  9.11it/s]\n",
      "                 Class     Images  Instances      Box(P          R      mAP50  mAP50-95): 100%|██████████| 7/7 [00:00<00:00,  9.06it/s]"
     ]
    },
    {
     "name": "stdout",
     "output_type": "stream",
     "text": [
      "                   all        200        200      0.816      0.755      0.835      0.533\n"
     ]
    },
    {
     "name": "stderr",
     "output_type": "stream",
     "text": [
      "\n"
     ]
    },
    {
     "name": "stdout",
     "output_type": "stream",
     "text": [
      "\n",
      "      Epoch    GPU_mem   box_loss   cls_loss   dfl_loss  Instances       Size\n"
     ]
    },
    {
     "name": "stderr",
     "output_type": "stream",
     "text": [
      "       7/30      4.25G      1.208     0.8407      1.145         10        640: 100%|██████████| 44/44 [00:04<00:00,  9.28it/s]\n",
      "                 Class     Images  Instances      Box(P          R      mAP50  mAP50-95): 100%|██████████| 7/7 [00:00<00:00,  9.18it/s]"
     ]
    },
    {
     "name": "stdout",
     "output_type": "stream",
     "text": [
      "                   all        200        200      0.857      0.835      0.861      0.562\n"
     ]
    },
    {
     "name": "stderr",
     "output_type": "stream",
     "text": [
      "\n"
     ]
    },
    {
     "name": "stdout",
     "output_type": "stream",
     "text": [
      "\n",
      "      Epoch    GPU_mem   box_loss   cls_loss   dfl_loss  Instances       Size\n"
     ]
    },
    {
     "name": "stderr",
     "output_type": "stream",
     "text": [
      "       8/30      4.25G      1.199     0.8498      1.125         12        640: 100%|██████████| 44/44 [00:04<00:00,  9.26it/s]\n",
      "                 Class     Images  Instances      Box(P          R      mAP50  mAP50-95): 100%|██████████| 7/7 [00:00<00:00,  9.13it/s]"
     ]
    },
    {
     "name": "stdout",
     "output_type": "stream",
     "text": [
      "                   all        200        200      0.871      0.855      0.884      0.603\n"
     ]
    },
    {
     "name": "stderr",
     "output_type": "stream",
     "text": [
      "\n"
     ]
    },
    {
     "name": "stdout",
     "output_type": "stream",
     "text": [
      "\n",
      "      Epoch    GPU_mem   box_loss   cls_loss   dfl_loss  Instances       Size\n"
     ]
    },
    {
     "name": "stderr",
     "output_type": "stream",
     "text": [
      "       9/30      4.24G      1.164     0.7614      1.115          8        640: 100%|██████████| 44/44 [00:04<00:00,  9.34it/s]\n",
      "                 Class     Images  Instances      Box(P          R      mAP50  mAP50-95): 100%|██████████| 7/7 [00:00<00:00,  9.38it/s]"
     ]
    },
    {
     "name": "stdout",
     "output_type": "stream",
     "text": [
      "                   all        200        200      0.905      0.815      0.874      0.566\n"
     ]
    },
    {
     "name": "stderr",
     "output_type": "stream",
     "text": [
      "\n"
     ]
    },
    {
     "name": "stdout",
     "output_type": "stream",
     "text": [
      "\n",
      "      Epoch    GPU_mem   box_loss   cls_loss   dfl_loss  Instances       Size\n"
     ]
    },
    {
     "name": "stderr",
     "output_type": "stream",
     "text": [
      "      10/30      4.25G      1.102     0.7347      1.102          8        640: 100%|██████████| 44/44 [00:04<00:00,  9.24it/s]\n",
      "                 Class     Images  Instances      Box(P          R      mAP50  mAP50-95): 100%|██████████| 7/7 [00:00<00:00,  9.25it/s]"
     ]
    },
    {
     "name": "stdout",
     "output_type": "stream",
     "text": [
      "                   all        200        200      0.887      0.885      0.906      0.624\n"
     ]
    },
    {
     "name": "stderr",
     "output_type": "stream",
     "text": [
      "\n"
     ]
    },
    {
     "name": "stdout",
     "output_type": "stream",
     "text": [
      "\n",
      "      Epoch    GPU_mem   box_loss   cls_loss   dfl_loss  Instances       Size\n"
     ]
    },
    {
     "name": "stderr",
     "output_type": "stream",
     "text": [
      "      11/30      4.25G      1.107     0.7351      1.094         11        640: 100%|██████████| 44/44 [00:04<00:00,  9.22it/s]\n",
      "                 Class     Images  Instances      Box(P          R      mAP50  mAP50-95): 100%|██████████| 7/7 [00:00<00:00,  9.29it/s]"
     ]
    },
    {
     "name": "stdout",
     "output_type": "stream",
     "text": [
      "                   all        200        200      0.888      0.873      0.902      0.614\n"
     ]
    },
    {
     "name": "stderr",
     "output_type": "stream",
     "text": [
      "\n"
     ]
    },
    {
     "name": "stdout",
     "output_type": "stream",
     "text": [
      "\n",
      "      Epoch    GPU_mem   box_loss   cls_loss   dfl_loss  Instances       Size\n"
     ]
    },
    {
     "name": "stderr",
     "output_type": "stream",
     "text": [
      "      12/30      4.24G      1.082     0.6966      1.094          8        640: 100%|██████████| 44/44 [00:04<00:00,  9.28it/s]\n",
      "                 Class     Images  Instances      Box(P          R      mAP50  mAP50-95): 100%|██████████| 7/7 [00:00<00:00,  9.22it/s]"
     ]
    },
    {
     "name": "stdout",
     "output_type": "stream",
     "text": [
      "                   all        200        200      0.886        0.9      0.928      0.655\n"
     ]
    },
    {
     "name": "stderr",
     "output_type": "stream",
     "text": [
      "\n"
     ]
    },
    {
     "name": "stdout",
     "output_type": "stream",
     "text": [
      "\n",
      "      Epoch    GPU_mem   box_loss   cls_loss   dfl_loss  Instances       Size\n"
     ]
    },
    {
     "name": "stderr",
     "output_type": "stream",
     "text": [
      "      13/30      4.25G      1.049     0.6912       1.07         14        640: 100%|██████████| 44/44 [00:04<00:00,  9.24it/s]\n",
      "                 Class     Images  Instances      Box(P          R      mAP50  mAP50-95): 100%|██████████| 7/7 [00:00<00:00,  9.17it/s]"
     ]
    },
    {
     "name": "stdout",
     "output_type": "stream",
     "text": [
      "                   all        200        200      0.897      0.915      0.923      0.638\n"
     ]
    },
    {
     "name": "stderr",
     "output_type": "stream",
     "text": [
      "\n"
     ]
    },
    {
     "name": "stdout",
     "output_type": "stream",
     "text": [
      "\n",
      "      Epoch    GPU_mem   box_loss   cls_loss   dfl_loss  Instances       Size\n"
     ]
    },
    {
     "name": "stderr",
     "output_type": "stream",
     "text": [
      "      14/30      4.25G      1.101      0.693      1.101          9        640: 100%|██████████| 44/44 [00:04<00:00,  9.31it/s]\n",
      "                 Class     Images  Instances      Box(P          R      mAP50  mAP50-95): 100%|██████████| 7/7 [00:00<00:00,  9.35it/s]"
     ]
    },
    {
     "name": "stdout",
     "output_type": "stream",
     "text": [
      "                   all        200        200      0.881      0.895      0.895       0.62\n"
     ]
    },
    {
     "name": "stderr",
     "output_type": "stream",
     "text": [
      "\n"
     ]
    },
    {
     "name": "stdout",
     "output_type": "stream",
     "text": [
      "\n",
      "      Epoch    GPU_mem   box_loss   cls_loss   dfl_loss  Instances       Size\n"
     ]
    },
    {
     "name": "stderr",
     "output_type": "stream",
     "text": [
      "      15/30      4.25G      1.019     0.6658      1.052         11        640: 100%|██████████| 44/44 [00:04<00:00,  9.34it/s]\n",
      "                 Class     Images  Instances      Box(P          R      mAP50  mAP50-95): 100%|██████████| 7/7 [00:00<00:00,  9.24it/s]"
     ]
    },
    {
     "name": "stdout",
     "output_type": "stream",
     "text": [
      "                   all        200        200      0.906      0.905      0.916      0.668\n"
     ]
    },
    {
     "name": "stderr",
     "output_type": "stream",
     "text": [
      "\n"
     ]
    },
    {
     "name": "stdout",
     "output_type": "stream",
     "text": [
      "\n",
      "      Epoch    GPU_mem   box_loss   cls_loss   dfl_loss  Instances       Size\n"
     ]
    },
    {
     "name": "stderr",
     "output_type": "stream",
     "text": [
      "      16/30      4.24G      1.032     0.6645      1.059          7        640: 100%|██████████| 44/44 [00:04<00:00,  9.40it/s]\n",
      "                 Class     Images  Instances      Box(P          R      mAP50  mAP50-95): 100%|██████████| 7/7 [00:00<00:00,  9.36it/s]"
     ]
    },
    {
     "name": "stdout",
     "output_type": "stream",
     "text": [
      "                   all        200        200      0.903       0.92      0.912      0.653\n"
     ]
    },
    {
     "name": "stderr",
     "output_type": "stream",
     "text": [
      "\n"
     ]
    },
    {
     "name": "stdout",
     "output_type": "stream",
     "text": [
      "\n",
      "      Epoch    GPU_mem   box_loss   cls_loss   dfl_loss  Instances       Size\n"
     ]
    },
    {
     "name": "stderr",
     "output_type": "stream",
     "text": [
      "      17/30      4.24G          1      0.616      1.058          8        640: 100%|██████████| 44/44 [00:04<00:00,  9.19it/s]\n",
      "                 Class     Images  Instances      Box(P          R      mAP50  mAP50-95): 100%|██████████| 7/7 [00:00<00:00,  9.38it/s]"
     ]
    },
    {
     "name": "stdout",
     "output_type": "stream",
     "text": [
      "                   all        200        200      0.879      0.925      0.925       0.65\n"
     ]
    },
    {
     "name": "stderr",
     "output_type": "stream",
     "text": [
      "\n"
     ]
    },
    {
     "name": "stdout",
     "output_type": "stream",
     "text": [
      "\n",
      "      Epoch    GPU_mem   box_loss   cls_loss   dfl_loss  Instances       Size\n"
     ]
    },
    {
     "name": "stderr",
     "output_type": "stream",
     "text": [
      "      18/30      4.24G      1.001     0.6057      1.052          8        640: 100%|██████████| 44/44 [00:04<00:00,  9.20it/s]\n",
      "                 Class     Images  Instances      Box(P          R      mAP50  mAP50-95): 100%|██████████| 7/7 [00:00<00:00,  9.19it/s]"
     ]
    },
    {
     "name": "stdout",
     "output_type": "stream",
     "text": [
      "                   all        200        200        0.9      0.915       0.93      0.683\n"
     ]
    },
    {
     "name": "stderr",
     "output_type": "stream",
     "text": [
      "\n"
     ]
    },
    {
     "name": "stdout",
     "output_type": "stream",
     "text": [
      "\n",
      "      Epoch    GPU_mem   box_loss   cls_loss   dfl_loss  Instances       Size\n"
     ]
    },
    {
     "name": "stderr",
     "output_type": "stream",
     "text": [
      "      19/30      4.24G     0.9759     0.6023      1.037          7        640: 100%|██████████| 44/44 [00:04<00:00,  9.11it/s]\n",
      "                 Class     Images  Instances      Box(P          R      mAP50  mAP50-95): 100%|██████████| 7/7 [00:00<00:00,  9.18it/s]"
     ]
    },
    {
     "name": "stdout",
     "output_type": "stream",
     "text": [
      "                   all        200        200      0.903      0.932      0.933      0.672\n"
     ]
    },
    {
     "name": "stderr",
     "output_type": "stream",
     "text": [
      "\n"
     ]
    },
    {
     "name": "stdout",
     "output_type": "stream",
     "text": [
      "\n",
      "      Epoch    GPU_mem   box_loss   cls_loss   dfl_loss  Instances       Size\n"
     ]
    },
    {
     "name": "stderr",
     "output_type": "stream",
     "text": [
      "      20/30      4.25G      0.948     0.5887      1.034         10        640: 100%|██████████| 44/44 [00:04<00:00,  9.10it/s]\n",
      "                 Class     Images  Instances      Box(P          R      mAP50  mAP50-95): 100%|██████████| 7/7 [00:00<00:00,  9.08it/s]"
     ]
    },
    {
     "name": "stdout",
     "output_type": "stream",
     "text": [
      "                   all        200        200      0.927       0.91       0.95      0.685\n"
     ]
    },
    {
     "name": "stderr",
     "output_type": "stream",
     "text": [
      "\n"
     ]
    },
    {
     "name": "stdout",
     "output_type": "stream",
     "text": [
      "Closing dataloader mosaic\n",
      "\n",
      "      Epoch    GPU_mem   box_loss   cls_loss   dfl_loss  Instances       Size\n"
     ]
    },
    {
     "name": "stderr",
     "output_type": "stream",
     "text": [
      "      21/30      4.24G     0.8844     0.5181      1.003          7        640: 100%|██████████| 44/44 [00:05<00:00,  8.76it/s]\n",
      "                 Class     Images  Instances      Box(P          R      mAP50  mAP50-95): 100%|██████████| 7/7 [00:00<00:00,  9.00it/s]"
     ]
    },
    {
     "name": "stdout",
     "output_type": "stream",
     "text": [
      "                   all        200        200      0.898      0.935      0.939      0.688\n"
     ]
    },
    {
     "name": "stderr",
     "output_type": "stream",
     "text": [
      "\n"
     ]
    },
    {
     "name": "stdout",
     "output_type": "stream",
     "text": [
      "\n",
      "      Epoch    GPU_mem   box_loss   cls_loss   dfl_loss  Instances       Size\n"
     ]
    },
    {
     "name": "stderr",
     "output_type": "stream",
     "text": [
      "      22/30      4.24G     0.8779     0.5102      1.008          7        640: 100%|██████████| 44/44 [00:04<00:00,  9.17it/s]\n",
      "                 Class     Images  Instances      Box(P          R      mAP50  mAP50-95): 100%|██████████| 7/7 [00:00<00:00,  9.43it/s]"
     ]
    },
    {
     "name": "stdout",
     "output_type": "stream",
     "text": [
      "                   all        200        200      0.902      0.945      0.942      0.698\n"
     ]
    },
    {
     "name": "stderr",
     "output_type": "stream",
     "text": [
      "\n"
     ]
    },
    {
     "name": "stdout",
     "output_type": "stream",
     "text": [
      "\n",
      "      Epoch    GPU_mem   box_loss   cls_loss   dfl_loss  Instances       Size\n"
     ]
    },
    {
     "name": "stderr",
     "output_type": "stream",
     "text": [
      "      23/30      4.24G     0.8583     0.4948      1.012          7        640: 100%|██████████| 44/44 [00:04<00:00,  9.04it/s]\n",
      "                 Class     Images  Instances      Box(P          R      mAP50  mAP50-95): 100%|██████████| 7/7 [00:00<00:00,  9.25it/s]"
     ]
    },
    {
     "name": "stdout",
     "output_type": "stream",
     "text": [
      "                   all        200        200      0.925      0.915      0.941      0.705\n"
     ]
    },
    {
     "name": "stderr",
     "output_type": "stream",
     "text": [
      "\n"
     ]
    },
    {
     "name": "stdout",
     "output_type": "stream",
     "text": [
      "\n",
      "      Epoch    GPU_mem   box_loss   cls_loss   dfl_loss  Instances       Size\n"
     ]
    },
    {
     "name": "stderr",
     "output_type": "stream",
     "text": [
      "      24/30      4.24G     0.8528     0.4828     0.9957          7        640: 100%|██████████| 44/44 [00:04<00:00,  9.18it/s]\n",
      "                 Class     Images  Instances      Box(P          R      mAP50  mAP50-95): 100%|██████████| 7/7 [00:00<00:00,  9.40it/s]"
     ]
    },
    {
     "name": "stdout",
     "output_type": "stream",
     "text": [
      "                   all        200        200      0.912      0.938      0.941      0.729\n"
     ]
    },
    {
     "name": "stderr",
     "output_type": "stream",
     "text": [
      "\n"
     ]
    },
    {
     "name": "stdout",
     "output_type": "stream",
     "text": [
      "\n",
      "      Epoch    GPU_mem   box_loss   cls_loss   dfl_loss  Instances       Size\n"
     ]
    },
    {
     "name": "stderr",
     "output_type": "stream",
     "text": [
      "      25/30      4.24G     0.8353     0.4576          1          7        640: 100%|██████████| 44/44 [00:04<00:00,  9.01it/s]\n",
      "                 Class     Images  Instances      Box(P          R      mAP50  mAP50-95): 100%|██████████| 7/7 [00:00<00:00,  9.29it/s]"
     ]
    },
    {
     "name": "stdout",
     "output_type": "stream",
     "text": [
      "                   all        200        200      0.925      0.945      0.944       0.72\n"
     ]
    },
    {
     "name": "stderr",
     "output_type": "stream",
     "text": [
      "\n"
     ]
    },
    {
     "name": "stdout",
     "output_type": "stream",
     "text": [
      "\n",
      "      Epoch    GPU_mem   box_loss   cls_loss   dfl_loss  Instances       Size\n"
     ]
    },
    {
     "name": "stderr",
     "output_type": "stream",
     "text": [
      "      26/30      4.24G     0.8306      0.478     0.9997          7        640: 100%|██████████| 44/44 [00:04<00:00,  9.05it/s]\n",
      "                 Class     Images  Instances      Box(P          R      mAP50  mAP50-95): 100%|██████████| 7/7 [00:00<00:00,  9.01it/s]"
     ]
    },
    {
     "name": "stdout",
     "output_type": "stream",
     "text": [
      "                   all        200        200      0.934      0.923       0.94      0.734\n"
     ]
    },
    {
     "name": "stderr",
     "output_type": "stream",
     "text": [
      "\n"
     ]
    },
    {
     "name": "stdout",
     "output_type": "stream",
     "text": [
      "\n",
      "      Epoch    GPU_mem   box_loss   cls_loss   dfl_loss  Instances       Size\n"
     ]
    },
    {
     "name": "stderr",
     "output_type": "stream",
     "text": [
      "      27/30      4.24G      0.792     0.4502     0.9654          7        640: 100%|██████████| 44/44 [00:04<00:00,  9.09it/s]\n",
      "                 Class     Images  Instances      Box(P          R      mAP50  mAP50-95): 100%|██████████| 7/7 [00:00<00:00,  9.07it/s]"
     ]
    },
    {
     "name": "stdout",
     "output_type": "stream",
     "text": [
      "                   all        200        200      0.918      0.949      0.945      0.736\n"
     ]
    },
    {
     "name": "stderr",
     "output_type": "stream",
     "text": [
      "\n"
     ]
    },
    {
     "name": "stdout",
     "output_type": "stream",
     "text": [
      "\n",
      "      Epoch    GPU_mem   box_loss   cls_loss   dfl_loss  Instances       Size\n"
     ]
    },
    {
     "name": "stderr",
     "output_type": "stream",
     "text": [
      "      28/30      4.24G     0.7684     0.4424     0.9563          7        640: 100%|██████████| 44/44 [00:04<00:00,  9.02it/s]\n",
      "                 Class     Images  Instances      Box(P          R      mAP50  mAP50-95): 100%|██████████| 7/7 [00:00<00:00,  9.03it/s]"
     ]
    },
    {
     "name": "stdout",
     "output_type": "stream",
     "text": [
      "                   all        200        200      0.931       0.95      0.951      0.743\n"
     ]
    },
    {
     "name": "stderr",
     "output_type": "stream",
     "text": [
      "\n"
     ]
    },
    {
     "name": "stdout",
     "output_type": "stream",
     "text": [
      "\n",
      "      Epoch    GPU_mem   box_loss   cls_loss   dfl_loss  Instances       Size\n"
     ]
    },
    {
     "name": "stderr",
     "output_type": "stream",
     "text": [
      "      29/30      4.24G     0.7303     0.4169     0.9594          7        640: 100%|██████████| 44/44 [00:04<00:00,  9.12it/s]\n",
      "                 Class     Images  Instances      Box(P          R      mAP50  mAP50-95): 100%|██████████| 7/7 [00:00<00:00,  8.99it/s]"
     ]
    },
    {
     "name": "stdout",
     "output_type": "stream",
     "text": [
      "                   all        200        200      0.948       0.95      0.951      0.751\n"
     ]
    },
    {
     "name": "stderr",
     "output_type": "stream",
     "text": [
      "\n"
     ]
    },
    {
     "name": "stdout",
     "output_type": "stream",
     "text": [
      "\n",
      "      Epoch    GPU_mem   box_loss   cls_loss   dfl_loss  Instances       Size\n"
     ]
    },
    {
     "name": "stderr",
     "output_type": "stream",
     "text": [
      "      30/30      4.24G     0.7372     0.4145     0.9527          7        640: 100%|██████████| 44/44 [00:04<00:00,  9.15it/s]\n",
      "                 Class     Images  Instances      Box(P          R      mAP50  mAP50-95): 100%|██████████| 7/7 [00:00<00:00,  8.54it/s]"
     ]
    },
    {
     "name": "stdout",
     "output_type": "stream",
     "text": [
      "                   all        200        200      0.944       0.95      0.954      0.747\n"
     ]
    },
    {
     "name": "stderr",
     "output_type": "stream",
     "text": [
      "\n"
     ]
    },
    {
     "name": "stdout",
     "output_type": "stream",
     "text": [
      "\n",
      "30 epochs completed in 0.053 hours.\n",
      "Optimizer stripped from yolov8_training/exp2/weights/last.pt, 22.5MB\n",
      "Optimizer stripped from yolov8_training/exp2/weights/best.pt, 22.5MB\n",
      "\n",
      "Validating yolov8_training/exp2/weights/best.pt...\n",
      "Ultralytics 8.3.25 🚀 Python-3.10.12 torch-2.1.0+cu118 CUDA:0 (NVIDIA A100-SXM4-40GB MIG 3g.20gb, 19968MiB)\n",
      "Model summary (fused): 168 layers, 11,125,971 parameters, 0 gradients, 28.4 GFLOPs\n"
     ]
    },
    {
     "name": "stderr",
     "output_type": "stream",
     "text": [
      "                 Class     Images  Instances      Box(P          R      mAP50  mAP50-95): 100%|██████████| 7/7 [00:01<00:00,  6.45it/s]\n"
     ]
    },
    {
     "name": "stdout",
     "output_type": "stream",
     "text": [
      "                   all        200        200      0.946       0.95      0.951      0.752\n",
      "Speed: 0.1ms preprocess, 1.7ms inference, 0.0ms loss, 0.8ms postprocess per image\n",
      "Results saved to \u001b[1myolov8_training/exp2\u001b[0m\n",
      "ultralytics.utils.metrics.DetMetrics object with attributes:\n",
      "\n",
      "ap_class_index: array([0])\n",
      "box: ultralytics.utils.metrics.Metric object\n",
      "confusion_matrix: <ultralytics.utils.metrics.ConfusionMatrix object at 0x7fa6a5514d30>\n",
      "curves: ['Precision-Recall(B)', 'F1-Confidence(B)', 'Precision-Confidence(B)', 'Recall-Confidence(B)']\n",
      "curves_results: [[array([          0,    0.001001,    0.002002,    0.003003,    0.004004,    0.005005,    0.006006,    0.007007,    0.008008,    0.009009,     0.01001,    0.011011,    0.012012,    0.013013,    0.014014,    0.015015,    0.016016,    0.017017,    0.018018,    0.019019,     0.02002,    0.021021,    0.022022,    0.023023,\n",
      "          0.024024,    0.025025,    0.026026,    0.027027,    0.028028,    0.029029,     0.03003,    0.031031,    0.032032,    0.033033,    0.034034,    0.035035,    0.036036,    0.037037,    0.038038,    0.039039,     0.04004,    0.041041,    0.042042,    0.043043,    0.044044,    0.045045,    0.046046,    0.047047,\n",
      "          0.048048,    0.049049,     0.05005,    0.051051,    0.052052,    0.053053,    0.054054,    0.055055,    0.056056,    0.057057,    0.058058,    0.059059,     0.06006,    0.061061,    0.062062,    0.063063,    0.064064,    0.065065,    0.066066,    0.067067,    0.068068,    0.069069,     0.07007,    0.071071,\n",
      "          0.072072,    0.073073,    0.074074,    0.075075,    0.076076,    0.077077,    0.078078,    0.079079,     0.08008,    0.081081,    0.082082,    0.083083,    0.084084,    0.085085,    0.086086,    0.087087,    0.088088,    0.089089,     0.09009,    0.091091,    0.092092,    0.093093,    0.094094,    0.095095,\n",
      "          0.096096,    0.097097,    0.098098,    0.099099,      0.1001,      0.1011,      0.1021,      0.1031,      0.1041,     0.10511,     0.10611,     0.10711,     0.10811,     0.10911,     0.11011,     0.11111,     0.11211,     0.11311,     0.11411,     0.11512,     0.11612,     0.11712,     0.11812,     0.11912,\n",
      "           0.12012,     0.12112,     0.12212,     0.12312,     0.12412,     0.12513,     0.12613,     0.12713,     0.12813,     0.12913,     0.13013,     0.13113,     0.13213,     0.13313,     0.13413,     0.13514,     0.13614,     0.13714,     0.13814,     0.13914,     0.14014,     0.14114,     0.14214,     0.14314,\n",
      "           0.14414,     0.14515,     0.14615,     0.14715,     0.14815,     0.14915,     0.15015,     0.15115,     0.15215,     0.15315,     0.15415,     0.15516,     0.15616,     0.15716,     0.15816,     0.15916,     0.16016,     0.16116,     0.16216,     0.16316,     0.16416,     0.16517,     0.16617,     0.16717,\n",
      "           0.16817,     0.16917,     0.17017,     0.17117,     0.17217,     0.17317,     0.17417,     0.17518,     0.17618,     0.17718,     0.17818,     0.17918,     0.18018,     0.18118,     0.18218,     0.18318,     0.18418,     0.18519,     0.18619,     0.18719,     0.18819,     0.18919,     0.19019,     0.19119,\n",
      "           0.19219,     0.19319,     0.19419,      0.1952,      0.1962,      0.1972,      0.1982,      0.1992,      0.2002,      0.2012,      0.2022,      0.2032,      0.2042,     0.20521,     0.20621,     0.20721,     0.20821,     0.20921,     0.21021,     0.21121,     0.21221,     0.21321,     0.21421,     0.21522,\n",
      "           0.21622,     0.21722,     0.21822,     0.21922,     0.22022,     0.22122,     0.22222,     0.22322,     0.22422,     0.22523,     0.22623,     0.22723,     0.22823,     0.22923,     0.23023,     0.23123,     0.23223,     0.23323,     0.23423,     0.23524,     0.23624,     0.23724,     0.23824,     0.23924,\n",
      "           0.24024,     0.24124,     0.24224,     0.24324,     0.24424,     0.24525,     0.24625,     0.24725,     0.24825,     0.24925,     0.25025,     0.25125,     0.25225,     0.25325,     0.25425,     0.25526,     0.25626,     0.25726,     0.25826,     0.25926,     0.26026,     0.26126,     0.26226,     0.26326,\n",
      "           0.26426,     0.26527,     0.26627,     0.26727,     0.26827,     0.26927,     0.27027,     0.27127,     0.27227,     0.27327,     0.27427,     0.27528,     0.27628,     0.27728,     0.27828,     0.27928,     0.28028,     0.28128,     0.28228,     0.28328,     0.28428,     0.28529,     0.28629,     0.28729,\n",
      "           0.28829,     0.28929,     0.29029,     0.29129,     0.29229,     0.29329,     0.29429,      0.2953,      0.2963,      0.2973,      0.2983,      0.2993,      0.3003,      0.3013,      0.3023,      0.3033,      0.3043,     0.30531,     0.30631,     0.30731,     0.30831,     0.30931,     0.31031,     0.31131,\n",
      "           0.31231,     0.31331,     0.31431,     0.31532,     0.31632,     0.31732,     0.31832,     0.31932,     0.32032,     0.32132,     0.32232,     0.32332,     0.32432,     0.32533,     0.32633,     0.32733,     0.32833,     0.32933,     0.33033,     0.33133,     0.33233,     0.33333,     0.33433,     0.33534,\n",
      "           0.33634,     0.33734,     0.33834,     0.33934,     0.34034,     0.34134,     0.34234,     0.34334,     0.34434,     0.34535,     0.34635,     0.34735,     0.34835,     0.34935,     0.35035,     0.35135,     0.35235,     0.35335,     0.35435,     0.35536,     0.35636,     0.35736,     0.35836,     0.35936,\n",
      "           0.36036,     0.36136,     0.36236,     0.36336,     0.36436,     0.36537,     0.36637,     0.36737,     0.36837,     0.36937,     0.37037,     0.37137,     0.37237,     0.37337,     0.37437,     0.37538,     0.37638,     0.37738,     0.37838,     0.37938,     0.38038,     0.38138,     0.38238,     0.38338,\n",
      "           0.38438,     0.38539,     0.38639,     0.38739,     0.38839,     0.38939,     0.39039,     0.39139,     0.39239,     0.39339,     0.39439,      0.3954,      0.3964,      0.3974,      0.3984,      0.3994,      0.4004,      0.4014,      0.4024,      0.4034,      0.4044,     0.40541,     0.40641,     0.40741,\n",
      "           0.40841,     0.40941,     0.41041,     0.41141,     0.41241,     0.41341,     0.41441,     0.41542,     0.41642,     0.41742,     0.41842,     0.41942,     0.42042,     0.42142,     0.42242,     0.42342,     0.42442,     0.42543,     0.42643,     0.42743,     0.42843,     0.42943,     0.43043,     0.43143,\n",
      "           0.43243,     0.43343,     0.43443,     0.43544,     0.43644,     0.43744,     0.43844,     0.43944,     0.44044,     0.44144,     0.44244,     0.44344,     0.44444,     0.44545,     0.44645,     0.44745,     0.44845,     0.44945,     0.45045,     0.45145,     0.45245,     0.45345,     0.45445,     0.45546,\n",
      "           0.45646,     0.45746,     0.45846,     0.45946,     0.46046,     0.46146,     0.46246,     0.46346,     0.46446,     0.46547,     0.46647,     0.46747,     0.46847,     0.46947,     0.47047,     0.47147,     0.47247,     0.47347,     0.47447,     0.47548,     0.47648,     0.47748,     0.47848,     0.47948,\n",
      "           0.48048,     0.48148,     0.48248,     0.48348,     0.48448,     0.48549,     0.48649,     0.48749,     0.48849,     0.48949,     0.49049,     0.49149,     0.49249,     0.49349,     0.49449,      0.4955,      0.4965,      0.4975,      0.4985,      0.4995,      0.5005,      0.5015,      0.5025,      0.5035,\n",
      "            0.5045,     0.50551,     0.50651,     0.50751,     0.50851,     0.50951,     0.51051,     0.51151,     0.51251,     0.51351,     0.51451,     0.51552,     0.51652,     0.51752,     0.51852,     0.51952,     0.52052,     0.52152,     0.52252,     0.52352,     0.52452,     0.52553,     0.52653,     0.52753,\n",
      "           0.52853,     0.52953,     0.53053,     0.53153,     0.53253,     0.53353,     0.53453,     0.53554,     0.53654,     0.53754,     0.53854,     0.53954,     0.54054,     0.54154,     0.54254,     0.54354,     0.54454,     0.54555,     0.54655,     0.54755,     0.54855,     0.54955,     0.55055,     0.55155,\n",
      "           0.55255,     0.55355,     0.55455,     0.55556,     0.55656,     0.55756,     0.55856,     0.55956,     0.56056,     0.56156,     0.56256,     0.56356,     0.56456,     0.56557,     0.56657,     0.56757,     0.56857,     0.56957,     0.57057,     0.57157,     0.57257,     0.57357,     0.57457,     0.57558,\n",
      "           0.57658,     0.57758,     0.57858,     0.57958,     0.58058,     0.58158,     0.58258,     0.58358,     0.58458,     0.58559,     0.58659,     0.58759,     0.58859,     0.58959,     0.59059,     0.59159,     0.59259,     0.59359,     0.59459,      0.5956,      0.5966,      0.5976,      0.5986,      0.5996,\n",
      "            0.6006,      0.6016,      0.6026,      0.6036,      0.6046,     0.60561,     0.60661,     0.60761,     0.60861,     0.60961,     0.61061,     0.61161,     0.61261,     0.61361,     0.61461,     0.61562,     0.61662,     0.61762,     0.61862,     0.61962,     0.62062,     0.62162,     0.62262,     0.62362,\n",
      "           0.62462,     0.62563,     0.62663,     0.62763,     0.62863,     0.62963,     0.63063,     0.63163,     0.63263,     0.63363,     0.63463,     0.63564,     0.63664,     0.63764,     0.63864,     0.63964,     0.64064,     0.64164,     0.64264,     0.64364,     0.64464,     0.64565,     0.64665,     0.64765,\n",
      "           0.64865,     0.64965,     0.65065,     0.65165,     0.65265,     0.65365,     0.65465,     0.65566,     0.65666,     0.65766,     0.65866,     0.65966,     0.66066,     0.66166,     0.66266,     0.66366,     0.66466,     0.66567,     0.66667,     0.66767,     0.66867,     0.66967,     0.67067,     0.67167,\n",
      "           0.67267,     0.67367,     0.67467,     0.67568,     0.67668,     0.67768,     0.67868,     0.67968,     0.68068,     0.68168,     0.68268,     0.68368,     0.68468,     0.68569,     0.68669,     0.68769,     0.68869,     0.68969,     0.69069,     0.69169,     0.69269,     0.69369,     0.69469,      0.6957,\n",
      "            0.6967,      0.6977,      0.6987,      0.6997,      0.7007,      0.7017,      0.7027,      0.7037,      0.7047,     0.70571,     0.70671,     0.70771,     0.70871,     0.70971,     0.71071,     0.71171,     0.71271,     0.71371,     0.71471,     0.71572,     0.71672,     0.71772,     0.71872,     0.71972,\n",
      "           0.72072,     0.72172,     0.72272,     0.72372,     0.72472,     0.72573,     0.72673,     0.72773,     0.72873,     0.72973,     0.73073,     0.73173,     0.73273,     0.73373,     0.73473,     0.73574,     0.73674,     0.73774,     0.73874,     0.73974,     0.74074,     0.74174,     0.74274,     0.74374,\n",
      "           0.74474,     0.74575,     0.74675,     0.74775,     0.74875,     0.74975,     0.75075,     0.75175,     0.75275,     0.75375,     0.75475,     0.75576,     0.75676,     0.75776,     0.75876,     0.75976,     0.76076,     0.76176,     0.76276,     0.76376,     0.76476,     0.76577,     0.76677,     0.76777,\n",
      "           0.76877,     0.76977,     0.77077,     0.77177,     0.77277,     0.77377,     0.77477,     0.77578,     0.77678,     0.77778,     0.77878,     0.77978,     0.78078,     0.78178,     0.78278,     0.78378,     0.78478,     0.78579,     0.78679,     0.78779,     0.78879,     0.78979,     0.79079,     0.79179,\n",
      "           0.79279,     0.79379,     0.79479,      0.7958,      0.7968,      0.7978,      0.7988,      0.7998,      0.8008,      0.8018,      0.8028,      0.8038,      0.8048,     0.80581,     0.80681,     0.80781,     0.80881,     0.80981,     0.81081,     0.81181,     0.81281,     0.81381,     0.81481,     0.81582,\n",
      "           0.81682,     0.81782,     0.81882,     0.81982,     0.82082,     0.82182,     0.82282,     0.82382,     0.82482,     0.82583,     0.82683,     0.82783,     0.82883,     0.82983,     0.83083,     0.83183,     0.83283,     0.83383,     0.83483,     0.83584,     0.83684,     0.83784,     0.83884,     0.83984,\n",
      "           0.84084,     0.84184,     0.84284,     0.84384,     0.84484,     0.84585,     0.84685,     0.84785,     0.84885,     0.84985,     0.85085,     0.85185,     0.85285,     0.85385,     0.85485,     0.85586,     0.85686,     0.85786,     0.85886,     0.85986,     0.86086,     0.86186,     0.86286,     0.86386,\n",
      "           0.86486,     0.86587,     0.86687,     0.86787,     0.86887,     0.86987,     0.87087,     0.87187,     0.87287,     0.87387,     0.87487,     0.87588,     0.87688,     0.87788,     0.87888,     0.87988,     0.88088,     0.88188,     0.88288,     0.88388,     0.88488,     0.88589,     0.88689,     0.88789,\n",
      "           0.88889,     0.88989,     0.89089,     0.89189,     0.89289,     0.89389,     0.89489,      0.8959,      0.8969,      0.8979,      0.8989,      0.8999,      0.9009,      0.9019,      0.9029,      0.9039,      0.9049,     0.90591,     0.90691,     0.90791,     0.90891,     0.90991,     0.91091,     0.91191,\n",
      "           0.91291,     0.91391,     0.91491,     0.91592,     0.91692,     0.91792,     0.91892,     0.91992,     0.92092,     0.92192,     0.92292,     0.92392,     0.92492,     0.92593,     0.92693,     0.92793,     0.92893,     0.92993,     0.93093,     0.93193,     0.93293,     0.93393,     0.93493,     0.93594,\n",
      "           0.93694,     0.93794,     0.93894,     0.93994,     0.94094,     0.94194,     0.94294,     0.94394,     0.94494,     0.94595,     0.94695,     0.94795,     0.94895,     0.94995,     0.95095,     0.95195,     0.95295,     0.95395,     0.95495,     0.95596,     0.95696,     0.95796,     0.95896,     0.95996,\n",
      "           0.96096,     0.96196,     0.96296,     0.96396,     0.96496,     0.96597,     0.96697,     0.96797,     0.96897,     0.96997,     0.97097,     0.97197,     0.97297,     0.97397,     0.97497,     0.97598,     0.97698,     0.97798,     0.97898,     0.97998,     0.98098,     0.98198,     0.98298,     0.98398,\n",
      "           0.98498,     0.98599,     0.98699,     0.98799,     0.98899,     0.98999,     0.99099,     0.99199,     0.99299,     0.99399,     0.99499,       0.996,       0.997,       0.998,       0.999,           1]), array([[          1,           1,           1,           1,           1,           1,           1,           1,           1,           1,           1,           1,           1,           1,           1,           1,           1,           1,           1,           1,           1,           1,           1,\n",
      "                  1,           1,           1,           1,           1,           1,           1,           1,           1,           1,           1,           1,           1,           1,           1,           1,           1,           1,           1,           1,           1,           1,           1,\n",
      "                  1,           1,           1,           1,           1,           1,           1,           1,           1,           1,           1,           1,           1,           1,           1,           1,           1,           1,           1,           1,           1,           1,           1,\n",
      "                  1,           1,           1,           1,           1,           1,           1,           1,           1,           1,           1,           1,           1,           1,           1,           1,           1,           1,           1,           1,           1,           1,           1,\n",
      "                  1,           1,           1,           1,           1,           1,           1,           1,           1,           1,           1,           1,           1,           1,           1,           1,           1,           1,           1,           1,           1,           1,           1,\n",
      "                  1,           1,           1,           1,           1,           1,           1,           1,           1,           1,           1,           1,           1,           1,           1,           1,           1,           1,           1,           1,           1,           1,           1,\n",
      "                  1,           1,           1,           1,           1,           1,           1,           1,           1,           1,           1,           1,           1,           1,           1,           1,           1,           1,           1,           1,           1,           1,           1,\n",
      "                  1,           1,           1,           1,           1,           1,           1,           1,           1,           1,           1,           1,           1,           1,           1,           1,           1,           1,           1,           1,           1,           1,           1,\n",
      "                  1,           1,           1,           1,           1,           1,           1,           1,           1,           1,           1,           1,           1,           1,           1,           1,           1,           1,           1,           1,           1,           1,           1,\n",
      "                  1,           1,           1,           1,           1,           1,           1,           1,           1,           1,           1,           1,           1,           1,           1,           1,           1,           1,           1,           1,           1,           1,           1,\n",
      "                  1,           1,           1,           1,           1,           1,           1,           1,           1,           1,           1,           1,           1,           1,           1,           1,           1,           1,           1,           1,           1,           1,           1,\n",
      "                  1,           1,           1,           1,           1,           1,           1,           1,           1,           1,           1,           1,           1,           1,           1,           1,           1,           1,           1,           1,           1,           1,           1,\n",
      "                  1,           1,           1,           1,           1,           1,           1,           1,           1,           1,           1,           1,           1,           1,           1,           1,           1,           1,           1,      0.9854,      0.9854,      0.9854,      0.9854,\n",
      "             0.9854,      0.9854,      0.9854,      0.9854,      0.9854,      0.9854,      0.9854,      0.9854,      0.9854,      0.9854,      0.9854,      0.9854,      0.9854,      0.9854,      0.9854,      0.9854,      0.9854,      0.9854,      0.9854,      0.9854,      0.9854,      0.9854,      0.9854,\n",
      "             0.9854,      0.9854,      0.9854,      0.9854,      0.9854,      0.9854,      0.9854,      0.9854,      0.9854,      0.9854,      0.9854,      0.9854,      0.9854,      0.9854,      0.9854,      0.9854,      0.9854,      0.9854,      0.9854,      0.9854,      0.9854,      0.9854,      0.9854,\n",
      "             0.9854,      0.9854,      0.9854,      0.9854,      0.9854,      0.9854,      0.9854,      0.9854,      0.9854,      0.9854,      0.9854,      0.9854,      0.9854,      0.9854,      0.9854,      0.9854,      0.9854,      0.9854,      0.9854,      0.9854,      0.9854,      0.9854,      0.9854,\n",
      "             0.9854,      0.9854,      0.9854,      0.9854,      0.9854,      0.9854,      0.9854,      0.9854,      0.9854,      0.9854,      0.9854,      0.9854,      0.9854,      0.9854,      0.9854,      0.9854,      0.9854,      0.9854,      0.9854,      0.9854,      0.9854,      0.9854,      0.9854,\n",
      "             0.9854,      0.9854,      0.9854,      0.9854,      0.9854,      0.9854,      0.9854,      0.9854,      0.9854,      0.9854,      0.9854,      0.9854,      0.9854,      0.9854,      0.9854,      0.9854,      0.9854,      0.9854,      0.9854,      0.9854,      0.9854,      0.9854,      0.9854,\n",
      "             0.9854,      0.9854,      0.9854,      0.9854,      0.9854,      0.9854,      0.9854,      0.9854,      0.9854,      0.9854,      0.9854,      0.9854,      0.9854,      0.9854,      0.9854,      0.9854,      0.9854,      0.9854,      0.9854,      0.9854,      0.9854,      0.9854,      0.9854,\n",
      "             0.9854,      0.9854,      0.9854,      0.9854,      0.9854,      0.9854,      0.9854,      0.9854,      0.9854,      0.9854,      0.9854,      0.9854,      0.9854,      0.9854,      0.9854,      0.9854,      0.9854,      0.9854,      0.9854,      0.9854,      0.9854,      0.9854,      0.9854,\n",
      "             0.9854,      0.9854,      0.9854,      0.9854,      0.9854,      0.9854,      0.9854,      0.9854,      0.9854,      0.9854,      0.9854,      0.9854,      0.9854,      0.9854,      0.9854,      0.9854,      0.9854,      0.9854,      0.9854,      0.9854,      0.9854,      0.9854,      0.9854,\n",
      "             0.9854,      0.9854,      0.9854,      0.9854,      0.9854,      0.9854,      0.9854,      0.9854,      0.9854,      0.9854,      0.9854,      0.9854,      0.9854,      0.9854,      0.9854,      0.9854,      0.9854,      0.9854,      0.9854,      0.9854,      0.9854,      0.9854,      0.9854,\n",
      "             0.9854,      0.9854,      0.9854,      0.9854,      0.9854,      0.9854,      0.9854,      0.9854,      0.9854,      0.9854,      0.9854,      0.9854,      0.9854,      0.9854,      0.9854,      0.9854,      0.9854,      0.9854,      0.9854,      0.9854,      0.9854,      0.9854,      0.9854,\n",
      "             0.9854,      0.9854,      0.9854,      0.9854,      0.9854,      0.9854,      0.9854,      0.9854,      0.9854,      0.9854,      0.9854,      0.9854,      0.9854,      0.9854,      0.9854,      0.9854,      0.9854,      0.9854,      0.9854,      0.9854,      0.9854,      0.9854,      0.9854,\n",
      "             0.9854,      0.9854,      0.9854,      0.9854,      0.9854,      0.9854,      0.9854,      0.9854,      0.9854,      0.9854,      0.9854,      0.9854,      0.9854,      0.9854,      0.9854,      0.9854,      0.9854,      0.9854,      0.9854,      0.9854,      0.9854,      0.9854,      0.9854,\n",
      "             0.9854,      0.9854,      0.9854,      0.9854,      0.9854,      0.9854,      0.9854,      0.9854,      0.9854,      0.9854,      0.9854,      0.9854,      0.9854,      0.9854,      0.9854,      0.9854,      0.9854,      0.9854,      0.9854,      0.9854,      0.9854,      0.9854,      0.9854,\n",
      "             0.9854,      0.9854,      0.9854,      0.9854,      0.9854,      0.9854,      0.9854,      0.9854,      0.9854,      0.9854,      0.9854,      0.9854,      0.9854,      0.9854,      0.9854,      0.9854,      0.9854,      0.9854,      0.9854,      0.9854,      0.9854,      0.9854,      0.9854,\n",
      "             0.9854,      0.9854,      0.9854,      0.9854,      0.9854,      0.9854,      0.9854,      0.9854,      0.9854,      0.9854,      0.9854,      0.9854,      0.9854,      0.9854,      0.9854,      0.9854,      0.9854,      0.9854,      0.9854,      0.9854,      0.9854,      0.9854,      0.9854,\n",
      "             0.9854,      0.9854,      0.9854,      0.9854,      0.9854,      0.9854,      0.9854,      0.9854,      0.9854,      0.9854,      0.9854,      0.9854,      0.9854,      0.9854,      0.9854,      0.9854,      0.9854,      0.9854,      0.9854,      0.9854,      0.9854,      0.9854,      0.9854,\n",
      "             0.9854,      0.9854,      0.9854,      0.9854,      0.9854,      0.9854,      0.9854,      0.9854,     0.97917,     0.97917,     0.97917,     0.97917,     0.97917,     0.97917,     0.97917,     0.97917,     0.97917,     0.97917,     0.97917,     0.97917,     0.97917,     0.97917,     0.97917,\n",
      "            0.97917,     0.97917,     0.97917,     0.97917,     0.97917,     0.97917,     0.97917,     0.97917,     0.97917,     0.97917,     0.97917,     0.97917,     0.97917,     0.97917,     0.97917,     0.97468,     0.97468,     0.97468,     0.97468,     0.97468,     0.97468,     0.97468,     0.97468,\n",
      "            0.97468,     0.97468,     0.97468,     0.97468,     0.97468,     0.97468,     0.97468,     0.97468,     0.97468,     0.97468,     0.97468,     0.97468,     0.97468,     0.97468,     0.97468,     0.97468,     0.97468,     0.97468,     0.97468,     0.97468,     0.97468,     0.97468,     0.97468,\n",
      "            0.97468,     0.97468,     0.97468,     0.97468,     0.97468,     0.97468,     0.97468,     0.97468,     0.97468,     0.97468,     0.97468,     0.97468,     0.97468,     0.97468,     0.97468,     0.97468,     0.97468,     0.97468,     0.97468,     0.97468,     0.97468,     0.97468,     0.97468,\n",
      "            0.97468,     0.97468,     0.97468,     0.97468,     0.97468,     0.97468,     0.97468,     0.97468,     0.97468,     0.97468,     0.97468,     0.97126,     0.97126,     0.97126,     0.97126,     0.97126,     0.97126,     0.97126,     0.97126,     0.97126,     0.97126,     0.97126,     0.97126,\n",
      "            0.97126,     0.97126,     0.97126,     0.97126,     0.97126,     0.97126,     0.97126,     0.97126,     0.97126,     0.97126,     0.97126,     0.97126,     0.97126,     0.97126,     0.97126,     0.97126,     0.97126,     0.97126,     0.97126,     0.97126,     0.97126,     0.97126,     0.97126,\n",
      "            0.97126,     0.97126,     0.97126,     0.97126,     0.97126,     0.97126,     0.97126,     0.97126,     0.97126,     0.97126,     0.97126,     0.97126,     0.97126,     0.97126,     0.97126,     0.97126,     0.97126,     0.97126,     0.97126,     0.97126,     0.97126,     0.97126,     0.97126,\n",
      "            0.97126,     0.97126,     0.97126,     0.97126,     0.97126,     0.97126,     0.97126,     0.97126,     0.97126,     0.97126,     0.97126,     0.97126,     0.97126,     0.97126,     0.97126,     0.97126,     0.97126,     0.96591,     0.96591,     0.96591,     0.96591,     0.96591,     0.96067,\n",
      "            0.96067,     0.96067,     0.96067,     0.96067,     0.95812,     0.95812,     0.95812,     0.95812,     0.95812,     0.95812,     0.95812,     0.95812,     0.95812,     0.95812,     0.95812,     0.95812,     0.95812,     0.95812,     0.95812,     0.95812,     0.95812,     0.95812,     0.95812,\n",
      "            0.95812,     0.95812,     0.95812,     0.95812,     0.95812,     0.95812,     0.95812,     0.95812,     0.95812,     0.95812,     0.95812,     0.95812,     0.95812,     0.95812,     0.95812,     0.95812,     0.95812,     0.95812,     0.95812,     0.95812,     0.95812,     0.95812,     0.95812,\n",
      "            0.95812,     0.95812,     0.95812,     0.95812,     0.95812,     0.95812,     0.95812,     0.95812,     0.95812,     0.95812,     0.95812,     0.95812,     0.95812,     0.95812,     0.95812,     0.95812,     0.95812,     0.95812,     0.95431,     0.95431,     0.95431,     0.95431,     0.95431,\n",
      "            0.95431,     0.95431,     0.95431,     0.95431,     0.95431,     0.95431,     0.95431,     0.95431,     0.95431,     0.95431,     0.95431,     0.95431,     0.95431,     0.95431,     0.95431,     0.95431,     0.95431,     0.95431,     0.95431,     0.95431,        0.95,        0.95,        0.95,\n",
      "               0.95,        0.95,        0.95,        0.95,        0.95,        0.95,        0.95,     0.91866,     0.91866,     0.91866,     0.91866,     0.91866,     0.91866,     0.91866,     0.91866,     0.91866,     0.91866,     0.64548,     0.64548,     0.64548,     0.64548,     0.64548,     0.27762,\n",
      "            0.26946,     0.26129,     0.25313,     0.24496,      0.2368,     0.22863,     0.22047,      0.2123,     0.20413,     0.19597,      0.1878,     0.17964,     0.17147,     0.16331,     0.15514,     0.14698,     0.13881,     0.13065,     0.12248,     0.11432,     0.10615,    0.097985,    0.089819,\n",
      "           0.081654,    0.073489,    0.065323,    0.057158,    0.048992,    0.040827,    0.032662,    0.024496,    0.016331,   0.0081654,           0]]), 'Recall', 'Precision'], [array([          0,    0.001001,    0.002002,    0.003003,    0.004004,    0.005005,    0.006006,    0.007007,    0.008008,    0.009009,     0.01001,    0.011011,    0.012012,    0.013013,    0.014014,    0.015015,    0.016016,    0.017017,    0.018018,    0.019019,     0.02002,    0.021021,    0.022022,    0.023023,\n",
      "          0.024024,    0.025025,    0.026026,    0.027027,    0.028028,    0.029029,     0.03003,    0.031031,    0.032032,    0.033033,    0.034034,    0.035035,    0.036036,    0.037037,    0.038038,    0.039039,     0.04004,    0.041041,    0.042042,    0.043043,    0.044044,    0.045045,    0.046046,    0.047047,\n",
      "          0.048048,    0.049049,     0.05005,    0.051051,    0.052052,    0.053053,    0.054054,    0.055055,    0.056056,    0.057057,    0.058058,    0.059059,     0.06006,    0.061061,    0.062062,    0.063063,    0.064064,    0.065065,    0.066066,    0.067067,    0.068068,    0.069069,     0.07007,    0.071071,\n",
      "          0.072072,    0.073073,    0.074074,    0.075075,    0.076076,    0.077077,    0.078078,    0.079079,     0.08008,    0.081081,    0.082082,    0.083083,    0.084084,    0.085085,    0.086086,    0.087087,    0.088088,    0.089089,     0.09009,    0.091091,    0.092092,    0.093093,    0.094094,    0.095095,\n",
      "          0.096096,    0.097097,    0.098098,    0.099099,      0.1001,      0.1011,      0.1021,      0.1031,      0.1041,     0.10511,     0.10611,     0.10711,     0.10811,     0.10911,     0.11011,     0.11111,     0.11211,     0.11311,     0.11411,     0.11512,     0.11612,     0.11712,     0.11812,     0.11912,\n",
      "           0.12012,     0.12112,     0.12212,     0.12312,     0.12412,     0.12513,     0.12613,     0.12713,     0.12813,     0.12913,     0.13013,     0.13113,     0.13213,     0.13313,     0.13413,     0.13514,     0.13614,     0.13714,     0.13814,     0.13914,     0.14014,     0.14114,     0.14214,     0.14314,\n",
      "           0.14414,     0.14515,     0.14615,     0.14715,     0.14815,     0.14915,     0.15015,     0.15115,     0.15215,     0.15315,     0.15415,     0.15516,     0.15616,     0.15716,     0.15816,     0.15916,     0.16016,     0.16116,     0.16216,     0.16316,     0.16416,     0.16517,     0.16617,     0.16717,\n",
      "           0.16817,     0.16917,     0.17017,     0.17117,     0.17217,     0.17317,     0.17417,     0.17518,     0.17618,     0.17718,     0.17818,     0.17918,     0.18018,     0.18118,     0.18218,     0.18318,     0.18418,     0.18519,     0.18619,     0.18719,     0.18819,     0.18919,     0.19019,     0.19119,\n",
      "           0.19219,     0.19319,     0.19419,      0.1952,      0.1962,      0.1972,      0.1982,      0.1992,      0.2002,      0.2012,      0.2022,      0.2032,      0.2042,     0.20521,     0.20621,     0.20721,     0.20821,     0.20921,     0.21021,     0.21121,     0.21221,     0.21321,     0.21421,     0.21522,\n",
      "           0.21622,     0.21722,     0.21822,     0.21922,     0.22022,     0.22122,     0.22222,     0.22322,     0.22422,     0.22523,     0.22623,     0.22723,     0.22823,     0.22923,     0.23023,     0.23123,     0.23223,     0.23323,     0.23423,     0.23524,     0.23624,     0.23724,     0.23824,     0.23924,\n",
      "           0.24024,     0.24124,     0.24224,     0.24324,     0.24424,     0.24525,     0.24625,     0.24725,     0.24825,     0.24925,     0.25025,     0.25125,     0.25225,     0.25325,     0.25425,     0.25526,     0.25626,     0.25726,     0.25826,     0.25926,     0.26026,     0.26126,     0.26226,     0.26326,\n",
      "           0.26426,     0.26527,     0.26627,     0.26727,     0.26827,     0.26927,     0.27027,     0.27127,     0.27227,     0.27327,     0.27427,     0.27528,     0.27628,     0.27728,     0.27828,     0.27928,     0.28028,     0.28128,     0.28228,     0.28328,     0.28428,     0.28529,     0.28629,     0.28729,\n",
      "           0.28829,     0.28929,     0.29029,     0.29129,     0.29229,     0.29329,     0.29429,      0.2953,      0.2963,      0.2973,      0.2983,      0.2993,      0.3003,      0.3013,      0.3023,      0.3033,      0.3043,     0.30531,     0.30631,     0.30731,     0.30831,     0.30931,     0.31031,     0.31131,\n",
      "           0.31231,     0.31331,     0.31431,     0.31532,     0.31632,     0.31732,     0.31832,     0.31932,     0.32032,     0.32132,     0.32232,     0.32332,     0.32432,     0.32533,     0.32633,     0.32733,     0.32833,     0.32933,     0.33033,     0.33133,     0.33233,     0.33333,     0.33433,     0.33534,\n",
      "           0.33634,     0.33734,     0.33834,     0.33934,     0.34034,     0.34134,     0.34234,     0.34334,     0.34434,     0.34535,     0.34635,     0.34735,     0.34835,     0.34935,     0.35035,     0.35135,     0.35235,     0.35335,     0.35435,     0.35536,     0.35636,     0.35736,     0.35836,     0.35936,\n",
      "           0.36036,     0.36136,     0.36236,     0.36336,     0.36436,     0.36537,     0.36637,     0.36737,     0.36837,     0.36937,     0.37037,     0.37137,     0.37237,     0.37337,     0.37437,     0.37538,     0.37638,     0.37738,     0.37838,     0.37938,     0.38038,     0.38138,     0.38238,     0.38338,\n",
      "           0.38438,     0.38539,     0.38639,     0.38739,     0.38839,     0.38939,     0.39039,     0.39139,     0.39239,     0.39339,     0.39439,      0.3954,      0.3964,      0.3974,      0.3984,      0.3994,      0.4004,      0.4014,      0.4024,      0.4034,      0.4044,     0.40541,     0.40641,     0.40741,\n",
      "           0.40841,     0.40941,     0.41041,     0.41141,     0.41241,     0.41341,     0.41441,     0.41542,     0.41642,     0.41742,     0.41842,     0.41942,     0.42042,     0.42142,     0.42242,     0.42342,     0.42442,     0.42543,     0.42643,     0.42743,     0.42843,     0.42943,     0.43043,     0.43143,\n",
      "           0.43243,     0.43343,     0.43443,     0.43544,     0.43644,     0.43744,     0.43844,     0.43944,     0.44044,     0.44144,     0.44244,     0.44344,     0.44444,     0.44545,     0.44645,     0.44745,     0.44845,     0.44945,     0.45045,     0.45145,     0.45245,     0.45345,     0.45445,     0.45546,\n",
      "           0.45646,     0.45746,     0.45846,     0.45946,     0.46046,     0.46146,     0.46246,     0.46346,     0.46446,     0.46547,     0.46647,     0.46747,     0.46847,     0.46947,     0.47047,     0.47147,     0.47247,     0.47347,     0.47447,     0.47548,     0.47648,     0.47748,     0.47848,     0.47948,\n",
      "           0.48048,     0.48148,     0.48248,     0.48348,     0.48448,     0.48549,     0.48649,     0.48749,     0.48849,     0.48949,     0.49049,     0.49149,     0.49249,     0.49349,     0.49449,      0.4955,      0.4965,      0.4975,      0.4985,      0.4995,      0.5005,      0.5015,      0.5025,      0.5035,\n",
      "            0.5045,     0.50551,     0.50651,     0.50751,     0.50851,     0.50951,     0.51051,     0.51151,     0.51251,     0.51351,     0.51451,     0.51552,     0.51652,     0.51752,     0.51852,     0.51952,     0.52052,     0.52152,     0.52252,     0.52352,     0.52452,     0.52553,     0.52653,     0.52753,\n",
      "           0.52853,     0.52953,     0.53053,     0.53153,     0.53253,     0.53353,     0.53453,     0.53554,     0.53654,     0.53754,     0.53854,     0.53954,     0.54054,     0.54154,     0.54254,     0.54354,     0.54454,     0.54555,     0.54655,     0.54755,     0.54855,     0.54955,     0.55055,     0.55155,\n",
      "           0.55255,     0.55355,     0.55455,     0.55556,     0.55656,     0.55756,     0.55856,     0.55956,     0.56056,     0.56156,     0.56256,     0.56356,     0.56456,     0.56557,     0.56657,     0.56757,     0.56857,     0.56957,     0.57057,     0.57157,     0.57257,     0.57357,     0.57457,     0.57558,\n",
      "           0.57658,     0.57758,     0.57858,     0.57958,     0.58058,     0.58158,     0.58258,     0.58358,     0.58458,     0.58559,     0.58659,     0.58759,     0.58859,     0.58959,     0.59059,     0.59159,     0.59259,     0.59359,     0.59459,      0.5956,      0.5966,      0.5976,      0.5986,      0.5996,\n",
      "            0.6006,      0.6016,      0.6026,      0.6036,      0.6046,     0.60561,     0.60661,     0.60761,     0.60861,     0.60961,     0.61061,     0.61161,     0.61261,     0.61361,     0.61461,     0.61562,     0.61662,     0.61762,     0.61862,     0.61962,     0.62062,     0.62162,     0.62262,     0.62362,\n",
      "           0.62462,     0.62563,     0.62663,     0.62763,     0.62863,     0.62963,     0.63063,     0.63163,     0.63263,     0.63363,     0.63463,     0.63564,     0.63664,     0.63764,     0.63864,     0.63964,     0.64064,     0.64164,     0.64264,     0.64364,     0.64464,     0.64565,     0.64665,     0.64765,\n",
      "           0.64865,     0.64965,     0.65065,     0.65165,     0.65265,     0.65365,     0.65465,     0.65566,     0.65666,     0.65766,     0.65866,     0.65966,     0.66066,     0.66166,     0.66266,     0.66366,     0.66466,     0.66567,     0.66667,     0.66767,     0.66867,     0.66967,     0.67067,     0.67167,\n",
      "           0.67267,     0.67367,     0.67467,     0.67568,     0.67668,     0.67768,     0.67868,     0.67968,     0.68068,     0.68168,     0.68268,     0.68368,     0.68468,     0.68569,     0.68669,     0.68769,     0.68869,     0.68969,     0.69069,     0.69169,     0.69269,     0.69369,     0.69469,      0.6957,\n",
      "            0.6967,      0.6977,      0.6987,      0.6997,      0.7007,      0.7017,      0.7027,      0.7037,      0.7047,     0.70571,     0.70671,     0.70771,     0.70871,     0.70971,     0.71071,     0.71171,     0.71271,     0.71371,     0.71471,     0.71572,     0.71672,     0.71772,     0.71872,     0.71972,\n",
      "           0.72072,     0.72172,     0.72272,     0.72372,     0.72472,     0.72573,     0.72673,     0.72773,     0.72873,     0.72973,     0.73073,     0.73173,     0.73273,     0.73373,     0.73473,     0.73574,     0.73674,     0.73774,     0.73874,     0.73974,     0.74074,     0.74174,     0.74274,     0.74374,\n",
      "           0.74474,     0.74575,     0.74675,     0.74775,     0.74875,     0.74975,     0.75075,     0.75175,     0.75275,     0.75375,     0.75475,     0.75576,     0.75676,     0.75776,     0.75876,     0.75976,     0.76076,     0.76176,     0.76276,     0.76376,     0.76476,     0.76577,     0.76677,     0.76777,\n",
      "           0.76877,     0.76977,     0.77077,     0.77177,     0.77277,     0.77377,     0.77477,     0.77578,     0.77678,     0.77778,     0.77878,     0.77978,     0.78078,     0.78178,     0.78278,     0.78378,     0.78478,     0.78579,     0.78679,     0.78779,     0.78879,     0.78979,     0.79079,     0.79179,\n",
      "           0.79279,     0.79379,     0.79479,      0.7958,      0.7968,      0.7978,      0.7988,      0.7998,      0.8008,      0.8018,      0.8028,      0.8038,      0.8048,     0.80581,     0.80681,     0.80781,     0.80881,     0.80981,     0.81081,     0.81181,     0.81281,     0.81381,     0.81481,     0.81582,\n",
      "           0.81682,     0.81782,     0.81882,     0.81982,     0.82082,     0.82182,     0.82282,     0.82382,     0.82482,     0.82583,     0.82683,     0.82783,     0.82883,     0.82983,     0.83083,     0.83183,     0.83283,     0.83383,     0.83483,     0.83584,     0.83684,     0.83784,     0.83884,     0.83984,\n",
      "           0.84084,     0.84184,     0.84284,     0.84384,     0.84484,     0.84585,     0.84685,     0.84785,     0.84885,     0.84985,     0.85085,     0.85185,     0.85285,     0.85385,     0.85485,     0.85586,     0.85686,     0.85786,     0.85886,     0.85986,     0.86086,     0.86186,     0.86286,     0.86386,\n",
      "           0.86486,     0.86587,     0.86687,     0.86787,     0.86887,     0.86987,     0.87087,     0.87187,     0.87287,     0.87387,     0.87487,     0.87588,     0.87688,     0.87788,     0.87888,     0.87988,     0.88088,     0.88188,     0.88288,     0.88388,     0.88488,     0.88589,     0.88689,     0.88789,\n",
      "           0.88889,     0.88989,     0.89089,     0.89189,     0.89289,     0.89389,     0.89489,      0.8959,      0.8969,      0.8979,      0.8989,      0.8999,      0.9009,      0.9019,      0.9029,      0.9039,      0.9049,     0.90591,     0.90691,     0.90791,     0.90891,     0.90991,     0.91091,     0.91191,\n",
      "           0.91291,     0.91391,     0.91491,     0.91592,     0.91692,     0.91792,     0.91892,     0.91992,     0.92092,     0.92192,     0.92292,     0.92392,     0.92492,     0.92593,     0.92693,     0.92793,     0.92893,     0.92993,     0.93093,     0.93193,     0.93293,     0.93393,     0.93493,     0.93594,\n",
      "           0.93694,     0.93794,     0.93894,     0.93994,     0.94094,     0.94194,     0.94294,     0.94394,     0.94494,     0.94595,     0.94695,     0.94795,     0.94895,     0.94995,     0.95095,     0.95195,     0.95295,     0.95395,     0.95495,     0.95596,     0.95696,     0.95796,     0.95896,     0.95996,\n",
      "           0.96096,     0.96196,     0.96296,     0.96396,     0.96496,     0.96597,     0.96697,     0.96797,     0.96897,     0.96997,     0.97097,     0.97197,     0.97297,     0.97397,     0.97497,     0.97598,     0.97698,     0.97798,     0.97898,     0.97998,     0.98098,     0.98198,     0.98298,     0.98398,\n",
      "           0.98498,     0.98599,     0.98699,     0.98799,     0.98899,     0.98999,     0.99099,     0.99199,     0.99299,     0.99399,     0.99499,       0.996,       0.997,       0.998,       0.999,           1]), array([[    0.44064,     0.44064,     0.55972,     0.61858,     0.66272,      0.7019,     0.72424,     0.73802,     0.75434,     0.76773,     0.77733,     0.78473,     0.79528,     0.80537,     0.81564,     0.81818,     0.82445,     0.82671,     0.83377,     0.83823,     0.84286,     0.84608,     0.85004,\n",
      "            0.85088,     0.85401,     0.85594,     0.85836,     0.86185,     0.86597,     0.87307,      0.8746,     0.87881,     0.88155,     0.88258,       0.887,     0.88751,     0.88802,     0.88853,     0.88902,     0.88946,     0.88991,     0.89035,      0.8908,     0.89152,     0.89239,      0.8953,\n",
      "            0.89849,     0.89954,     0.89996,     0.90039,     0.90081,     0.90124,     0.90206,     0.90315,     0.90469,     0.90647,     0.91021,     0.91252,     0.91301,     0.91351,       0.914,     0.91454,     0.91516,     0.91577,     0.91638,     0.91699,      0.9176,     0.91821,     0.91867,\n",
      "            0.91873,     0.91878,     0.91884,     0.91889,     0.91894,       0.919,     0.91905,     0.91911,     0.91916,     0.91921,     0.91927,     0.91932,     0.91938,     0.91943,     0.91948,     0.91954,     0.91959,     0.91964,      0.9197,     0.91975,     0.91981,     0.91986,     0.91991,\n",
      "            0.91997,     0.92002,     0.92008,     0.92013,     0.92018,     0.92024,     0.92029,     0.92034,      0.9204,     0.92045,     0.92051,     0.92056,     0.92061,     0.92067,     0.92072,     0.92077,     0.92083,     0.92105,      0.9216,     0.92215,      0.9227,     0.92348,     0.92474,\n",
      "             0.9255,     0.92587,     0.92624,      0.9266,     0.92697,     0.92734,     0.92762,     0.92781,       0.928,     0.92819,     0.92838,     0.92857,     0.92876,     0.92895,     0.92913,     0.92932,     0.92951,      0.9297,     0.93004,     0.93049,     0.93094,     0.93139,     0.93184,\n",
      "            0.93209,     0.93219,     0.93228,     0.93237,     0.93247,     0.93256,     0.93265,     0.93275,     0.93284,     0.93293,     0.93303,     0.93312,     0.93321,     0.93331,      0.9334,     0.93349,     0.93359,     0.93368,     0.93377,     0.93387,     0.93396,     0.93405,     0.93415,\n",
      "            0.93424,     0.93432,     0.93436,      0.9344,     0.93444,     0.93448,     0.93453,     0.93457,     0.93461,     0.93465,     0.93469,     0.93473,     0.93477,     0.93481,     0.93485,      0.9349,     0.93494,     0.93498,     0.93502,     0.93506,      0.9351,     0.93514,     0.93518,\n",
      "            0.93523,     0.93527,     0.93531,     0.93535,     0.93539,     0.93543,     0.93547,     0.93551,     0.93555,      0.9356,     0.93564,     0.93568,     0.93572,     0.93576,      0.9358,     0.93584,     0.93588,     0.93593,     0.93597,     0.93601,     0.93605,     0.93609,     0.93613,\n",
      "            0.93617,     0.93621,     0.93625,      0.9363,     0.93634,     0.93638,     0.93642,     0.93646,      0.9365,     0.93654,     0.93658,     0.93671,     0.93683,     0.93696,     0.93709,     0.93722,     0.93735,     0.93748,     0.93761,     0.93774,     0.93786,     0.93799,     0.93812,\n",
      "            0.93825,     0.93838,     0.93851,     0.93863,     0.93876,     0.93886,     0.93874,     0.93863,     0.93851,      0.9384,     0.93828,     0.93817,     0.93805,     0.93793,     0.93782,      0.9377,     0.93759,     0.93747,     0.93736,     0.93724,     0.93712,     0.93701,     0.93689,\n",
      "            0.93678,     0.93666,     0.93654,     0.93643,     0.93631,     0.93609,     0.93582,     0.93556,     0.93529,     0.93502,     0.93475,     0.93448,     0.93422,     0.93395,     0.93368,      0.9337,     0.93373,     0.93377,     0.93381,     0.93385,     0.93389,     0.93393,     0.93396,\n",
      "              0.934,     0.93404,     0.93408,     0.93412,     0.93416,     0.93419,     0.93423,     0.93427,     0.93431,     0.93435,     0.93438,     0.93442,     0.93446,      0.9345,     0.93454,     0.93458,     0.93461,     0.93465,     0.93469,     0.93473,     0.93477,      0.9348,     0.93484,\n",
      "            0.93488,     0.93492,     0.93496,       0.935,     0.93503,     0.93507,     0.93511,     0.93515,     0.93519,     0.93522,     0.93526,      0.9353,     0.93534,     0.93538,     0.93542,     0.93545,     0.93549,     0.93553,     0.93557,     0.93561,     0.93564,     0.93568,     0.93572,\n",
      "            0.93576,      0.9358,     0.93583,     0.93587,     0.93591,     0.93595,      0.9376,     0.93839,     0.93854,      0.9387,     0.93886,     0.93902,     0.93918,     0.93934,      0.9395,     0.93966,     0.93981,     0.93997,     0.94013,     0.94029,     0.94045,      0.9406,     0.94072,\n",
      "            0.94084,     0.94096,     0.94108,      0.9412,     0.94131,     0.94143,     0.94155,     0.94167,     0.94179,      0.9419,     0.94202,     0.94214,     0.94226,     0.94238,     0.94249,     0.94261,     0.94273,     0.94285,     0.94302,     0.94332,     0.94361,      0.9439,     0.94419,\n",
      "            0.94448,     0.94477,     0.94506,     0.94528,     0.94532,     0.94535,     0.94538,     0.94541,     0.94545,     0.94548,     0.94551,     0.94554,     0.94558,     0.94561,     0.94564,     0.94567,     0.94571,     0.94574,     0.94577,      0.9458,     0.94584,     0.94587,      0.9459,\n",
      "            0.94593,     0.94597,       0.946,     0.94603,     0.94606,      0.9461,     0.94613,     0.94616,      0.9462,     0.94623,     0.94626,     0.94629,     0.94633,     0.94636,     0.94639,     0.94642,     0.94646,     0.94649,     0.94652,     0.94655,     0.94659,     0.94662,     0.94665,\n",
      "            0.94668,     0.94672,     0.94675,     0.94678,     0.94681,     0.94685,     0.94688,     0.94691,     0.94694,     0.94698,     0.94701,     0.94704,     0.94707,     0.94711,     0.94714,     0.94717,      0.9472,     0.94724,     0.94727,      0.9473,     0.94733,     0.94737,      0.9474,\n",
      "            0.94743,     0.94746,      0.9475,     0.94753,     0.94756,     0.94759,     0.94763,     0.94767,     0.94772,     0.94777,     0.94782,     0.94787,     0.94792,     0.94797,     0.94802,     0.94807,     0.94812,     0.94817,     0.94822,     0.94827,     0.94832,     0.94837,     0.94842,\n",
      "            0.94847,     0.94852,     0.94857,     0.94862,     0.94867,     0.94872,     0.94877,     0.94882,     0.94887,     0.94892,     0.94897,     0.94902,     0.94907,     0.94912,     0.94917,     0.94922,     0.94927,     0.94932,     0.94937,     0.94942,     0.94947,     0.94952,     0.94957,\n",
      "            0.94962,     0.94967,     0.94972,     0.94977,     0.94982,     0.94986,     0.94991,     0.94996,     0.94991,     0.94957,     0.94923,      0.9489,     0.94856,     0.94822,     0.94788,     0.94755,     0.94478,     0.94491,     0.94504,     0.94517,      0.9453,     0.94543,     0.94556,\n",
      "            0.94568,     0.94581,     0.94594,     0.94607,      0.9462,     0.94633,     0.94645,     0.94658,     0.94671,     0.94684,     0.94697,      0.9471,     0.94687,     0.94662,     0.94638,     0.94613,     0.94588,     0.94563,     0.94539,     0.94514,     0.94489,     0.94464,     0.94416,\n",
      "            0.94279,     0.94107,     0.93903,     0.93881,      0.9386,     0.93839,     0.93818,     0.93796,     0.93775,     0.93754,     0.93733,     0.93711,      0.9369,     0.93669,     0.93647,     0.93632,     0.93621,      0.9361,       0.936,     0.93589,     0.93578,     0.93567,     0.93556,\n",
      "            0.93545,     0.93534,     0.93523,     0.93512,     0.93501,     0.93491,      0.9348,     0.93469,     0.93458,     0.93447,     0.93436,     0.93425,     0.93414,     0.93403,     0.93392,     0.93381,      0.9337,     0.93371,     0.93377,     0.93383,     0.93388,     0.93394,       0.934,\n",
      "            0.93405,     0.93411,     0.93417,     0.93422,     0.93428,     0.93433,     0.93439,     0.93445,      0.9345,     0.93456,     0.93462,     0.93467,     0.93473,     0.93478,     0.93484,      0.9349,     0.93495,     0.93501,     0.93507,     0.93512,     0.93518,     0.93523,     0.93529,\n",
      "            0.93535,      0.9354,     0.93546,     0.93552,     0.93557,     0.93563,     0.93568,     0.93574,      0.9358,     0.93585,     0.93591,     0.93597,     0.93602,       0.936,      0.9358,     0.93559,     0.93538,     0.93518,     0.93497,     0.93476,     0.93455,     0.93435,     0.93414,\n",
      "            0.93393,     0.93373,     0.93352,     0.93329,     0.93294,     0.93259,     0.93224,     0.93189,     0.93154,     0.93119,     0.93083,     0.93043,     0.92992,     0.92941,     0.92889,     0.92838,     0.92786,     0.92776,     0.92769,     0.92761,     0.92753,     0.92746,     0.92738,\n",
      "             0.9273,     0.92723,     0.92715,     0.92707,       0.927,     0.92692,     0.92684,     0.92677,     0.92669,     0.92661,     0.92654,     0.92646,     0.92638,     0.92631,     0.92623,     0.92615,     0.92608,       0.926,     0.92592,     0.92585,     0.92577,     0.92569,     0.92561,\n",
      "            0.92554,     0.92546,     0.92538,     0.92531,     0.92523,     0.92515,     0.92508,     0.92453,      0.9239,     0.92326,     0.92263,     0.92219,     0.92198,     0.92178,     0.92157,     0.92137,     0.92116,     0.92096,     0.92075,     0.92055,     0.92034,     0.92014,     0.91993,\n",
      "            0.91973,     0.91952,     0.91902,     0.91845,     0.91787,     0.91729,     0.91671,     0.91637,     0.91605,     0.91573,     0.91541,     0.91508,     0.91476,     0.91444,     0.91412,      0.9138,     0.91351,     0.91322,     0.91292,     0.91263,     0.91234,     0.91205,     0.91176,\n",
      "            0.91147,     0.91117,     0.90987,      0.9079,     0.90731,     0.90672,     0.90613,     0.90554,     0.90244,     0.90408,     0.90442,     0.90382,     0.90323,     0.90263,     0.90204,     0.90201,     0.90224,     0.90246,     0.90269,     0.90291,     0.90313,     0.90336,     0.90358,\n",
      "             0.9038,     0.90403,     0.90425,     0.90384,     0.90341,     0.90299,     0.90256,     0.90213,      0.9017,     0.90145,     0.90227,      0.9031,      0.9036,     0.90293,     0.90226,     0.90159,     0.90092,     0.89744,     0.89622,     0.89501,     0.89438,     0.89382,     0.89327,\n",
      "            0.89271,     0.89215,      0.8908,     0.88885,     0.88834,     0.88782,     0.88731,     0.88679,     0.88628,     0.88554,     0.88398,     0.88242,     0.88086,      0.8788,     0.87565,     0.87248,     0.86493,     0.86137,     0.85991,     0.85861,     0.85833,     0.85915,     0.85997,\n",
      "            0.85997,     0.85932,     0.85866,     0.85801,     0.85735,     0.85491,     0.84725,      0.8463,     0.84534,     0.84438,      0.8369,     0.83463,     0.82358,     0.82184,     0.82009,     0.81834,     0.81963,     0.81749,     0.81561,     0.81419,      0.8127,     0.81033,     0.80794,\n",
      "            0.79951,     0.79342,     0.78536,     0.77891,     0.77639,     0.77289,     0.76332,     0.76177,     0.75942,     0.75166,      0.7482,     0.74555,     0.74073,     0.73912,     0.73751,     0.72951,     0.72677,     0.72036,     0.71828,      0.7162,      0.7141,     0.69649,     0.69476,\n",
      "            0.69303,     0.69045,       0.686,     0.68233,     0.68012,     0.67391,      0.6678,      0.6605,     0.64954,     0.64597,        0.64,      0.6212,     0.60919,     0.60031,     0.59164,      0.5815,     0.57539,     0.56663,     0.55019,     0.53038,     0.52764,     0.51336,     0.50623,\n",
      "            0.49748,     0.49518,     0.49288,     0.48825,     0.47787,     0.46318,     0.45463,     0.44996,     0.44561,     0.43724,     0.41839,     0.37963,     0.36703,      0.3636,     0.35292,     0.34476,     0.33544,     0.31619,      0.3069,     0.26431,     0.25482,     0.21712,     0.20488,\n",
      "            0.20074,     0.18352,     0.16579,     0.14906,     0.14397,     0.13955,     0.13362,     0.12124,     0.10401,     0.10031,    0.096608,    0.085585,    0.081821,    0.078042,    0.075587,    0.073687,    0.071783,    0.069876,    0.067965,     0.06367,    0.058854,    0.054014,     0.04915,\n",
      "           0.044261,    0.039348,    0.036015,    0.032714,    0.029473,    0.027662,    0.025848,     0.02403,    0.022209,    0.020385,    0.019539,    0.019152,    0.018765,    0.018378,    0.017991,    0.017604,    0.017217,    0.016829,    0.016441,    0.016054,    0.015666,    0.015277,    0.014889,\n",
      "           0.014501,    0.014112,    0.013723,    0.013334,    0.012945,    0.012556,    0.012167,    0.011777,    0.011387,    0.010998,    0.010608,    0.010217,           0,           0,           0,           0,           0,           0,           0,           0,           0,           0,           0,\n",
      "                  0,           0,           0,           0,           0,           0,           0,           0,           0,           0,           0,           0,           0,           0,           0,           0,           0,           0,           0,           0,           0,           0,           0,\n",
      "                  0,           0,           0,           0,           0,           0,           0,           0,           0,           0,           0,           0,           0,           0,           0,           0,           0,           0,           0,           0,           0,           0,           0,\n",
      "                  0,           0,           0,           0,           0,           0,           0,           0,           0,           0,           0]]), 'Confidence', 'F1'], [array([          0,    0.001001,    0.002002,    0.003003,    0.004004,    0.005005,    0.006006,    0.007007,    0.008008,    0.009009,     0.01001,    0.011011,    0.012012,    0.013013,    0.014014,    0.015015,    0.016016,    0.017017,    0.018018,    0.019019,     0.02002,    0.021021,    0.022022,    0.023023,\n",
      "          0.024024,    0.025025,    0.026026,    0.027027,    0.028028,    0.029029,     0.03003,    0.031031,    0.032032,    0.033033,    0.034034,    0.035035,    0.036036,    0.037037,    0.038038,    0.039039,     0.04004,    0.041041,    0.042042,    0.043043,    0.044044,    0.045045,    0.046046,    0.047047,\n",
      "          0.048048,    0.049049,     0.05005,    0.051051,    0.052052,    0.053053,    0.054054,    0.055055,    0.056056,    0.057057,    0.058058,    0.059059,     0.06006,    0.061061,    0.062062,    0.063063,    0.064064,    0.065065,    0.066066,    0.067067,    0.068068,    0.069069,     0.07007,    0.071071,\n",
      "          0.072072,    0.073073,    0.074074,    0.075075,    0.076076,    0.077077,    0.078078,    0.079079,     0.08008,    0.081081,    0.082082,    0.083083,    0.084084,    0.085085,    0.086086,    0.087087,    0.088088,    0.089089,     0.09009,    0.091091,    0.092092,    0.093093,    0.094094,    0.095095,\n",
      "          0.096096,    0.097097,    0.098098,    0.099099,      0.1001,      0.1011,      0.1021,      0.1031,      0.1041,     0.10511,     0.10611,     0.10711,     0.10811,     0.10911,     0.11011,     0.11111,     0.11211,     0.11311,     0.11411,     0.11512,     0.11612,     0.11712,     0.11812,     0.11912,\n",
      "           0.12012,     0.12112,     0.12212,     0.12312,     0.12412,     0.12513,     0.12613,     0.12713,     0.12813,     0.12913,     0.13013,     0.13113,     0.13213,     0.13313,     0.13413,     0.13514,     0.13614,     0.13714,     0.13814,     0.13914,     0.14014,     0.14114,     0.14214,     0.14314,\n",
      "           0.14414,     0.14515,     0.14615,     0.14715,     0.14815,     0.14915,     0.15015,     0.15115,     0.15215,     0.15315,     0.15415,     0.15516,     0.15616,     0.15716,     0.15816,     0.15916,     0.16016,     0.16116,     0.16216,     0.16316,     0.16416,     0.16517,     0.16617,     0.16717,\n",
      "           0.16817,     0.16917,     0.17017,     0.17117,     0.17217,     0.17317,     0.17417,     0.17518,     0.17618,     0.17718,     0.17818,     0.17918,     0.18018,     0.18118,     0.18218,     0.18318,     0.18418,     0.18519,     0.18619,     0.18719,     0.18819,     0.18919,     0.19019,     0.19119,\n",
      "           0.19219,     0.19319,     0.19419,      0.1952,      0.1962,      0.1972,      0.1982,      0.1992,      0.2002,      0.2012,      0.2022,      0.2032,      0.2042,     0.20521,     0.20621,     0.20721,     0.20821,     0.20921,     0.21021,     0.21121,     0.21221,     0.21321,     0.21421,     0.21522,\n",
      "           0.21622,     0.21722,     0.21822,     0.21922,     0.22022,     0.22122,     0.22222,     0.22322,     0.22422,     0.22523,     0.22623,     0.22723,     0.22823,     0.22923,     0.23023,     0.23123,     0.23223,     0.23323,     0.23423,     0.23524,     0.23624,     0.23724,     0.23824,     0.23924,\n",
      "           0.24024,     0.24124,     0.24224,     0.24324,     0.24424,     0.24525,     0.24625,     0.24725,     0.24825,     0.24925,     0.25025,     0.25125,     0.25225,     0.25325,     0.25425,     0.25526,     0.25626,     0.25726,     0.25826,     0.25926,     0.26026,     0.26126,     0.26226,     0.26326,\n",
      "           0.26426,     0.26527,     0.26627,     0.26727,     0.26827,     0.26927,     0.27027,     0.27127,     0.27227,     0.27327,     0.27427,     0.27528,     0.27628,     0.27728,     0.27828,     0.27928,     0.28028,     0.28128,     0.28228,     0.28328,     0.28428,     0.28529,     0.28629,     0.28729,\n",
      "           0.28829,     0.28929,     0.29029,     0.29129,     0.29229,     0.29329,     0.29429,      0.2953,      0.2963,      0.2973,      0.2983,      0.2993,      0.3003,      0.3013,      0.3023,      0.3033,      0.3043,     0.30531,     0.30631,     0.30731,     0.30831,     0.30931,     0.31031,     0.31131,\n",
      "           0.31231,     0.31331,     0.31431,     0.31532,     0.31632,     0.31732,     0.31832,     0.31932,     0.32032,     0.32132,     0.32232,     0.32332,     0.32432,     0.32533,     0.32633,     0.32733,     0.32833,     0.32933,     0.33033,     0.33133,     0.33233,     0.33333,     0.33433,     0.33534,\n",
      "           0.33634,     0.33734,     0.33834,     0.33934,     0.34034,     0.34134,     0.34234,     0.34334,     0.34434,     0.34535,     0.34635,     0.34735,     0.34835,     0.34935,     0.35035,     0.35135,     0.35235,     0.35335,     0.35435,     0.35536,     0.35636,     0.35736,     0.35836,     0.35936,\n",
      "           0.36036,     0.36136,     0.36236,     0.36336,     0.36436,     0.36537,     0.36637,     0.36737,     0.36837,     0.36937,     0.37037,     0.37137,     0.37237,     0.37337,     0.37437,     0.37538,     0.37638,     0.37738,     0.37838,     0.37938,     0.38038,     0.38138,     0.38238,     0.38338,\n",
      "           0.38438,     0.38539,     0.38639,     0.38739,     0.38839,     0.38939,     0.39039,     0.39139,     0.39239,     0.39339,     0.39439,      0.3954,      0.3964,      0.3974,      0.3984,      0.3994,      0.4004,      0.4014,      0.4024,      0.4034,      0.4044,     0.40541,     0.40641,     0.40741,\n",
      "           0.40841,     0.40941,     0.41041,     0.41141,     0.41241,     0.41341,     0.41441,     0.41542,     0.41642,     0.41742,     0.41842,     0.41942,     0.42042,     0.42142,     0.42242,     0.42342,     0.42442,     0.42543,     0.42643,     0.42743,     0.42843,     0.42943,     0.43043,     0.43143,\n",
      "           0.43243,     0.43343,     0.43443,     0.43544,     0.43644,     0.43744,     0.43844,     0.43944,     0.44044,     0.44144,     0.44244,     0.44344,     0.44444,     0.44545,     0.44645,     0.44745,     0.44845,     0.44945,     0.45045,     0.45145,     0.45245,     0.45345,     0.45445,     0.45546,\n",
      "           0.45646,     0.45746,     0.45846,     0.45946,     0.46046,     0.46146,     0.46246,     0.46346,     0.46446,     0.46547,     0.46647,     0.46747,     0.46847,     0.46947,     0.47047,     0.47147,     0.47247,     0.47347,     0.47447,     0.47548,     0.47648,     0.47748,     0.47848,     0.47948,\n",
      "           0.48048,     0.48148,     0.48248,     0.48348,     0.48448,     0.48549,     0.48649,     0.48749,     0.48849,     0.48949,     0.49049,     0.49149,     0.49249,     0.49349,     0.49449,      0.4955,      0.4965,      0.4975,      0.4985,      0.4995,      0.5005,      0.5015,      0.5025,      0.5035,\n",
      "            0.5045,     0.50551,     0.50651,     0.50751,     0.50851,     0.50951,     0.51051,     0.51151,     0.51251,     0.51351,     0.51451,     0.51552,     0.51652,     0.51752,     0.51852,     0.51952,     0.52052,     0.52152,     0.52252,     0.52352,     0.52452,     0.52553,     0.52653,     0.52753,\n",
      "           0.52853,     0.52953,     0.53053,     0.53153,     0.53253,     0.53353,     0.53453,     0.53554,     0.53654,     0.53754,     0.53854,     0.53954,     0.54054,     0.54154,     0.54254,     0.54354,     0.54454,     0.54555,     0.54655,     0.54755,     0.54855,     0.54955,     0.55055,     0.55155,\n",
      "           0.55255,     0.55355,     0.55455,     0.55556,     0.55656,     0.55756,     0.55856,     0.55956,     0.56056,     0.56156,     0.56256,     0.56356,     0.56456,     0.56557,     0.56657,     0.56757,     0.56857,     0.56957,     0.57057,     0.57157,     0.57257,     0.57357,     0.57457,     0.57558,\n",
      "           0.57658,     0.57758,     0.57858,     0.57958,     0.58058,     0.58158,     0.58258,     0.58358,     0.58458,     0.58559,     0.58659,     0.58759,     0.58859,     0.58959,     0.59059,     0.59159,     0.59259,     0.59359,     0.59459,      0.5956,      0.5966,      0.5976,      0.5986,      0.5996,\n",
      "            0.6006,      0.6016,      0.6026,      0.6036,      0.6046,     0.60561,     0.60661,     0.60761,     0.60861,     0.60961,     0.61061,     0.61161,     0.61261,     0.61361,     0.61461,     0.61562,     0.61662,     0.61762,     0.61862,     0.61962,     0.62062,     0.62162,     0.62262,     0.62362,\n",
      "           0.62462,     0.62563,     0.62663,     0.62763,     0.62863,     0.62963,     0.63063,     0.63163,     0.63263,     0.63363,     0.63463,     0.63564,     0.63664,     0.63764,     0.63864,     0.63964,     0.64064,     0.64164,     0.64264,     0.64364,     0.64464,     0.64565,     0.64665,     0.64765,\n",
      "           0.64865,     0.64965,     0.65065,     0.65165,     0.65265,     0.65365,     0.65465,     0.65566,     0.65666,     0.65766,     0.65866,     0.65966,     0.66066,     0.66166,     0.66266,     0.66366,     0.66466,     0.66567,     0.66667,     0.66767,     0.66867,     0.66967,     0.67067,     0.67167,\n",
      "           0.67267,     0.67367,     0.67467,     0.67568,     0.67668,     0.67768,     0.67868,     0.67968,     0.68068,     0.68168,     0.68268,     0.68368,     0.68468,     0.68569,     0.68669,     0.68769,     0.68869,     0.68969,     0.69069,     0.69169,     0.69269,     0.69369,     0.69469,      0.6957,\n",
      "            0.6967,      0.6977,      0.6987,      0.6997,      0.7007,      0.7017,      0.7027,      0.7037,      0.7047,     0.70571,     0.70671,     0.70771,     0.70871,     0.70971,     0.71071,     0.71171,     0.71271,     0.71371,     0.71471,     0.71572,     0.71672,     0.71772,     0.71872,     0.71972,\n",
      "           0.72072,     0.72172,     0.72272,     0.72372,     0.72472,     0.72573,     0.72673,     0.72773,     0.72873,     0.72973,     0.73073,     0.73173,     0.73273,     0.73373,     0.73473,     0.73574,     0.73674,     0.73774,     0.73874,     0.73974,     0.74074,     0.74174,     0.74274,     0.74374,\n",
      "           0.74474,     0.74575,     0.74675,     0.74775,     0.74875,     0.74975,     0.75075,     0.75175,     0.75275,     0.75375,     0.75475,     0.75576,     0.75676,     0.75776,     0.75876,     0.75976,     0.76076,     0.76176,     0.76276,     0.76376,     0.76476,     0.76577,     0.76677,     0.76777,\n",
      "           0.76877,     0.76977,     0.77077,     0.77177,     0.77277,     0.77377,     0.77477,     0.77578,     0.77678,     0.77778,     0.77878,     0.77978,     0.78078,     0.78178,     0.78278,     0.78378,     0.78478,     0.78579,     0.78679,     0.78779,     0.78879,     0.78979,     0.79079,     0.79179,\n",
      "           0.79279,     0.79379,     0.79479,      0.7958,      0.7968,      0.7978,      0.7988,      0.7998,      0.8008,      0.8018,      0.8028,      0.8038,      0.8048,     0.80581,     0.80681,     0.80781,     0.80881,     0.80981,     0.81081,     0.81181,     0.81281,     0.81381,     0.81481,     0.81582,\n",
      "           0.81682,     0.81782,     0.81882,     0.81982,     0.82082,     0.82182,     0.82282,     0.82382,     0.82482,     0.82583,     0.82683,     0.82783,     0.82883,     0.82983,     0.83083,     0.83183,     0.83283,     0.83383,     0.83483,     0.83584,     0.83684,     0.83784,     0.83884,     0.83984,\n",
      "           0.84084,     0.84184,     0.84284,     0.84384,     0.84484,     0.84585,     0.84685,     0.84785,     0.84885,     0.84985,     0.85085,     0.85185,     0.85285,     0.85385,     0.85485,     0.85586,     0.85686,     0.85786,     0.85886,     0.85986,     0.86086,     0.86186,     0.86286,     0.86386,\n",
      "           0.86486,     0.86587,     0.86687,     0.86787,     0.86887,     0.86987,     0.87087,     0.87187,     0.87287,     0.87387,     0.87487,     0.87588,     0.87688,     0.87788,     0.87888,     0.87988,     0.88088,     0.88188,     0.88288,     0.88388,     0.88488,     0.88589,     0.88689,     0.88789,\n",
      "           0.88889,     0.88989,     0.89089,     0.89189,     0.89289,     0.89389,     0.89489,      0.8959,      0.8969,      0.8979,      0.8989,      0.8999,      0.9009,      0.9019,      0.9029,      0.9039,      0.9049,     0.90591,     0.90691,     0.90791,     0.90891,     0.90991,     0.91091,     0.91191,\n",
      "           0.91291,     0.91391,     0.91491,     0.91592,     0.91692,     0.91792,     0.91892,     0.91992,     0.92092,     0.92192,     0.92292,     0.92392,     0.92492,     0.92593,     0.92693,     0.92793,     0.92893,     0.92993,     0.93093,     0.93193,     0.93293,     0.93393,     0.93493,     0.93594,\n",
      "           0.93694,     0.93794,     0.93894,     0.93994,     0.94094,     0.94194,     0.94294,     0.94394,     0.94494,     0.94595,     0.94695,     0.94795,     0.94895,     0.94995,     0.95095,     0.95195,     0.95295,     0.95395,     0.95495,     0.95596,     0.95696,     0.95796,     0.95896,     0.95996,\n",
      "           0.96096,     0.96196,     0.96296,     0.96396,     0.96496,     0.96597,     0.96697,     0.96797,     0.96897,     0.96997,     0.97097,     0.97197,     0.97297,     0.97397,     0.97497,     0.97598,     0.97698,     0.97798,     0.97898,     0.97998,     0.98098,     0.98198,     0.98298,     0.98398,\n",
      "           0.98498,     0.98599,     0.98699,     0.98799,     0.98899,     0.98999,     0.99099,     0.99199,     0.99299,     0.99399,     0.99499,       0.996,       0.997,       0.998,       0.999,           1]), array([[     0.2855,      0.2855,     0.39417,     0.45518,     0.50465,     0.55153,     0.57962,     0.59749,     0.61917,     0.63742,     0.65306,     0.66357,     0.67881,     0.69364,     0.70902,     0.71286,     0.72245,     0.72592,     0.73688,     0.74388,      0.7512,     0.75632,     0.76267,\n",
      "            0.76403,     0.76909,     0.77224,     0.77619,      0.7819,     0.78871,     0.80057,     0.80315,     0.81028,     0.81495,     0.81672,     0.82431,     0.82519,     0.82607,     0.82696,     0.82781,     0.82858,     0.82935,     0.83013,      0.8309,     0.83216,     0.83368,     0.83877,\n",
      "            0.84439,     0.84624,       0.847,     0.84775,      0.8485,     0.84926,     0.85072,     0.85265,     0.85541,     0.85859,     0.86534,     0.86951,     0.87041,     0.87131,     0.87221,      0.8732,     0.87432,     0.87543,     0.87655,     0.87767,     0.87879,      0.8799,     0.88076,\n",
      "            0.88086,     0.88096,     0.88106,     0.88116,     0.88126,     0.88135,     0.88145,     0.88155,     0.88165,     0.88175,     0.88185,     0.88195,     0.88205,     0.88215,     0.88225,     0.88235,     0.88245,     0.88255,     0.88264,     0.88274,     0.88284,     0.88294,     0.88304,\n",
      "            0.88314,     0.88324,     0.88334,     0.88344,     0.88354,     0.88364,     0.88374,     0.88383,     0.88393,     0.88403,     0.88413,     0.88423,     0.88433,     0.88443,     0.88453,     0.88463,     0.88473,     0.88514,     0.88616,     0.88718,      0.8882,     0.88964,     0.89197,\n",
      "             0.8934,     0.89409,     0.89477,     0.89545,     0.89614,     0.89682,     0.89736,     0.89771,     0.89807,     0.89842,     0.89877,     0.89913,     0.89948,     0.89984,     0.90019,     0.90055,      0.9009,     0.90125,     0.90189,     0.90274,     0.90359,     0.90444,     0.90529,\n",
      "            0.90576,     0.90594,     0.90611,     0.90629,     0.90647,     0.90664,     0.90682,       0.907,     0.90718,     0.90735,     0.90753,     0.90771,     0.90788,     0.90806,     0.90824,     0.90841,     0.90859,     0.90877,     0.90894,     0.90912,      0.9093,     0.90947,     0.90965,\n",
      "            0.90983,     0.90998,     0.91005,     0.91013,     0.91021,     0.91029,     0.91037,     0.91045,     0.91052,      0.9106,     0.91068,     0.91076,     0.91084,     0.91092,     0.91099,     0.91107,     0.91115,     0.91123,     0.91131,     0.91138,     0.91146,     0.91154,     0.91162,\n",
      "             0.9117,     0.91178,     0.91185,     0.91193,     0.91201,     0.91209,     0.91217,     0.91225,     0.91232,      0.9124,     0.91248,     0.91256,     0.91264,     0.91272,     0.91279,     0.91287,     0.91295,     0.91303,     0.91311,     0.91318,     0.91326,     0.91334,     0.91342,\n",
      "             0.9135,     0.91358,     0.91365,     0.91373,     0.91381,     0.91389,     0.91397,     0.91405,     0.91412,      0.9142,     0.91428,     0.91451,     0.91476,     0.91501,     0.91525,      0.9155,     0.91574,     0.91599,     0.91623,     0.91648,     0.91673,     0.91697,     0.91722,\n",
      "            0.91746,     0.91771,     0.91795,      0.9182,     0.91845,     0.91866,     0.91864,     0.91862,     0.91861,     0.91859,     0.91857,     0.91855,     0.91854,     0.91852,      0.9185,     0.91848,     0.91847,     0.91845,     0.91843,     0.91841,      0.9184,     0.91838,     0.91836,\n",
      "            0.91834,     0.91833,     0.91831,     0.91829,     0.91827,     0.91824,      0.9182,     0.91816,     0.91812,     0.91808,     0.91804,       0.918,     0.91796,     0.91792,     0.91788,     0.91794,     0.91802,     0.91809,     0.91817,     0.91824,     0.91831,     0.91839,     0.91846,\n",
      "            0.91854,     0.91861,     0.91868,     0.91876,     0.91883,      0.9189,     0.91898,     0.91905,     0.91913,      0.9192,     0.91927,     0.91935,     0.91942,      0.9195,     0.91957,     0.91964,     0.91972,     0.91979,     0.91987,     0.91994,     0.92001,     0.92009,     0.92016,\n",
      "            0.92024,     0.92031,     0.92038,     0.92046,     0.92053,     0.92061,     0.92068,     0.92075,     0.92083,      0.9209,     0.92098,     0.92105,     0.92112,      0.9212,     0.92127,     0.92135,     0.92142,     0.92149,     0.92157,     0.92164,     0.92172,     0.92179,     0.92186,\n",
      "            0.92194,     0.92201,     0.92209,     0.92216,     0.92223,     0.92231,     0.92552,     0.92705,     0.92736,     0.92767,     0.92798,     0.92829,      0.9286,     0.92891,     0.92922,     0.92954,     0.92985,     0.93016,     0.93047,     0.93078,     0.93109,     0.93139,     0.93162,\n",
      "            0.93186,     0.93209,     0.93232,     0.93255,     0.93278,     0.93302,     0.93325,     0.93348,     0.93371,     0.93395,     0.93418,     0.93441,     0.93464,     0.93488,     0.93511,     0.93534,     0.93557,      0.9358,     0.93615,     0.93672,      0.9373,     0.93788,     0.93845,\n",
      "            0.93903,      0.9396,     0.94018,     0.94061,     0.94068,     0.94074,     0.94081,     0.94087,     0.94093,       0.941,     0.94106,     0.94113,     0.94119,     0.94126,     0.94132,     0.94139,     0.94145,     0.94152,     0.94158,     0.94165,     0.94171,     0.94177,     0.94184,\n",
      "             0.9419,     0.94197,     0.94203,      0.9421,     0.94216,     0.94223,     0.94229,     0.94236,     0.94242,     0.94249,     0.94255,     0.94261,     0.94268,     0.94274,     0.94281,     0.94287,     0.94294,       0.943,     0.94307,     0.94313,      0.9432,     0.94326,     0.94333,\n",
      "            0.94339,     0.94345,     0.94352,     0.94358,     0.94365,     0.94371,     0.94378,     0.94384,     0.94391,     0.94397,     0.94404,      0.9441,     0.94417,     0.94423,     0.94429,     0.94436,     0.94442,     0.94449,     0.94455,     0.94462,     0.94468,     0.94475,     0.94481,\n",
      "            0.94488,     0.94494,       0.945,     0.94507,     0.94513,      0.9452,     0.94526,     0.94536,     0.94546,     0.94556,     0.94566,     0.94575,     0.94585,     0.94595,     0.94605,     0.94615,     0.94625,     0.94635,     0.94645,     0.94655,     0.94665,     0.94675,     0.94685,\n",
      "            0.94695,     0.94705,     0.94715,     0.94725,     0.94734,     0.94744,     0.94754,     0.94764,     0.94774,     0.94784,     0.94794,     0.94804,     0.94814,     0.94824,     0.94834,     0.94844,     0.94854,     0.94864,     0.94874,     0.94884,     0.94893,     0.94903,     0.94913,\n",
      "            0.94923,     0.94933,     0.94943,     0.94953,     0.94963,     0.94973,     0.94983,     0.94993,     0.94999,     0.94996,     0.94993,     0.94989,     0.94986,     0.94983,      0.9498,     0.94977,     0.94962,     0.94988,     0.95014,      0.9504,     0.95066,     0.95092,     0.95118,\n",
      "            0.95144,      0.9517,     0.95196,     0.95222,     0.95248,     0.95274,       0.953,     0.95326,     0.95352,     0.95378,     0.95404,      0.9543,     0.95429,     0.95427,     0.95425,     0.95423,     0.95421,     0.95419,     0.95416,     0.95414,     0.95412,      0.9541,     0.95406,\n",
      "            0.95394,     0.95378,      0.9536,     0.95358,     0.95357,     0.95355,     0.95353,     0.95351,     0.95349,     0.95347,     0.95345,     0.95343,     0.95341,     0.95339,     0.95338,     0.95336,     0.95335,     0.95334,     0.95333,     0.95332,     0.95331,      0.9533,     0.95329,\n",
      "            0.95328,     0.95327,     0.95326,     0.95325,     0.95324,     0.95324,     0.95323,     0.95322,     0.95321,      0.9532,     0.95319,     0.95318,     0.95317,     0.95316,     0.95315,     0.95314,     0.95313,     0.95321,     0.95333,     0.95344,     0.95356,     0.95368,      0.9538,\n",
      "            0.95392,     0.95403,     0.95415,     0.95427,     0.95439,      0.9545,     0.95462,     0.95474,     0.95486,     0.95497,     0.95509,     0.95521,     0.95533,     0.95544,     0.95556,     0.95568,      0.9558,     0.95591,     0.95603,     0.95615,     0.95627,     0.95638,      0.9565,\n",
      "            0.95662,     0.95674,     0.95686,     0.95697,     0.95709,     0.95721,     0.95733,     0.95744,     0.95756,     0.95768,      0.9578,     0.95791,     0.95803,     0.95811,     0.95809,     0.95808,     0.95806,     0.95804,     0.95803,     0.95801,     0.95799,     0.95798,     0.95796,\n",
      "            0.95794,     0.95793,     0.95791,     0.95789,     0.95786,     0.95783,     0.95781,     0.95778,     0.95775,     0.95772,     0.95769,     0.95766,     0.95762,     0.95758,     0.95753,     0.95749,     0.95745,     0.95744,     0.95743,     0.95743,     0.95742,     0.95742,     0.95741,\n",
      "             0.9574,      0.9574,     0.95739,     0.95738,     0.95738,     0.95737,     0.95737,     0.95736,     0.95735,     0.95735,     0.95734,     0.95733,     0.95733,     0.95732,     0.95731,     0.95731,      0.9573,      0.9573,     0.95729,     0.95728,     0.95728,     0.95727,     0.95726,\n",
      "            0.95726,     0.95725,     0.95725,     0.95724,     0.95723,     0.95723,     0.95722,     0.95717,     0.95712,     0.95707,     0.95702,     0.95698,     0.95696,     0.95695,     0.95693,     0.95691,      0.9569,     0.95688,     0.95686,     0.95685,     0.95683,     0.95681,     0.95679,\n",
      "            0.95678,     0.95676,     0.95672,     0.95667,     0.95662,     0.95657,     0.95653,      0.9565,     0.95647,     0.95644,     0.95642,     0.95639,     0.95636,     0.95633,     0.95631,     0.95628,     0.95626,     0.95623,     0.95621,     0.95618,     0.95616,     0.95613,     0.95611,\n",
      "            0.95608,     0.95606,     0.95595,     0.95578,     0.95573,     0.95568,     0.95563,     0.95558,     0.95546,     0.95913,     0.96065,      0.9606,     0.96056,     0.96051,     0.96047,     0.96081,     0.96132,     0.96183,     0.96233,     0.96284,     0.96335,     0.96386,     0.96437,\n",
      "            0.96488,     0.96538,     0.96589,     0.96588,     0.96585,     0.96582,      0.9658,     0.96577,     0.96574,     0.96598,     0.96788,     0.96977,     0.97126,     0.97122,     0.97118,     0.97114,      0.9711,     0.97091,     0.97084,     0.97077,     0.97073,      0.9707,     0.97067,\n",
      "            0.97064,      0.9706,     0.97053,     0.97041,     0.97038,     0.97035,     0.97032,     0.97029,     0.97026,     0.97022,     0.97013,     0.97004,     0.96994,     0.96982,     0.96963,     0.96944,     0.96898,     0.96877,     0.96868,      0.9686,     0.96956,     0.97166,     0.97375,\n",
      "            0.97467,     0.97463,      0.9746,     0.97457,     0.97453,     0.97441,     0.97402,     0.97397,     0.97392,     0.97387,     0.97347,     0.97335,     0.97275,     0.97266,     0.97256,     0.97247,     0.97876,     0.97907,     0.97899,     0.97893,     0.97887,     0.97876,     0.97866,\n",
      "            0.98033,     0.98517,     0.98492,     0.98472,     0.98464,     0.98452,     0.98421,     0.98416,     0.98408,     0.98382,      0.9837,     0.98361,     0.98345,     0.98339,     0.98333,     0.98305,     0.98295,     0.98272,     0.98264,     0.98256,     0.98248,     0.98181,     0.98174,\n",
      "            0.98167,     0.98157,     0.98139,     0.98124,     0.98115,     0.98089,     0.98063,     0.98032,     0.97983,     0.97967,     0.97939,      0.9785,     0.97789,     0.97744,     0.97697,     0.97642,     0.97607,     0.97557,     0.97457,      0.9733,     0.97311,     0.97213,     0.97161,\n",
      "            0.97096,     0.97079,     0.97061,     0.98107,      0.9844,     0.98376,     0.99077,           1,           1,           1,           1,           1,           1,           1,           1,           1,           1,           1,           1,           1,           1,           1,           1,\n",
      "                  1,           1,           1,           1,           1,           1,           1,           1,           1,           1,           1,           1,           1,           1,           1,           1,           1,           1,           1,           1,           1,           1,           1,\n",
      "                  1,           1,           1,           1,           1,           1,           1,           1,           1,           1,           1,           1,           1,           1,           1,           1,           1,           1,           1,           1,           1,           1,           1,\n",
      "                  1,           1,           1,           1,           1,           1,           1,           1,           1,           1,           1,           1,           1,           1,           1,           1,           1,           1,           1,           1,           1,           1,           1,\n",
      "                  1,           1,           1,           1,           1,           1,           1,           1,           1,           1,           1,           1,           1,           1,           1,           1,           1,           1,           1,           1,           1,           1,           1,\n",
      "                  1,           1,           1,           1,           1,           1,           1,           1,           1,           1,           1,           1,           1,           1,           1,           1,           1,           1,           1,           1,           1,           1,           1,\n",
      "                  1,           1,           1,           1,           1,           1,           1,           1,           1,           1,           1]]), 'Confidence', 'Precision'], [array([          0,    0.001001,    0.002002,    0.003003,    0.004004,    0.005005,    0.006006,    0.007007,    0.008008,    0.009009,     0.01001,    0.011011,    0.012012,    0.013013,    0.014014,    0.015015,    0.016016,    0.017017,    0.018018,    0.019019,     0.02002,    0.021021,    0.022022,    0.023023,\n",
      "          0.024024,    0.025025,    0.026026,    0.027027,    0.028028,    0.029029,     0.03003,    0.031031,    0.032032,    0.033033,    0.034034,    0.035035,    0.036036,    0.037037,    0.038038,    0.039039,     0.04004,    0.041041,    0.042042,    0.043043,    0.044044,    0.045045,    0.046046,    0.047047,\n",
      "          0.048048,    0.049049,     0.05005,    0.051051,    0.052052,    0.053053,    0.054054,    0.055055,    0.056056,    0.057057,    0.058058,    0.059059,     0.06006,    0.061061,    0.062062,    0.063063,    0.064064,    0.065065,    0.066066,    0.067067,    0.068068,    0.069069,     0.07007,    0.071071,\n",
      "          0.072072,    0.073073,    0.074074,    0.075075,    0.076076,    0.077077,    0.078078,    0.079079,     0.08008,    0.081081,    0.082082,    0.083083,    0.084084,    0.085085,    0.086086,    0.087087,    0.088088,    0.089089,     0.09009,    0.091091,    0.092092,    0.093093,    0.094094,    0.095095,\n",
      "          0.096096,    0.097097,    0.098098,    0.099099,      0.1001,      0.1011,      0.1021,      0.1031,      0.1041,     0.10511,     0.10611,     0.10711,     0.10811,     0.10911,     0.11011,     0.11111,     0.11211,     0.11311,     0.11411,     0.11512,     0.11612,     0.11712,     0.11812,     0.11912,\n",
      "           0.12012,     0.12112,     0.12212,     0.12312,     0.12412,     0.12513,     0.12613,     0.12713,     0.12813,     0.12913,     0.13013,     0.13113,     0.13213,     0.13313,     0.13413,     0.13514,     0.13614,     0.13714,     0.13814,     0.13914,     0.14014,     0.14114,     0.14214,     0.14314,\n",
      "           0.14414,     0.14515,     0.14615,     0.14715,     0.14815,     0.14915,     0.15015,     0.15115,     0.15215,     0.15315,     0.15415,     0.15516,     0.15616,     0.15716,     0.15816,     0.15916,     0.16016,     0.16116,     0.16216,     0.16316,     0.16416,     0.16517,     0.16617,     0.16717,\n",
      "           0.16817,     0.16917,     0.17017,     0.17117,     0.17217,     0.17317,     0.17417,     0.17518,     0.17618,     0.17718,     0.17818,     0.17918,     0.18018,     0.18118,     0.18218,     0.18318,     0.18418,     0.18519,     0.18619,     0.18719,     0.18819,     0.18919,     0.19019,     0.19119,\n",
      "           0.19219,     0.19319,     0.19419,      0.1952,      0.1962,      0.1972,      0.1982,      0.1992,      0.2002,      0.2012,      0.2022,      0.2032,      0.2042,     0.20521,     0.20621,     0.20721,     0.20821,     0.20921,     0.21021,     0.21121,     0.21221,     0.21321,     0.21421,     0.21522,\n",
      "           0.21622,     0.21722,     0.21822,     0.21922,     0.22022,     0.22122,     0.22222,     0.22322,     0.22422,     0.22523,     0.22623,     0.22723,     0.22823,     0.22923,     0.23023,     0.23123,     0.23223,     0.23323,     0.23423,     0.23524,     0.23624,     0.23724,     0.23824,     0.23924,\n",
      "           0.24024,     0.24124,     0.24224,     0.24324,     0.24424,     0.24525,     0.24625,     0.24725,     0.24825,     0.24925,     0.25025,     0.25125,     0.25225,     0.25325,     0.25425,     0.25526,     0.25626,     0.25726,     0.25826,     0.25926,     0.26026,     0.26126,     0.26226,     0.26326,\n",
      "           0.26426,     0.26527,     0.26627,     0.26727,     0.26827,     0.26927,     0.27027,     0.27127,     0.27227,     0.27327,     0.27427,     0.27528,     0.27628,     0.27728,     0.27828,     0.27928,     0.28028,     0.28128,     0.28228,     0.28328,     0.28428,     0.28529,     0.28629,     0.28729,\n",
      "           0.28829,     0.28929,     0.29029,     0.29129,     0.29229,     0.29329,     0.29429,      0.2953,      0.2963,      0.2973,      0.2983,      0.2993,      0.3003,      0.3013,      0.3023,      0.3033,      0.3043,     0.30531,     0.30631,     0.30731,     0.30831,     0.30931,     0.31031,     0.31131,\n",
      "           0.31231,     0.31331,     0.31431,     0.31532,     0.31632,     0.31732,     0.31832,     0.31932,     0.32032,     0.32132,     0.32232,     0.32332,     0.32432,     0.32533,     0.32633,     0.32733,     0.32833,     0.32933,     0.33033,     0.33133,     0.33233,     0.33333,     0.33433,     0.33534,\n",
      "           0.33634,     0.33734,     0.33834,     0.33934,     0.34034,     0.34134,     0.34234,     0.34334,     0.34434,     0.34535,     0.34635,     0.34735,     0.34835,     0.34935,     0.35035,     0.35135,     0.35235,     0.35335,     0.35435,     0.35536,     0.35636,     0.35736,     0.35836,     0.35936,\n",
      "           0.36036,     0.36136,     0.36236,     0.36336,     0.36436,     0.36537,     0.36637,     0.36737,     0.36837,     0.36937,     0.37037,     0.37137,     0.37237,     0.37337,     0.37437,     0.37538,     0.37638,     0.37738,     0.37838,     0.37938,     0.38038,     0.38138,     0.38238,     0.38338,\n",
      "           0.38438,     0.38539,     0.38639,     0.38739,     0.38839,     0.38939,     0.39039,     0.39139,     0.39239,     0.39339,     0.39439,      0.3954,      0.3964,      0.3974,      0.3984,      0.3994,      0.4004,      0.4014,      0.4024,      0.4034,      0.4044,     0.40541,     0.40641,     0.40741,\n",
      "           0.40841,     0.40941,     0.41041,     0.41141,     0.41241,     0.41341,     0.41441,     0.41542,     0.41642,     0.41742,     0.41842,     0.41942,     0.42042,     0.42142,     0.42242,     0.42342,     0.42442,     0.42543,     0.42643,     0.42743,     0.42843,     0.42943,     0.43043,     0.43143,\n",
      "           0.43243,     0.43343,     0.43443,     0.43544,     0.43644,     0.43744,     0.43844,     0.43944,     0.44044,     0.44144,     0.44244,     0.44344,     0.44444,     0.44545,     0.44645,     0.44745,     0.44845,     0.44945,     0.45045,     0.45145,     0.45245,     0.45345,     0.45445,     0.45546,\n",
      "           0.45646,     0.45746,     0.45846,     0.45946,     0.46046,     0.46146,     0.46246,     0.46346,     0.46446,     0.46547,     0.46647,     0.46747,     0.46847,     0.46947,     0.47047,     0.47147,     0.47247,     0.47347,     0.47447,     0.47548,     0.47648,     0.47748,     0.47848,     0.47948,\n",
      "           0.48048,     0.48148,     0.48248,     0.48348,     0.48448,     0.48549,     0.48649,     0.48749,     0.48849,     0.48949,     0.49049,     0.49149,     0.49249,     0.49349,     0.49449,      0.4955,      0.4965,      0.4975,      0.4985,      0.4995,      0.5005,      0.5015,      0.5025,      0.5035,\n",
      "            0.5045,     0.50551,     0.50651,     0.50751,     0.50851,     0.50951,     0.51051,     0.51151,     0.51251,     0.51351,     0.51451,     0.51552,     0.51652,     0.51752,     0.51852,     0.51952,     0.52052,     0.52152,     0.52252,     0.52352,     0.52452,     0.52553,     0.52653,     0.52753,\n",
      "           0.52853,     0.52953,     0.53053,     0.53153,     0.53253,     0.53353,     0.53453,     0.53554,     0.53654,     0.53754,     0.53854,     0.53954,     0.54054,     0.54154,     0.54254,     0.54354,     0.54454,     0.54555,     0.54655,     0.54755,     0.54855,     0.54955,     0.55055,     0.55155,\n",
      "           0.55255,     0.55355,     0.55455,     0.55556,     0.55656,     0.55756,     0.55856,     0.55956,     0.56056,     0.56156,     0.56256,     0.56356,     0.56456,     0.56557,     0.56657,     0.56757,     0.56857,     0.56957,     0.57057,     0.57157,     0.57257,     0.57357,     0.57457,     0.57558,\n",
      "           0.57658,     0.57758,     0.57858,     0.57958,     0.58058,     0.58158,     0.58258,     0.58358,     0.58458,     0.58559,     0.58659,     0.58759,     0.58859,     0.58959,     0.59059,     0.59159,     0.59259,     0.59359,     0.59459,      0.5956,      0.5966,      0.5976,      0.5986,      0.5996,\n",
      "            0.6006,      0.6016,      0.6026,      0.6036,      0.6046,     0.60561,     0.60661,     0.60761,     0.60861,     0.60961,     0.61061,     0.61161,     0.61261,     0.61361,     0.61461,     0.61562,     0.61662,     0.61762,     0.61862,     0.61962,     0.62062,     0.62162,     0.62262,     0.62362,\n",
      "           0.62462,     0.62563,     0.62663,     0.62763,     0.62863,     0.62963,     0.63063,     0.63163,     0.63263,     0.63363,     0.63463,     0.63564,     0.63664,     0.63764,     0.63864,     0.63964,     0.64064,     0.64164,     0.64264,     0.64364,     0.64464,     0.64565,     0.64665,     0.64765,\n",
      "           0.64865,     0.64965,     0.65065,     0.65165,     0.65265,     0.65365,     0.65465,     0.65566,     0.65666,     0.65766,     0.65866,     0.65966,     0.66066,     0.66166,     0.66266,     0.66366,     0.66466,     0.66567,     0.66667,     0.66767,     0.66867,     0.66967,     0.67067,     0.67167,\n",
      "           0.67267,     0.67367,     0.67467,     0.67568,     0.67668,     0.67768,     0.67868,     0.67968,     0.68068,     0.68168,     0.68268,     0.68368,     0.68468,     0.68569,     0.68669,     0.68769,     0.68869,     0.68969,     0.69069,     0.69169,     0.69269,     0.69369,     0.69469,      0.6957,\n",
      "            0.6967,      0.6977,      0.6987,      0.6997,      0.7007,      0.7017,      0.7027,      0.7037,      0.7047,     0.70571,     0.70671,     0.70771,     0.70871,     0.70971,     0.71071,     0.71171,     0.71271,     0.71371,     0.71471,     0.71572,     0.71672,     0.71772,     0.71872,     0.71972,\n",
      "           0.72072,     0.72172,     0.72272,     0.72372,     0.72472,     0.72573,     0.72673,     0.72773,     0.72873,     0.72973,     0.73073,     0.73173,     0.73273,     0.73373,     0.73473,     0.73574,     0.73674,     0.73774,     0.73874,     0.73974,     0.74074,     0.74174,     0.74274,     0.74374,\n",
      "           0.74474,     0.74575,     0.74675,     0.74775,     0.74875,     0.74975,     0.75075,     0.75175,     0.75275,     0.75375,     0.75475,     0.75576,     0.75676,     0.75776,     0.75876,     0.75976,     0.76076,     0.76176,     0.76276,     0.76376,     0.76476,     0.76577,     0.76677,     0.76777,\n",
      "           0.76877,     0.76977,     0.77077,     0.77177,     0.77277,     0.77377,     0.77477,     0.77578,     0.77678,     0.77778,     0.77878,     0.77978,     0.78078,     0.78178,     0.78278,     0.78378,     0.78478,     0.78579,     0.78679,     0.78779,     0.78879,     0.78979,     0.79079,     0.79179,\n",
      "           0.79279,     0.79379,     0.79479,      0.7958,      0.7968,      0.7978,      0.7988,      0.7998,      0.8008,      0.8018,      0.8028,      0.8038,      0.8048,     0.80581,     0.80681,     0.80781,     0.80881,     0.80981,     0.81081,     0.81181,     0.81281,     0.81381,     0.81481,     0.81582,\n",
      "           0.81682,     0.81782,     0.81882,     0.81982,     0.82082,     0.82182,     0.82282,     0.82382,     0.82482,     0.82583,     0.82683,     0.82783,     0.82883,     0.82983,     0.83083,     0.83183,     0.83283,     0.83383,     0.83483,     0.83584,     0.83684,     0.83784,     0.83884,     0.83984,\n",
      "           0.84084,     0.84184,     0.84284,     0.84384,     0.84484,     0.84585,     0.84685,     0.84785,     0.84885,     0.84985,     0.85085,     0.85185,     0.85285,     0.85385,     0.85485,     0.85586,     0.85686,     0.85786,     0.85886,     0.85986,     0.86086,     0.86186,     0.86286,     0.86386,\n",
      "           0.86486,     0.86587,     0.86687,     0.86787,     0.86887,     0.86987,     0.87087,     0.87187,     0.87287,     0.87387,     0.87487,     0.87588,     0.87688,     0.87788,     0.87888,     0.87988,     0.88088,     0.88188,     0.88288,     0.88388,     0.88488,     0.88589,     0.88689,     0.88789,\n",
      "           0.88889,     0.88989,     0.89089,     0.89189,     0.89289,     0.89389,     0.89489,      0.8959,      0.8969,      0.8979,      0.8989,      0.8999,      0.9009,      0.9019,      0.9029,      0.9039,      0.9049,     0.90591,     0.90691,     0.90791,     0.90891,     0.90991,     0.91091,     0.91191,\n",
      "           0.91291,     0.91391,     0.91491,     0.91592,     0.91692,     0.91792,     0.91892,     0.91992,     0.92092,     0.92192,     0.92292,     0.92392,     0.92492,     0.92593,     0.92693,     0.92793,     0.92893,     0.92993,     0.93093,     0.93193,     0.93293,     0.93393,     0.93493,     0.93594,\n",
      "           0.93694,     0.93794,     0.93894,     0.93994,     0.94094,     0.94194,     0.94294,     0.94394,     0.94494,     0.94595,     0.94695,     0.94795,     0.94895,     0.94995,     0.95095,     0.95195,     0.95295,     0.95395,     0.95495,     0.95596,     0.95696,     0.95796,     0.95896,     0.95996,\n",
      "           0.96096,     0.96196,     0.96296,     0.96396,     0.96496,     0.96597,     0.96697,     0.96797,     0.96897,     0.96997,     0.97097,     0.97197,     0.97297,     0.97397,     0.97497,     0.97598,     0.97698,     0.97798,     0.97898,     0.97998,     0.98098,     0.98198,     0.98298,     0.98398,\n",
      "           0.98498,     0.98599,     0.98699,     0.98799,     0.98899,     0.98999,     0.99099,     0.99199,     0.99299,     0.99399,     0.99499,       0.996,       0.997,       0.998,       0.999,           1]), array([[      0.965,       0.965,       0.965,       0.965,       0.965,       0.965,       0.965,       0.965,       0.965,       0.965,        0.96,        0.96,        0.96,        0.96,        0.96,        0.96,        0.96,        0.96,        0.96,        0.96,        0.96,        0.96,        0.96,\n",
      "               0.96,        0.96,        0.96,        0.96,        0.96,        0.96,        0.96,        0.96,        0.96,        0.96,        0.96,        0.96,        0.96,        0.96,        0.96,        0.96,        0.96,        0.96,        0.96,        0.96,        0.96,        0.96,        0.96,\n",
      "               0.96,        0.96,        0.96,        0.96,        0.96,        0.96,        0.96,        0.96,        0.96,        0.96,        0.96,        0.96,        0.96,        0.96,        0.96,        0.96,        0.96,        0.96,        0.96,        0.96,        0.96,        0.96,        0.96,\n",
      "               0.96,        0.96,        0.96,        0.96,        0.96,        0.96,        0.96,        0.96,        0.96,        0.96,        0.96,        0.96,        0.96,        0.96,        0.96,        0.96,        0.96,        0.96,        0.96,        0.96,        0.96,        0.96,        0.96,\n",
      "               0.96,        0.96,        0.96,        0.96,        0.96,        0.96,        0.96,        0.96,        0.96,        0.96,        0.96,        0.96,        0.96,        0.96,        0.96,        0.96,        0.96,        0.96,        0.96,        0.96,        0.96,        0.96,        0.96,\n",
      "               0.96,        0.96,        0.96,        0.96,        0.96,        0.96,        0.96,        0.96,        0.96,        0.96,        0.96,        0.96,        0.96,        0.96,        0.96,        0.96,        0.96,        0.96,        0.96,        0.96,        0.96,        0.96,        0.96,\n",
      "               0.96,        0.96,        0.96,        0.96,        0.96,        0.96,        0.96,        0.96,        0.96,        0.96,        0.96,        0.96,        0.96,        0.96,        0.96,        0.96,        0.96,        0.96,        0.96,        0.96,        0.96,        0.96,        0.96,\n",
      "               0.96,        0.96,        0.96,        0.96,        0.96,        0.96,        0.96,        0.96,        0.96,        0.96,        0.96,        0.96,        0.96,        0.96,        0.96,        0.96,        0.96,        0.96,        0.96,        0.96,        0.96,        0.96,        0.96,\n",
      "               0.96,        0.96,        0.96,        0.96,        0.96,        0.96,        0.96,        0.96,        0.96,        0.96,        0.96,        0.96,        0.96,        0.96,        0.96,        0.96,        0.96,        0.96,        0.96,        0.96,        0.96,        0.96,        0.96,\n",
      "               0.96,        0.96,        0.96,        0.96,        0.96,        0.96,        0.96,        0.96,        0.96,        0.96,        0.96,        0.96,        0.96,        0.96,        0.96,        0.96,        0.96,        0.96,        0.96,        0.96,        0.96,        0.96,        0.96,\n",
      "               0.96,        0.96,        0.96,        0.96,        0.96,     0.95997,     0.95975,     0.95953,      0.9593,     0.95908,     0.95886,     0.95863,     0.95841,     0.95819,     0.95797,     0.95774,     0.95752,      0.9573,     0.95707,     0.95685,     0.95663,     0.95641,     0.95618,\n",
      "            0.95596,     0.95574,     0.95551,     0.95529,     0.95507,     0.95465,     0.95413,     0.95362,     0.95311,      0.9526,     0.95208,     0.95157,     0.95106,     0.95055,     0.95003,        0.95,        0.95,        0.95,        0.95,        0.95,        0.95,        0.95,        0.95,\n",
      "               0.95,        0.95,        0.95,        0.95,        0.95,        0.95,        0.95,        0.95,        0.95,        0.95,        0.95,        0.95,        0.95,        0.95,        0.95,        0.95,        0.95,        0.95,        0.95,        0.95,        0.95,        0.95,        0.95,\n",
      "               0.95,        0.95,        0.95,        0.95,        0.95,        0.95,        0.95,        0.95,        0.95,        0.95,        0.95,        0.95,        0.95,        0.95,        0.95,        0.95,        0.95,        0.95,        0.95,        0.95,        0.95,        0.95,        0.95,\n",
      "               0.95,        0.95,        0.95,        0.95,        0.95,        0.95,        0.95,        0.95,        0.95,        0.95,        0.95,        0.95,        0.95,        0.95,        0.95,        0.95,        0.95,        0.95,        0.95,        0.95,        0.95,        0.95,        0.95,\n",
      "               0.95,        0.95,        0.95,        0.95,        0.95,        0.95,        0.95,        0.95,        0.95,        0.95,        0.95,        0.95,        0.95,        0.95,        0.95,        0.95,        0.95,        0.95,        0.95,        0.95,        0.95,        0.95,        0.95,\n",
      "               0.95,        0.95,        0.95,        0.95,        0.95,        0.95,        0.95,        0.95,        0.95,        0.95,        0.95,        0.95,        0.95,        0.95,        0.95,        0.95,        0.95,        0.95,        0.95,        0.95,        0.95,        0.95,        0.95,\n",
      "               0.95,        0.95,        0.95,        0.95,        0.95,        0.95,        0.95,        0.95,        0.95,        0.95,        0.95,        0.95,        0.95,        0.95,        0.95,        0.95,        0.95,        0.95,        0.95,        0.95,        0.95,        0.95,        0.95,\n",
      "               0.95,        0.95,        0.95,        0.95,        0.95,        0.95,        0.95,        0.95,        0.95,        0.95,        0.95,        0.95,        0.95,        0.95,        0.95,        0.95,        0.95,        0.95,        0.95,        0.95,        0.95,        0.95,        0.95,\n",
      "               0.95,        0.95,        0.95,        0.95,        0.95,        0.95,        0.95,        0.95,        0.95,        0.95,        0.95,        0.95,        0.95,        0.95,        0.95,        0.95,        0.95,        0.95,        0.95,        0.95,        0.95,        0.95,        0.95,\n",
      "               0.95,        0.95,        0.95,        0.95,        0.95,        0.95,        0.95,        0.95,        0.95,        0.95,        0.95,        0.95,        0.95,        0.95,        0.95,        0.95,        0.95,        0.95,        0.95,        0.95,        0.95,        0.95,        0.95,\n",
      "               0.95,        0.95,        0.95,        0.95,        0.95,        0.95,        0.95,        0.95,     0.94982,     0.94918,     0.94854,      0.9479,     0.94726,     0.94662,     0.94598,     0.94534,        0.94,        0.94,        0.94,        0.94,        0.94,        0.94,        0.94,\n",
      "               0.94,        0.94,        0.94,        0.94,        0.94,        0.94,        0.94,        0.94,        0.94,        0.94,        0.94,        0.94,     0.93956,      0.9391,     0.93863,     0.93816,      0.9377,     0.93723,     0.93677,      0.9363,     0.93583,     0.93537,     0.93447,\n",
      "             0.9319,     0.92868,     0.92489,     0.92449,      0.9241,     0.92371,     0.92331,     0.92292,     0.92252,     0.92213,     0.92174,     0.92134,     0.92095,     0.92055,     0.92016,     0.91988,     0.91968,     0.91948,     0.91928,     0.91908,     0.91887,     0.91867,     0.91847,\n",
      "            0.91827,     0.91807,     0.91787,     0.91767,     0.91747,     0.91727,     0.91707,     0.91686,     0.91666,     0.91646,     0.91626,     0.91606,     0.91586,     0.91566,     0.91546,     0.91526,     0.91506,       0.915,       0.915,       0.915,       0.915,       0.915,       0.915,\n",
      "              0.915,       0.915,       0.915,       0.915,       0.915,       0.915,       0.915,       0.915,       0.915,       0.915,       0.915,       0.915,       0.915,       0.915,       0.915,       0.915,       0.915,       0.915,       0.915,       0.915,       0.915,       0.915,       0.915,\n",
      "              0.915,       0.915,       0.915,       0.915,       0.915,       0.915,       0.915,       0.915,       0.915,       0.915,       0.915,       0.915,       0.915,     0.91489,     0.91451,     0.91413,     0.91375,     0.91337,     0.91299,     0.91261,     0.91224,     0.91186,     0.91148,\n",
      "             0.9111,     0.91072,     0.91034,     0.90993,     0.90929,     0.90865,     0.90801,     0.90737,     0.90672,     0.90608,     0.90544,     0.90471,     0.90378,     0.90285,     0.90192,     0.90099,     0.90005,     0.89987,     0.89973,     0.89959,     0.89945,     0.89932,     0.89918,\n",
      "            0.89904,      0.8989,     0.89876,     0.89862,     0.89848,     0.89835,     0.89821,     0.89807,     0.89793,     0.89779,     0.89765,     0.89751,     0.89738,     0.89724,      0.8971,     0.89696,     0.89682,     0.89668,     0.89655,     0.89641,     0.89627,     0.89613,     0.89599,\n",
      "            0.89585,     0.89571,     0.89558,     0.89544,      0.8953,     0.89516,     0.89502,     0.89404,      0.8929,     0.89176,     0.89062,     0.88983,     0.88947,      0.8891,     0.88873,     0.88837,       0.888,     0.88764,     0.88727,      0.8869,     0.88654,     0.88617,     0.88581,\n",
      "            0.88544,     0.88507,     0.88418,     0.88316,     0.88213,     0.88111,     0.88008,     0.87948,     0.87891,     0.87834,     0.87777,      0.8772,     0.87663,     0.87606,     0.87549,     0.87493,     0.87442,      0.8739,     0.87339,     0.87288,     0.87237,     0.87185,     0.87134,\n",
      "            0.87083,     0.87032,     0.86804,     0.86458,     0.86356,     0.86253,     0.86151,     0.86048,       0.855,       0.855,     0.85441,     0.85338,     0.85236,     0.85133,     0.85031,        0.85,        0.85,        0.85,        0.85,        0.85,        0.85,        0.85,        0.85,\n",
      "               0.85,        0.85,        0.85,     0.84929,     0.84856,     0.84783,     0.84709,     0.84636,     0.84563,       0.845,       0.845,       0.845,     0.84476,     0.84362,     0.84248,     0.84134,      0.8402,     0.83431,     0.83226,     0.83021,     0.82916,     0.82823,      0.8273,\n",
      "            0.82637,     0.82544,     0.82319,     0.81994,     0.81909,     0.81823,     0.81738,     0.81653,     0.81567,     0.81445,     0.81189,     0.80933,     0.80676,      0.8034,     0.79828,     0.79315,     0.78106,      0.7754,     0.77311,     0.77106,        0.77,        0.77,        0.77,\n",
      "            0.76943,     0.76841,     0.76738,     0.76636,     0.76533,     0.76153,     0.74969,     0.74822,     0.74676,     0.74529,     0.73393,     0.73052,     0.71408,     0.71151,     0.70895,     0.70639,       0.705,     0.70168,     0.69896,     0.69691,     0.69477,     0.69135,     0.68793,\n",
      "              0.675,     0.66415,     0.65305,     0.64427,     0.64085,     0.63615,     0.62341,     0.62136,     0.61827,     0.60815,     0.60368,     0.60027,     0.59411,     0.59206,     0.59001,     0.57993,     0.57651,     0.56857,     0.56601,     0.56345,     0.56089,     0.53966,     0.53761,\n",
      "            0.53556,     0.53251,     0.52729,     0.52301,     0.52045,     0.51327,     0.50629,     0.49802,     0.48579,     0.48185,     0.47529,     0.45504,     0.44239,     0.43318,     0.42429,     0.41404,     0.40793,     0.39927,     0.38329,     0.36451,     0.36195,     0.34877,     0.34229,\n",
      "            0.33441,     0.33236,     0.33031,       0.325,     0.31552,     0.30289,       0.295,     0.29029,     0.28668,     0.27978,     0.26453,     0.23428,     0.22476,      0.2222,     0.21427,     0.20828,     0.20152,     0.18778,     0.18127,     0.15228,     0.14602,     0.12178,     0.11413,\n",
      "            0.11157,     0.10103,     0.09039,    0.080531,     0.07757,    0.075008,    0.071593,     0.06453,    0.054856,    0.052806,    0.050756,    0.044706,    0.042656,    0.040606,    0.039278,    0.038253,    0.037228,    0.036203,    0.035178,    0.032882,    0.030319,    0.027757,    0.025194,\n",
      "           0.022631,    0.020069,    0.018338,    0.016629,    0.014957,    0.014025,    0.013093,    0.012161,    0.011229,    0.010298,   0.0098658,   0.0096687,   0.0094716,   0.0092745,   0.0090773,   0.0088802,   0.0086831,    0.008486,   0.0082889,   0.0080917,   0.0078946,   0.0076975,   0.0075004,\n",
      "          0.0073033,   0.0071061,    0.006909,   0.0067119,   0.0065148,   0.0063177,   0.0061205,   0.0059234,   0.0057263,   0.0055292,   0.0053321,   0.0051349,           0,           0,           0,           0,           0,           0,           0,           0,           0,           0,           0,\n",
      "                  0,           0,           0,           0,           0,           0,           0,           0,           0,           0,           0,           0,           0,           0,           0,           0,           0,           0,           0,           0,           0,           0,           0,\n",
      "                  0,           0,           0,           0,           0,           0,           0,           0,           0,           0,           0,           0,           0,           0,           0,           0,           0,           0,           0,           0,           0,           0,           0,\n",
      "                  0,           0,           0,           0,           0,           0,           0,           0,           0,           0,           0]]), 'Confidence', 'Recall']]\n",
      "fitness: 0.7715928630017054\n",
      "keys: ['metrics/precision(B)', 'metrics/recall(B)', 'metrics/mAP50(B)', 'metrics/mAP50-95(B)']\n",
      "maps: array([    0.75163])\n",
      "names: {0: 'license_plate'}\n",
      "plot: True\n",
      "results_dict: {'metrics/precision(B)': 0.945754626932073, 'metrics/recall(B)': 0.95, 'metrics/mAP50(B)': 0.9512254526140216, 'metrics/mAP50-95(B)': 0.7516336863781147, 'fitness': 0.7715928630017054}\n",
      "save_dir: PosixPath('yolov8_training/exp2')\n",
      "speed: {'preprocess': 0.09049296379089355, 'inference': 1.7180371284484863, 'loss': 0.00027179718017578125, 'postprocess': 0.7895565032958984}\n",
      "task: 'detect'\n"
     ]
    }
   ],
   "source": [
    "import os\n",
    "from ultralytics import YOLO\n",
    "\n",
    "# Set the path to your dataset YAML file\n",
    "data_yaml_path = \"/home/jovyan/AI Project/dataset.yaml\"  # Make sure this path is correct\n",
    "\n",
    "model = YOLO(\"yolov8s.pt\")  # or \"yolov8s.pt\", \"yolov8m.pt\", etc.\n",
    "\n",
    "# Display model information\n",
    "model.info()\n",
    "\n",
    "# Train the model\n",
    "results = model.train(\n",
    "    data=data_yaml_path,\n",
    "    epochs=30,             # Set the number of training epochs\n",
    "    imgsz=640,             # Image size for training\n",
    "    device='cuda',         # Set to 'cuda' to use the default GPU\n",
    "    project='yolov8_training',  # Name of the project directory to save results\n",
    "    name='exp',            # Name of the experiment\n",
    "    batch=16,              # Set the batch size (adjust based on your GPU memory)\n",
    "    workers=4,             # Number of worker threads for data loading\n",
    "    verbose=False  \n",
    ")\n",
    "\n",
    "# Optionally, print training results\n",
    "print(results)\n"
   ]
  }
 ],
 "metadata": {
  "kernelspec": {
   "display_name": "Python 3 (ipykernel)",
   "language": "python",
   "name": "python3"
  },
  "language_info": {
   "codemirror_mode": {
    "name": "ipython",
    "version": 3
   },
   "file_extension": ".py",
   "mimetype": "text/x-python",
   "name": "python",
   "nbconvert_exporter": "python",
   "pygments_lexer": "ipython3",
   "version": "3.10.12"
  }
 },
 "nbformat": 4,
 "nbformat_minor": 5
}
