{
 "cells": [
  {
   "cell_type": "code",
   "execution_count": 2,
   "id": "200a1174-39ad-479e-9e53-c3ffb6460e76",
   "metadata": {},
   "outputs": [
    {
     "name": "stdout",
     "output_type": "stream",
     "text": [
      "Dataset split and organization completed successfully!\n"
     ]
    }
   ],
   "source": [
    "import os\n",
    "import random\n",
    "import shutil\n",
    "# Paths\n",
    "\n",
    "\n",
    "dataset_folder = '/media/asmany/e054e025-4de0-482e-bf54-4fb67a1e5566/Hof University/AI Project/dataset/'  # Replace with your dataset path\n",
    "output_folder = '/media/asmany/e054e025-4de0-482e-bf54-4fb67a1e5566/Hof University/AI Project/licence plate dataset/'  # Replace with your output folder path\n",
    "\n",
    "# Create directories for the split datasets\n",
    "train_image_dir = os.path.join(output_folder, 'train', 'images')\n",
    "train_label_dir = os.path.join(output_folder, 'train', 'labels')\n",
    "val_image_dir = os.path.join(output_folder, 'val', 'images')\n",
    "val_label_dir = os.path.join(output_folder, 'val', 'labels')\n",
    "test_image_dir = os.path.join(output_folder, 'test', 'images')\n",
    "test_label_dir = os.path.join(output_folder, 'test', 'labels')\n",
    "\n",
    "# Create all directories if they do not exist\n",
    "os.makedirs(train_image_dir, exist_ok=True)\n",
    "os.makedirs(train_label_dir, exist_ok=True)\n",
    "os.makedirs(val_image_dir, exist_ok=True)\n",
    "os.makedirs(val_label_dir, exist_ok=True)\n",
    "os.makedirs(test_image_dir, exist_ok=True)\n",
    "os.makedirs(test_label_dir, exist_ok=True)\n",
    "\n",
    "# List all images and annotations\n",
    "all_files = [f for f in os.listdir(dataset_folder) if f.endswith('.jpg')]\n",
    "total_images = len(all_files)\n",
    "\n",
    "# Define split sizes\n",
    "train_size = int(total_images * 0.7)\n",
    "val_size = int(total_images * 0.2)\n",
    "test_size = total_images - train_size - val_size  # Remainder goes to test\n",
    "\n",
    "# Randomly shuffle files\n",
    "random.shuffle(all_files)\n",
    "\n",
    "# Split into train, validation, and test\n",
    "train_files = all_files[:train_size]\n",
    "val_files = all_files[train_size:train_size + val_size]\n",
    "test_files = all_files[train_size + val_size:]\n",
    "\n",
    "def move_files(file_list, image_dir, label_dir):\n",
    "    for file_name in file_list:\n",
    "        # Define paths for image and corresponding annotation\n",
    "        image_path = os.path.join(dataset_folder, file_name)\n",
    "        annotation_path = os.path.join(dataset_folder, os.path.splitext(file_name)[0] + '.txt')\n",
    "        \n",
    "        # Destination paths\n",
    "        dest_image_path = os.path.join(image_dir, file_name)\n",
    "        dest_label_path = os.path.join(label_dir, os.path.basename(annotation_path))\n",
    "        \n",
    "        # Move files to respective folders\n",
    "        if os.path.exists(image_path):\n",
    "            shutil.copy(image_path, dest_image_path)\n",
    "        if os.path.exists(annotation_path):\n",
    "            shutil.copy(annotation_path, dest_label_path)\n",
    "\n",
    "# Move files to the corresponding folders\n",
    "move_files(train_files, train_image_dir, train_label_dir)\n",
    "move_files(val_files, val_image_dir, val_label_dir)\n",
    "move_files(test_files, test_image_dir, test_label_dir)\n",
    "\n",
    "print(\"Dataset split and organization completed successfully!\")\n"
   ]
  },
  {
   "cell_type": "code",
   "execution_count": null,
   "id": "08f2d9f2-fcb4-446d-8368-4abfa496dbcb",
   "metadata": {},
   "outputs": [],
   "source": []
  }
 ],
 "metadata": {
  "kernelspec": {
   "display_name": "Python 3 (ipykernel)",
   "language": "python",
   "name": "python3"
  },
  "language_info": {
   "codemirror_mode": {
    "name": "ipython",
    "version": 3
   },
   "file_extension": ".py",
   "mimetype": "text/x-python",
   "name": "python",
   "nbconvert_exporter": "python",
   "pygments_lexer": "ipython3",
   "version": "3.10.12"
  }
 },
 "nbformat": 4,
 "nbformat_minor": 5
}
